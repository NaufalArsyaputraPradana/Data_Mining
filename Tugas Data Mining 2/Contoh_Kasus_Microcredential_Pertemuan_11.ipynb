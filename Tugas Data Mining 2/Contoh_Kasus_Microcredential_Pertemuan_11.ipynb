{
  "cells": [
    {
      "cell_type": "code",
      "execution_count": 12,
      "metadata": {
        "id": "FU2zNKj650Nf"
      },
      "outputs": [],
      "source": [
        "import pandas as pd\n",
        "import numpy as np\n",
        "import matplotlib.pyplot as plt\n",
        "%matplotlib inline\n",
        "from sklearn.preprocessing import LabelEncoder"
      ]
    },
    {
      "cell_type": "code",
      "execution_count": 13,
      "metadata": {
        "id": "4SOuETsF50Ni"
      },
      "outputs": [],
      "source": [
        "train = pd.read_csv('train.csv')\n",
        "test = pd.read_csv('test.csv')"
      ]
    },
    {
      "cell_type": "code",
      "execution_count": 14,
      "metadata": {
        "colab": {
          "base_uri": "https://localhost:8080/"
        },
        "id": "tv6hB0bn50Nj",
        "outputId": "d7f57d0d-b92e-4d07-a286-6c7d52915fd2"
      },
      "outputs": [
        {
          "output_type": "stream",
          "name": "stderr",
          "text": [
            "<ipython-input-14-2227e9884c10>:1: FutureWarning: A value is trying to be set on a copy of a DataFrame or Series through chained assignment using an inplace method.\n",
            "The behavior will change in pandas 3.0. This inplace method will never work because the intermediate object on which we are setting values always behaves as a copy.\n",
            "\n",
            "For example, when doing 'df[col].method(value, inplace=True)', try using 'df.method({col: value}, inplace=True)' or df[col] = df[col].method(value) instead, to perform the operation inplace on the original object.\n",
            "\n",
            "\n",
            "  train['Item_Weight'].fillna((train['Item_Weight'].mean()), inplace=True)\n",
            "<ipython-input-14-2227e9884c10>:2: FutureWarning: A value is trying to be set on a copy of a DataFrame or Series through chained assignment using an inplace method.\n",
            "The behavior will change in pandas 3.0. This inplace method will never work because the intermediate object on which we are setting values always behaves as a copy.\n",
            "\n",
            "For example, when doing 'df[col].method(value, inplace=True)', try using 'df.method({col: value}, inplace=True)' or df[col] = df[col].method(value) instead, to perform the operation inplace on the original object.\n",
            "\n",
            "\n",
            "  test['Item_Weight'].fillna((test['Item_Weight'].mean()), inplace=True)\n",
            "<ipython-input-14-2227e9884c10>:12: FutureWarning: A value is trying to be set on a copy of a DataFrame or Series through chained assignment using an inplace method.\n",
            "The behavior will change in pandas 3.0. This inplace method will never work because the intermediate object on which we are setting values always behaves as a copy.\n",
            "\n",
            "For example, when doing 'df[col].method(value, inplace=True)', try using 'df.method({col: value}, inplace=True)' or df[col] = df[col].method(value) instead, to perform the operation inplace on the original object.\n",
            "\n",
            "\n",
            "  train['Outlet_Size'].fillna('Small',inplace=True)\n",
            "<ipython-input-14-2227e9884c10>:13: FutureWarning: A value is trying to be set on a copy of a DataFrame or Series through chained assignment using an inplace method.\n",
            "The behavior will change in pandas 3.0. This inplace method will never work because the intermediate object on which we are setting values always behaves as a copy.\n",
            "\n",
            "For example, when doing 'df[col].method(value, inplace=True)', try using 'df.method({col: value}, inplace=True)' or df[col] = df[col].method(value) instead, to perform the operation inplace on the original object.\n",
            "\n",
            "\n",
            "  test['Outlet_Size'].fillna('Small',inplace=True)\n",
            "<ipython-input-14-2227e9884c10>:24: SettingWithCopyWarning: \n",
            "A value is trying to be set on a copy of a slice from a DataFrame\n",
            "\n",
            "See the caveats in the documentation: https://pandas.pydata.org/pandas-docs/stable/user_guide/indexing.html#returning-a-view-versus-a-copy\n",
            "  test.drop('Item_Outlet_Sales',axis=1,inplace=True)\n"
          ]
        }
      ],
      "source": [
        "train['Item_Weight'].fillna((train['Item_Weight'].mean()), inplace=True)\n",
        "test['Item_Weight'].fillna((test['Item_Weight'].mean()), inplace=True)\n",
        "\n",
        "train['Item_Fat_Content'] = train['Item_Fat_Content'].replace(['low fat','LF'], ['Low Fat','Low Fat'])\n",
        "train['Item_Fat_Content'] = train['Item_Fat_Content'].replace(['reg'], ['Regular'])\n",
        "test['Item_Fat_Content'] = test['Item_Fat_Content'].replace(['low fat','LF'], ['Low Fat','Low Fat'])\n",
        "test['Item_Fat_Content'] = test['Item_Fat_Content'].replace(['reg'], ['Regular'])\n",
        "\n",
        "train['Outlet_Establishment_Year'] = 2013 - train['Outlet_Establishment_Year']\n",
        "test['Outlet_Establishment_Year'] = 2013 - test['Outlet_Establishment_Year']\n",
        "\n",
        "train['Outlet_Size'].fillna('Small',inplace=True)\n",
        "test['Outlet_Size'].fillna('Small',inplace=True)\n",
        "\n",
        "col = ['Outlet_Size','Outlet_Location_Type','Outlet_Type','Item_Fat_Content']\n",
        "test['Item_Outlet_Sales'] = 0\n",
        "combi = pd.concat([train, test], ignore_index=True)\n",
        "number = LabelEncoder()\n",
        "for i in col:\n",
        "    combi[i] = number.fit_transform(combi[i].astype('str'))\n",
        "    combi[i] = combi[i].astype('int')\n",
        "train = combi[:train.shape[0]]\n",
        "test = combi[train.shape[0]:]\n",
        "test.drop('Item_Outlet_Sales',axis=1,inplace=True)\n",
        "\n",
        "training = train.drop(['Outlet_Identifier','Item_Type','Item_Identifier'],axis=1)\n",
        "testing = test.drop(['Outlet_Identifier','Item_Type','Item_Identifier'],axis=1)\n",
        "y_train = training['Item_Outlet_Sales']\n",
        "training.drop('Item_Outlet_Sales',axis=1,inplace=True)\n",
        "\n",
        "features = training.columns\n",
        "target = 'Item_Outlet_Sales'\n",
        "\n",
        "X_train, X_test = training, testing"
      ]
    },
    {
      "cell_type": "markdown",
      "metadata": {
        "id": "KZqU88NL50Nl"
      },
      "source": [
        "# Model exploration"
      ]
    },
    {
      "cell_type": "code",
      "execution_count": 15,
      "metadata": {
        "id": "qDNzJJv-50Nn"
      },
      "outputs": [],
      "source": [
        "from xgboost import XGBRegressor\n",
        "from sklearn.linear_model import BayesianRidge, Ridge, ElasticNet\n",
        "from sklearn.neighbors import KNeighborsRegressor\n",
        "from sklearn.ensemble import RandomForestRegressor, ExtraTreesRegressor, GradientBoostingRegressor\n",
        "\n",
        "from sklearn.metrics import mean_squared_error\n",
        "from sklearn.model_selection import cross_val_score"
      ]
    },
    {
      "cell_type": "code",
      "execution_count": 16,
      "metadata": {
        "colab": {
          "base_uri": "https://localhost:8080/"
        },
        "id": "h5XWQGyZ50No",
        "outputId": "4cdf8552-b148-4a30-f4cc-71fa2844098c"
      },
      "outputs": [
        {
          "output_type": "stream",
          "name": "stdout",
          "text": [
            "RandomForestRegressor     CV-5 RMSE:  1149.57 (+/- 25488.40)\n",
            "XGBRegressor              CV-5 RMSE:  1194.03 (+/- 9844.93)\n",
            "Ridge                     CV-5 RMSE:  1206.41 (+/- 54020.12)\n",
            "BayesianRidge             CV-5 RMSE:  1206.56 (+/- 52695.34)\n",
            "ExtraTreesRegressor       CV-5 RMSE:  1194.49 (+/- 11280.09)\n",
            "ElasticNet                CV-5 RMSE:  1259.18 (+/- 89803.16)\n",
            "KNeighborsRegressor       CV-5 RMSE:  1245.71 (+/- 37275.84)\n",
            "GradientBoostingRegressor CV-5 RMSE:  1086.12 (+/- 19711.92)\n"
          ]
        }
      ],
      "source": [
        "model_factory = [\n",
        "    RandomForestRegressor(),\n",
        "    XGBRegressor(nthread=1),\n",
        "    Ridge(),\n",
        "    BayesianRidge(),\n",
        "    ExtraTreesRegressor(),\n",
        "    ElasticNet(),\n",
        "    KNeighborsRegressor(),\n",
        "    GradientBoostingRegressor()\n",
        "]\n",
        "\n",
        "for model in model_factory:\n",
        "    model.seed = 42\n",
        "    num_folds = 3\n",
        "\n",
        "    scores = cross_val_score(model, X_train, y_train, cv=num_folds, scoring='neg_mean_squared_error')\n",
        "    score_description = \" %0.2f (+/- %0.2f)\" % (np.sqrt(scores.mean()*-1), scores.std() * 2)\n",
        "\n",
        "    print('{model:25} CV-5 RMSE: {score}'.format(\n",
        "        model=model.__class__.__name__,\n",
        "        score=score_description\n",
        "    ))"
      ]
    },
    {
      "cell_type": "code",
      "execution_count": 17,
      "metadata": {
        "colab": {
          "base_uri": "https://localhost:8080/"
        },
        "id": "ajwtnhPJ50No",
        "outputId": "08572087-8b03-4892-ad3c-4e074e46ebdd"
      },
      "outputs": [
        {
          "output_type": "execute_result",
          "data": {
            "text/plain": [
              "array([-1422865.06314891, -1432622.18419024, -1421608.73318773])"
            ]
          },
          "metadata": {},
          "execution_count": 17
        }
      ],
      "source": [
        "model = XGBRegressor()\n",
        "model.fit(X_train,y_train)\n",
        "pred = model.predict(X_test)\n",
        "\n",
        "sub = pd.DataFrame(data = pred, columns=['Item_Outlet_Sales'])\n",
        "sub['Item_Identifier'] = test['Item_Identifier']\n",
        "sub['Outlet_Identifier'] = test['Outlet_Identifier']\n",
        "\n",
        "cross_val_score(model, X_train, y_train, cv=num_folds, scoring='neg_mean_squared_error', n_jobs=8)"
      ]
    },
    {
      "cell_type": "code",
      "execution_count": 18,
      "metadata": {
        "id": "imJoMFD250Nq"
      },
      "outputs": [],
      "source": [
        "from sklearn.utils import shuffle\n",
        "from sklearn.base import BaseEstimator, RegressorMixin\n",
        "\n",
        "class PseudoLabeler(BaseEstimator, RegressorMixin):\n",
        "    '''\n",
        "    Sci-kit learn wrapper for creating pseudo-lebeled estimators.\n",
        "    '''\n",
        "\n",
        "    def __init__(self, model, unlabled_data, features, target, sample_rate=0.2, seed=42):\n",
        "        '''\n",
        "        @sample_rate - percent of samples used as pseudo-labelled data\n",
        "                       from the unlabled dataset\n",
        "        '''\n",
        "        assert sample_rate <= 1.0, 'Sample_rate should be between 0.0 and 1.0.'\n",
        "\n",
        "        self.sample_rate = sample_rate\n",
        "        self.seed = seed\n",
        "        self.model = model\n",
        "        self.model.seed = seed\n",
        "\n",
        "        self.unlabled_data = unlabled_data\n",
        "        self.features = features\n",
        "        self.target = target\n",
        "\n",
        "    def get_params(self, deep=True):\n",
        "        return {\n",
        "            \"sample_rate\": self.sample_rate,\n",
        "            \"seed\": self.seed,\n",
        "            \"model\": self.model,\n",
        "            \"unlabled_data\": self.unlabled_data,\n",
        "            \"features\": self.features,\n",
        "            \"target\": self.target\n",
        "        }\n",
        "\n",
        "    def set_params(self, **parameters):\n",
        "        for parameter, value in parameters.items():\n",
        "            setattr(self, parameter, value)\n",
        "        return self\n",
        "\n",
        "\n",
        "    def fit(self, X, y):\n",
        "        '''\n",
        "        Fit the data using pseudo labeling.\n",
        "        '''\n",
        "\n",
        "        augemented_train = self.__create_augmented_train(X, y)\n",
        "        self.model.fit(\n",
        "            augemented_train[self.features],\n",
        "            augemented_train[self.target]\n",
        "        )\n",
        "\n",
        "        return self\n",
        "\n",
        "\n",
        "    def __create_augmented_train(self, X, y):\n",
        "        '''\n",
        "        Create and return the augmented_train set that consists\n",
        "        of pseudo-labeled and labeled data.\n",
        "        '''\n",
        "        num_of_samples = int(len(self.unlabled_data) * self.sample_rate)\n",
        "\n",
        "\n",
        "        self.model.fit(X, y)\n",
        "        pseudo_labels = self.model.predict(self.unlabled_data[self.features])\n",
        "\n",
        "\n",
        "        pseudo_data = self.unlabled_data.copy(deep=True)\n",
        "        pseudo_data[self.target] = pseudo_labels\n",
        "\n",
        "\n",
        "\n",
        "        sampled_pseudo_data = pseudo_data.sample(n=num_of_samples)\n",
        "        temp_train = pd.concat([X, y], axis=1)\n",
        "        augemented_train = pd.concat([sampled_pseudo_data, temp_train])\n",
        "\n",
        "        return shuffle(augemented_train)\n",
        "\n",
        "    def predict(self, X):\n",
        "        '''\n",
        "        Returns the predicted values.\n",
        "        '''\n",
        "        return self.model.predict(X)\n",
        "\n",
        "    def get_model_name(self):\n",
        "        return self.model.__class__.__name__"
      ]
    },
    {
      "cell_type": "markdown",
      "metadata": {
        "id": "5ia9usKu50Nq"
      },
      "source": [
        "# Pseudo Labeler"
      ]
    },
    {
      "cell_type": "code",
      "execution_count": 19,
      "metadata": {
        "colab": {
          "base_uri": "https://localhost:8080/"
        },
        "id": "HIBehlNa50Nr",
        "outputId": "19b0243e-3d54-43f8-d529-e546650667c4"
      },
      "outputs": [
        {
          "output_type": "execute_result",
          "data": {
            "text/plain": [
              "array([-1388912.77126161, -1358668.63542162, -1392835.61263166])"
            ]
          },
          "metadata": {},
          "execution_count": 19
        }
      ],
      "source": [
        "model = PseudoLabeler(\n",
        "    XGBRegressor(nthread=1),\n",
        "    test,\n",
        "    features,\n",
        "    target,\n",
        "    sample_rate = 0.3\n",
        ")\n",
        "\n",
        "model.fit(X_train, y_train)\n",
        "pred = model.predict(X_test)\n",
        "cross_val_score(model, X_train, y_train, cv=num_folds, scoring='neg_mean_squared_error', n_jobs=8)"
      ]
    },
    {
      "cell_type": "code",
      "execution_count": 20,
      "metadata": {
        "id": "J6R7OEMZ50Ns"
      },
      "outputs": [],
      "source": [
        "sub = pd.DataFrame(data = pred, columns=['Item_Outlet_Sales'])\n",
        "sub['Item_Identifier'] = test['Item_Identifier']\n",
        "sub['Outlet_Identifier'] = test['Outlet_Identifier']\n",
        "sub.to_csv('pseudo-labelling.csv', index='False')"
      ]
    },
    {
      "cell_type": "markdown",
      "metadata": {
        "id": "hcKcbEEv50Nt"
      },
      "source": [
        "# Comparing xgboost with xgb with pseudo labelling"
      ]
    },
    {
      "cell_type": "code",
      "execution_count": 21,
      "metadata": {
        "colab": {
          "base_uri": "https://localhost:8080/"
        },
        "id": "Lz3il8zz50Nt",
        "outputId": "61f82f68-3f74-4d22-a774-4347bb25ebad"
      },
      "outputs": [
        {
          "output_type": "stream",
          "name": "stdout",
          "text": [
            "XGBRegressor              CV-8 MSE: 1183.6297 (+/- 156156.5398)\n",
            "PseudoLabeler             CV-8 MSE: 1158.2413 (+/- 140451.7107)\n"
          ]
        }
      ],
      "source": [
        "model_factory = [\n",
        "    XGBRegressor(nthread=1),\n",
        "\n",
        "    PseudoLabeler(\n",
        "        XGBRegressor(nthread=1),\n",
        "        test,\n",
        "        features,\n",
        "        target,\n",
        "        sample_rate=0.3\n",
        "    ),\n",
        "]\n",
        "\n",
        "for model in model_factory:\n",
        "    model.seed = 42\n",
        "    num_folds = 8\n",
        "\n",
        "    scores = cross_val_score(model, X_train, y_train, cv=num_folds, scoring='neg_mean_squared_error', n_jobs=8)\n",
        "    score_description = \"MSE: %0.4f (+/- %0.4f)\" % (np.sqrt(scores.mean()*-1), scores.std() * 2)\n",
        "\n",
        "    print('{model:25} CV-{num_folds} {score_cv}'.format(\n",
        "        model=model.__class__.__name__,\n",
        "        num_folds=num_folds,\n",
        "        score_cv=score_description\n",
        "    ))"
      ]
    },
    {
      "cell_type": "markdown",
      "metadata": {
        "id": "vT8ssRa750Nu"
      },
      "source": [
        "# Performance of pseudo-labelling depedendance on sampling rate"
      ]
    },
    {
      "cell_type": "code",
      "execution_count": 22,
      "metadata": {
        "colab": {
          "base_uri": "https://localhost:8080/"
        },
        "id": "P3CpAcb950Nu",
        "outputId": "dc978f20-ec73-4e24-98ed-9eb51a3e426b"
      },
      "outputs": [
        {
          "output_type": "stream",
          "name": "stdout",
          "text": [
            "RandomForestRegressor\n",
            "XGBRegressor\n"
          ]
        }
      ],
      "source": [
        "sample_rates = np.linspace(0, 1, 10)\n",
        "\n",
        "def pseudo_label_wrapper(model):\n",
        "    return PseudoLabeler(model, test, features, target)\n",
        "\n",
        "model_factory = [\n",
        "    RandomForestRegressor(n_jobs=1),\n",
        "    XGBRegressor(),\n",
        "]\n",
        "\n",
        "\n",
        "model_factory = map(pseudo_label_wrapper, model_factory)\n",
        "\n",
        "\n",
        "results = {}\n",
        "num_folds = 5\n",
        "\n",
        "for model in model_factory:\n",
        "    model_name = model.get_model_name()\n",
        "    print('%s' % model_name)\n",
        "\n",
        "    results[model_name] = list()\n",
        "    for sample_rate in sample_rates:\n",
        "        model.sample_rate = sample_rate\n",
        "\n",
        "        scores = cross_val_score(model, X_train, y_train, cv=num_folds, scoring='neg_mean_squared_error', n_jobs=8)\n",
        "        results[model_name].append(np.sqrt(scores.mean()*-1))"
      ]
    },
    {
      "cell_type": "code",
      "execution_count": 23,
      "metadata": {
        "colab": {
          "base_uri": "https://localhost:8080/",
          "height": 510
        },
        "id": "9fceM6Gu50Nu",
        "outputId": "6d97b23d-e70d-49a8-904d-64003e6f5a68"
      },
      "outputs": [
        {
          "output_type": "display_data",
          "data": {
            "text/plain": [
              "<Figure size 1600x1800 with 2 Axes>"
            ],
            "image/png": "[encoded data removed]"
          },
          "metadata": {}
        }
      ],
      "source": [
        "plt.figure(figsize=(16, 18))\n",
        "\n",
        "i = 1\n",
        "for model_name, performance in results.items():\n",
        "    plt.subplot(3, 3, i)\n",
        "    i += 1\n",
        "\n",
        "    plt.plot(sample_rates, performance)\n",
        "    plt.title(model_name)\n",
        "    plt.xlabel('sample_rate')\n",
        "    plt.ylabel('RMSE')\n",
        "\n",
        "\n",
        "plt.show()"
      ]
    }
  ],
  "metadata": {
    "kernelspec": {
      "display_name": "Python 3 (ipykernel)",
      "language": "python",
      "name": "python3"
    },
    "language_info": {
      "codemirror_mode": {
        "name": "ipython",
        "version": 3
      },
      "file_extension": ".py",
      "mimetype": "text/x-python",
      "name": "python",
      "nbconvert_exporter": "python",
      "pygments_lexer": "ipython3",
      "version": "3.9.5"
    },
    "colab": {
      "provenance": []
    }
  },
  "nbformat": 4,
  "nbformat_minor": 0
}