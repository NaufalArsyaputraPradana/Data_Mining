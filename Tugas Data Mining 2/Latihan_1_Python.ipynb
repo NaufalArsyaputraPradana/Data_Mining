{
  "cells": [
    {
      "cell_type": "markdown",
      "metadata": {
        "id": "NNQLtgTcExGd"
      },
      "source": [
        "# Python Basic-1\n",
        "- mengenal fungsi print();\n",
        "- tanda kurung buka;\n",
        "- tanda kutip;\n",
        "- kalimat 1 baris: Hello, World!;\n",
        "- fungsi beberapa tanda kutip lain;\n",
        "- tanda kurung tutup."
      ]
    },
    {
      "cell_type": "code",
      "execution_count": 1,
      "metadata": {
        "id": "bKLyA_SNExGg",
        "outputId": "18a34764-1981-426c-beec-18b06bdfce9f",
        "colab": {
          "base_uri": "https://localhost:8080/"
        }
      },
      "outputs": [
        {
          "output_type": "stream",
          "name": "stdout",
          "text": [
            "Hello World!@#!#!$\n",
            "test\n"
          ]
        }
      ],
      "source": [
        "print(\"Hello World!@#!#!$\")\n",
        "print(\"test\")"
      ]
    },
    {
      "cell_type": "markdown",
      "metadata": {
        "id": "OtLB1fGTExGi"
      },
      "source": [
        "#### Latihan: The print() function\n",
        "\n",
        "- Cetak kalimat \"Hello, Python!\"\n",
        "- Cetak nama pertamamu\n",
        "- Cetak nama pertamamu tanpa petik\n",
        "- apakah ada bedanya double quote \"\" dan single quote '?"
      ]
    },
    {
      "cell_type": "code",
      "execution_count": 2,
      "metadata": {
        "id": "SJ_KJPt2ExGi",
        "outputId": "56b6cd3c-bed3-4d85-f821-5a4cab4786c7",
        "colab": {
          "base_uri": "https://localhost:8080/"
        }
      },
      "outputs": [
        {
          "output_type": "stream",
          "name": "stdout",
          "text": [
            "Hello, Python!\n",
            "Arsya\n",
            "Arsya\n"
          ]
        }
      ],
      "source": [
        "print(\"Hello, Python!\")\n",
        "print(\"Arsya\")\n",
        "print('Arsya')"
      ]
    },
    {
      "cell_type": "markdown",
      "metadata": {
        "id": "xZ-kdpzuExGj"
      },
      "source": [
        "## Formatting dengan Special Character\n",
        "`\\' = karakter spesial \"escaping nature\"\n",
        "\n",
        "`\\n` = untuk enter\n",
        "\n",
        "`\\` = escaping karakter\n",
        "\n",
        "```python\n",
        "print() = berarti line kosong\n",
        "```\n",
        "\n",
        "Tidak boleh ada 2 perintah dalam 1 baris\n",
        "```python\n",
        "print(\"nama depan\") print (\"nama belakang\")\n",
        "```"
      ]
    },
    {
      "cell_type": "code",
      "execution_count": 3,
      "metadata": {
        "id": "gVQxLUKpExGj",
        "outputId": "041c588a-da7c-48f8-8c63-08b671c17cda",
        "colab": {
          "base_uri": "https://localhost:8080/"
        }
      },
      "outputs": [
        {
          "output_type": "stream",
          "name": "stdout",
          "text": [
            "\n",
            "Saya sudah sarapan tadi pagi\n",
            " dan nanti siang makan lagi\n",
            "Saya sudah sarapan tadi pagi\t dan nanti siang makan lagi\n"
          ]
        }
      ],
      "source": [
        "print()\n",
        "\n",
        "print(\"Saya sudah sarapan tadi pagi\\n dan nanti siang makan lagi\")\n",
        "print(\"Saya sudah sarapan tadi pagi\\t dan nanti siang makan lagi\")"
      ]
    },
    {
      "cell_type": "code",
      "execution_count": 4,
      "metadata": {
        "id": "JaSlr0WkExGj",
        "outputId": "752cb7da-74cc-4ce7-ab6b-4d2465b230ba",
        "colab": {
          "base_uri": "https://localhost:8080/"
        }
      },
      "outputs": [
        {
          "output_type": "stream",
          "name": "stdout",
          "text": [
            "nama saya \"Arsya\"\n"
          ]
        }
      ],
      "source": [
        "print(\"nama saya \\\"Arsya\\\"\")"
      ]
    },
    {
      "cell_type": "code",
      "execution_count": 5,
      "metadata": {
        "id": "__U8F7WXExGk",
        "outputId": "b0cf76ba-0158-43bd-9aa5-28182e3dcc84",
        "colab": {
          "base_uri": "https://localhost:8080/"
        }
      },
      "outputs": [
        {
          "output_type": "stream",
          "name": "stdout",
          "text": [
            "\"\n"
          ]
        }
      ],
      "source": [
        "print(\"\\\"\")"
      ]
    },
    {
      "cell_type": "code",
      "execution_count": 6,
      "metadata": {
        "id": "TLK58cIBExGk",
        "outputId": "0276ed1b-8843-4014-a823-40fa65d302de",
        "colab": {
          "base_uri": "https://localhost:8080/"
        }
      },
      "outputs": [
        {
          "output_type": "stream",
          "name": "stdout",
          "text": [
            "satu. dua. tiga.\n"
          ]
        }
      ],
      "source": [
        "print(\"satu.\",\"dua.\",\"tiga.\")"
      ]
    },
    {
      "cell_type": "code",
      "execution_count": 7,
      "metadata": {
        "id": "DflG1j6IExGk",
        "outputId": "12de8da8-3059-4995-c79e-40d2108df820",
        "colab": {
          "base_uri": "https://localhost:8080/"
        }
      },
      "outputs": [
        {
          "output_type": "stream",
          "name": "stdout",
          "text": [
            "Nama saya Arsya Pradana\n"
          ]
        }
      ],
      "source": [
        "print(\"Nama saya\",\"Arsya\", end=\" \")\n",
        "print(\"Pradana\")"
      ]
    },
    {
      "cell_type": "code",
      "execution_count": 8,
      "metadata": {
        "id": "M3831QWsExGk",
        "outputId": "eb7a7ae2-3c40-42f7-d7c2-63e737cf4a30",
        "colab": {
          "base_uri": "https://localhost:8080/"
        }
      },
      "outputs": [
        {
          "output_type": "stream",
          "name": "stdout",
          "text": [
            "satu, dua, tiga\n"
          ]
        }
      ],
      "source": [
        "print(\"satu\",\"dua\",\"tiga\", sep=\", \")"
      ]
    },
    {
      "cell_type": "markdown",
      "metadata": {
        "id": "j38VguZdExGk"
      },
      "source": [
        "## Latihan: The Print Function\n",
        "\n",
        "Buatlah Program untuk menghasilkan output:\n",
        "`Programming***Essentials***in...Python`"
      ]
    },
    {
      "cell_type": "code",
      "execution_count": 9,
      "metadata": {
        "id": "u40iInAZExGl",
        "outputId": "d2509d42-e6f1-49f3-fe99-ee909b68273e",
        "colab": {
          "base_uri": "https://localhost:8080/"
        }
      },
      "outputs": [
        {
          "output_type": "stream",
          "name": "stdout",
          "text": [
            "Programming Essentials in\n",
            "Python\n"
          ]
        }
      ],
      "source": [
        "#Clue\n",
        "print(\"Programming\",\"Essentials\",\"in\")\n",
        "print(\"Python\")"
      ]
    },
    {
      "cell_type": "code",
      "execution_count": 10,
      "metadata": {
        "id": "-w_UsfdZExGl",
        "outputId": "a9d20c2f-6e04-411f-bd4b-891dc22bf163",
        "colab": {
          "base_uri": "https://localhost:8080/"
        }
      },
      "outputs": [
        {
          "output_type": "stream",
          "name": "stdout",
          "text": [
            "Programming***Essentials***in...PythonPython\n"
          ]
        }
      ],
      "source": [
        "#Programming***Essentials***in...PythonPython\n",
        "\n",
        "print(\"Programming\",\"Essentials\",\"in\", sep=\"***\", end=\"...\")\n",
        "print(\"Python\"*2)"
      ]
    },
    {
      "cell_type": "markdown",
      "metadata": {
        "id": "rcf6ThauExGl"
      },
      "source": [
        "## Latihan: Formatting the output\n",
        "Membuat duplikasi pola gambar bintang"
      ]
    },
    {
      "cell_type": "code",
      "execution_count": 11,
      "metadata": {
        "id": "BSPgJWUfExGl",
        "outputId": "4e180e60-3f85-4aea-906c-e71f38ae1f2e",
        "colab": {
          "base_uri": "https://localhost:8080/"
        }
      },
      "outputs": [
        {
          "output_type": "stream",
          "name": "stdout",
          "text": [
            "    *        *    \n",
            "   * *      * *   \n",
            "  *   *    *   *  \n",
            " *     *  *     * \n",
            "***   ******   ***\n",
            "  *   *    *   *  \n",
            "  *   *    *   *  \n",
            "  *****    *****  \n"
          ]
        }
      ],
      "source": [
        "#clue\n",
        "\n",
        "print(\"    *    \"*2)\n",
        "print(\"   * *   \"*2)\n",
        "print(\"  *   *  \"*2)\n",
        "print(\" *     * \"*2)\n",
        "print(\"***   ***\"*2)\n",
        "print(\"  *   *  \"*2)\n",
        "print(\"  *   *  \"*2)\n",
        "print(\"  *****  \"*2)"
      ]
    },
    {
      "cell_type": "code",
      "execution_count": 12,
      "metadata": {
        "id": "dyIFEIv8ExGm",
        "outputId": "447719d4-99e0-46c9-d567-19634257456f",
        "colab": {
          "base_uri": "https://localhost:8080/"
        }
      },
      "outputs": [
        {
          "output_type": "stream",
          "name": "stdout",
          "text": [
            "    *\n",
            "   * *\n",
            "  *   *\n",
            " *     *\n",
            "***   ***\n",
            "  *   *\n",
            "  *   *\n",
            "  *****\n",
            "    *\n",
            "   * *\n",
            "  *   *\n",
            " *     *\n",
            "***   ***\n",
            "  *   *\n",
            "  *   *\n",
            "  *****\n",
            "\n"
          ]
        }
      ],
      "source": [
        "print(\"    *\\n   * *\\n  *   *\\n *     *\\n***   ***\\n  *   *\\n  *   *\\n  *****\\n\"*2)"
      ]
    },
    {
      "cell_type": "markdown",
      "metadata": {
        "id": "iRCxCNb6ExGm"
      },
      "source": [
        "# Literal\n",
        "literal merupakan notasi untuk mensimbolkan nilai, dapat berupa string, boolean maupun angka (integer dan float)"
      ]
    },
    {
      "cell_type": "code",
      "execution_count": 13,
      "metadata": {
        "id": "2f_KSHJdExGm",
        "colab": {
          "base_uri": "https://localhost:8080/"
        },
        "outputId": "0f6933b8-c5e9-4357-8dba-fc7fb366193b"
      },
      "outputs": [
        {
          "output_type": "stream",
          "name": "stdout",
          "text": [
            "22\n",
            "4\n",
            "<class 'str'>\n",
            "<class 'int'>\n"
          ]
        }
      ],
      "source": [
        "print(\"2\"*2)\n",
        "print(2*2)\n",
        "\n",
        "print(type(\"2\"))\n",
        "print(type(2))"
      ]
    },
    {
      "cell_type": "markdown",
      "metadata": {
        "id": "iImjERt3ExGm"
      },
      "source": [
        "## Integers vs Floats"
      ]
    },
    {
      "cell_type": "code",
      "execution_count": 14,
      "metadata": {
        "id": "XG9h6JEsExGm",
        "colab": {
          "base_uri": "https://localhost:8080/"
        },
        "outputId": "7d5eece6-7ed3-4a1d-c131-381f2227c70b"
      },
      "outputs": [
        {
          "output_type": "stream",
          "name": "stdout",
          "text": [
            "5 mempunyai tipe <class 'int'>\n",
            "0.5 mempunyai tipe <class 'float'>\n"
          ]
        }
      ],
      "source": [
        "print(5, \"mempunyai tipe\", type(5))\n",
        "print(.5, \"mempunyai tipe\", type(.5))"
      ]
    },
    {
      "cell_type": "markdown",
      "metadata": {
        "id": "Xqfj-Rh8ExGm"
      },
      "source": [
        "\n",
        "# Penulisan Float dan Integer\n",
        "Python versi 3 membolehkan pemisahan digit integer dengan underscore \"_\"\n",
        "agar mudah dibaca\n",
        "```python\n",
        "print (10_000_000)```\n",
        "\n",
        "Float dipisahkan dengan .(titik) bukan ,(koma)\n",
        "cara penulisan float bisa 3 cara\n",
        "\n",
        "- 4.0\n",
        "- .4 (terbaca nol koma 4)\n",
        "- 4. (terbaca 4 koma nol)\n",
        "\n",
        "> 3e08 berarti $ 3 x 10 ^ 8 $  \n",
        "3e-08 berarti $ 3 x 10 ^ {-8} $\n"
      ]
    },
    {
      "cell_type": "markdown",
      "metadata": {
        "id": "dRQQ4K_zExGn"
      },
      "source": [
        "## String"
      ]
    },
    {
      "cell_type": "markdown",
      "metadata": {
        "id": "SpWz-qe_ExGn"
      },
      "source": [
        "Buatlah program untuk menghasilkan output `I'm Monty Python`"
      ]
    },
    {
      "cell_type": "code",
      "execution_count": 15,
      "metadata": {
        "id": "dWxnQDh2ExGn",
        "colab": {
          "base_uri": "https://localhost:8080/"
        },
        "outputId": "2b4a66ea-bce4-413c-9f96-f628138a4200"
      },
      "outputs": [
        {
          "output_type": "stream",
          "name": "stdout",
          "text": [
            "I'm Monty Python\n"
          ]
        }
      ],
      "source": [
        "print(\"I'm Monty Python\")"
      ]
    },
    {
      "cell_type": "markdown",
      "metadata": {
        "id": "_4zguiSHExGn"
      },
      "source": [
        "## Booelan\n",
        "Logika benar salah, 1 bernilai benar (True) dan 0 bernilai salah (False)"
      ]
    },
    {
      "cell_type": "code",
      "execution_count": 16,
      "metadata": {
        "id": "F0mur5hbExGo",
        "colab": {
          "base_uri": "https://localhost:8080/"
        },
        "outputId": "2a8305ce-41cf-4879-ae89-9ebb6223c2c0"
      },
      "outputs": [
        {
          "output_type": "stream",
          "name": "stdout",
          "text": [
            "True\n",
            "False\n",
            "True\n",
            "False\n"
          ]
        }
      ],
      "source": [
        "print(True)\n",
        "print(False)\n",
        "\n",
        "print(4>2)\n",
        "print(3>4)"
      ]
    },
    {
      "cell_type": "markdown",
      "metadata": {
        "id": "wNe6GV05ExGo"
      },
      "source": [
        "## None"
      ]
    },
    {
      "cell_type": "code",
      "execution_count": 17,
      "metadata": {
        "id": "iwDsuTgAExGo",
        "colab": {
          "base_uri": "https://localhost:8080/"
        },
        "outputId": "b59d6e0c-af03-4ff5-b44f-4fbce1c53fe3"
      },
      "outputs": [
        {
          "output_type": "stream",
          "name": "stdout",
          "text": [
            "\n"
          ]
        }
      ],
      "source": [
        "print()"
      ]
    },
    {
      "cell_type": "markdown",
      "metadata": {
        "id": "DRvtcGwUExGp"
      },
      "source": [
        "## Latihan: Python literals - strings\n",
        "Buat output seperti ini dalam satu line <br/>\n",
        "`\"I'm\"`<br/>\n",
        "`\"\"learning\"\"`<br/>\n",
        "`\"\"\"Python\"\"\"`"
      ]
    },
    {
      "cell_type": "code",
      "execution_count": 18,
      "metadata": {
        "id": "tHm-CcIEExGp",
        "colab": {
          "base_uri": "https://localhost:8080/"
        },
        "outputId": "8789a120-b0cf-4846-bdc8-5266500f024f"
      },
      "outputs": [
        {
          "output_type": "stream",
          "name": "stdout",
          "text": [
            "\"I'm\"\n",
            "\"\"learning\"\"\n",
            "\"\"\"Python\"\"\"\n",
            "\n",
            "\"I'm\"\n",
            "\"\"learning\"\"\n",
            "\"\"\"Python\"\"\"\n",
            "\n"
          ]
        }
      ],
      "source": [
        "print('\"I\\'m\"\\n\"\"learning\"\"\\n\"\"\"Python\"\"\"')\n",
        "\n",
        "print(\"\"\"\n",
        "\"I'm\"\n",
        "\"\"learning\"\"\n",
        "\\\"\"\"Python\"\"\\\"\n",
        "\"\"\")"
      ]
    },
    {
      "cell_type": "markdown",
      "metadata": {
        "id": "8Ha3H7uTExGp"
      },
      "source": [
        "# Operator"
      ]
    },
    {
      "cell_type": "markdown",
      "metadata": {
        "id": "MuI9i840ExGq"
      },
      "source": [
        "### Operator Aritmetika\n",
        "\n",
        "| Operator | Arti                                                                                          | Contoh                  |\n",
        "|----------|--------------------------------------------------------------------------------------------------|--------------------------|\n",
        "| +        | Penambahan                                                                   | x + y                 |\n",
        "| -        | Pengurangan                                              | x - y                  |\n",
        "| *        | Perkalian                                                                            | x * y                    |\n",
        "| /        | Pembagian                                 | x / y                    |\n",
        "| %        | Modulo - Sisa Pembagian                                 | x % y (sisa pembagian of x/y) |\n",
        "| //       | Pembagian dan dibulatkan ke bawah | x // y                   |\n",
        "| **       | Eksponen - Pangkat                                             | x**y (x pangkat y)  |"
      ]
    },
    {
      "cell_type": "code",
      "execution_count": 19,
      "metadata": {
        "id": "oh9zSwPkExGq",
        "outputId": "80e8e096-6509-405c-ecd2-7c6040ffd728",
        "colab": {
          "base_uri": "https://localhost:8080/"
        }
      },
      "outputs": [
        {
          "output_type": "stream",
          "name": "stdout",
          "text": [
            "8\n",
            "8.0\n",
            "8.0\n",
            "8.0\n"
          ]
        }
      ],
      "source": [
        "print(2 ** 3)\n",
        "print(2 ** 3.)\n",
        "print(2. ** 3.)\n",
        "print(2. ** 3)"
      ]
    },
    {
      "cell_type": "code",
      "execution_count": 20,
      "metadata": {
        "id": "2ELlnmx-ExGr",
        "colab": {
          "base_uri": "https://localhost:8080/"
        },
        "outputId": "9326ae2b-8dd8-45e9-ab14-16f31a70f5aa"
      },
      "outputs": [
        {
          "output_type": "stream",
          "name": "stdout",
          "text": [
            "3.3333333333333335\n",
            "3\n",
            "2.0\n",
            "2.0\n",
            "0\n",
            "4.0\n"
          ]
        }
      ],
      "source": [
        "print(10 / 3)\n",
        "print(10 // 3)\n",
        "\n",
        "print(6 / 3.)\n",
        "print(6 // 3.)\n",
        "\n",
        "print(-4 + 4)\n",
        "print(-4. + 8)"
      ]
    },
    {
      "cell_type": "markdown",
      "metadata": {
        "id": "z8a4SB3JExGr"
      },
      "source": [
        "### Urutan Operator"
      ]
    },
    {
      "cell_type": "markdown",
      "metadata": {
        "id": "UkfaRfOoExGr"
      },
      "source": [
        "| Prioritas| Operator |        |\n",
        "|----------|----------|--------|\n",
        "| 1        | +, -     | unary  |\n",
        "| 2        | **       |        |\n",
        "| 3        | *,/,//,% |        |\n",
        "| 4        | +, -     | binary |"
      ]
    },
    {
      "cell_type": "code",
      "execution_count": 21,
      "metadata": {
        "id": "NgI55jfkExGr",
        "colab": {
          "base_uri": "https://localhost:8080/"
        },
        "outputId": "9ce3579f-0e58-4972-84b1-c3c3f9d844a5"
      },
      "outputs": [
        {
          "output_type": "execute_result",
          "data": {
            "text/plain": [
              "17"
            ]
          },
          "metadata": {},
          "execution_count": 21
        }
      ],
      "source": [
        "2 + 3 *5"
      ]
    },
    {
      "cell_type": "code",
      "execution_count": 22,
      "metadata": {
        "id": "XhkvsRd8ExGr",
        "colab": {
          "base_uri": "https://localhost:8080/"
        },
        "outputId": "aa25ed41-49b0-4239-be8e-2270e9bfc6e4"
      },
      "outputs": [
        {
          "output_type": "stream",
          "name": "stdout",
          "text": [
            "1\n",
            "3\n",
            "1\n",
            "256\n",
            "4\n",
            "256\n"
          ]
        }
      ],
      "source": [
        "print(9 % 6 % 2)\n",
        "print(9 % 6)\n",
        "print(3 % 2)\n",
        "\n",
        "print(2 ** 2 ** 3)\n",
        "print(2 ** 2)\n",
        "print(2 ** 8)"
      ]
    },
    {
      "cell_type": "code",
      "execution_count": 23,
      "metadata": {
        "id": "tqt27QCkExGx",
        "colab": {
          "base_uri": "https://localhost:8080/"
        },
        "outputId": "a764f0bd-2370-4568-fdb5-39918b879ab2"
      },
      "outputs": [
        {
          "output_type": "stream",
          "name": "stdout",
          "text": [
            "10.0\n"
          ]
        }
      ],
      "source": [
        "print((5 * ((25 % 13)+100) / (2 * 13)) // 2)"
      ]
    },
    {
      "cell_type": "markdown",
      "metadata": {
        "id": "ST4vmQt0ExGy"
      },
      "source": [
        "# Variabel\n",
        "- Apa itu variabel?\n",
        "- Bagaimana Aturan Penamaannya?"
      ]
    },
    {
      "cell_type": "code",
      "execution_count": 24,
      "metadata": {
        "id": "nYuhhxZsExGy",
        "colab": {
          "base_uri": "https://localhost:8080/"
        },
        "outputId": "9b509948-fd7a-44a8-cb79-17f2e9fbbd22"
      },
      "outputs": [
        {
          "output_type": "stream",
          "name": "stdout",
          "text": [
            "1\n"
          ]
        }
      ],
      "source": [
        "var = 1\n",
        "print(var)"
      ]
    },
    {
      "cell_type": "markdown",
      "metadata": {
        "id": "MKItrQSKExGy"
      },
      "source": [
        "Tulis rumus ini dalam kode program:<br/> $c=\\sqrt{a^2+b^2}$"
      ]
    },
    {
      "cell_type": "code",
      "execution_count": 25,
      "metadata": {
        "id": "IejSCiYZExGy",
        "colab": {
          "base_uri": "https://localhost:8080/"
        },
        "outputId": "03ba68b3-6900-431f-ee0d-26e344f29e77"
      },
      "outputs": [
        {
          "output_type": "stream",
          "name": "stdout",
          "text": [
            "c =  3.605551275463989\n"
          ]
        }
      ],
      "source": [
        "a=2.\n",
        "b=3.\n",
        "c=(a**2 + b**2) ** 0.5\n",
        "print(\"c = \", c)"
      ]
    },
    {
      "cell_type": "markdown",
      "metadata": {
        "id": "Xy93wT1LExGy"
      },
      "source": [
        "## Latihan: Variables\n",
        "\n",
        "<b>Cerita Pendek:</b>\n",
        "\n",
        "Suatu waktu di kebun apel, Darjo memiliki 3 apel, Darno memiliki 5 apel dan Waginem memiliki 6 Apel. mereka sangat bahagia dan hidup lama. selesai.\n",
        "\n",
        "Tugas Anda\n",
        "- buat variabe : `Darjo`, `Darno` dan `Waginem`\n",
        "- isi nilai sesuai dengan jumlah apel yang mereka miliki\n",
        "- cetak nama variabel dan jumlah apel setiap variabel dalam 1 baris, pisahkan dengan koma\n",
        "- buat variabel baru dengan nama `totalApel` yang berisi penjumlahan seluruh apel yang mereka miliki\n",
        "- coba otak atik code dengan membuat variable baru, diisi dengan nilai lain, dan dihitung dengan operator aritmetik lainnya"
      ]
    },
    {
      "cell_type": "code",
      "execution_count": 27,
      "metadata": {
        "id": "-9jTSxVIExGy",
        "colab": {
          "base_uri": "https://localhost:8080/"
        },
        "outputId": "b0a64940-411f-4bbf-941f-3397f6d35050"
      },
      "outputs": [
        {
          "output_type": "stream",
          "name": "stdout",
          "text": [
            "Darjo, 3\n",
            "Darno, 5\n",
            "Waginem, 6\n",
            "totalApel, 14\n",
            "totalApelBaru, 24\n",
            "rataRataApel, 4.666666666666667\n"
          ]
        }
      ],
      "source": [
        "Darjo = 3\n",
        "Darno = 5\n",
        "Waginem = 6\n",
        "\n",
        "print(\"Darjo,\", Darjo)\n",
        "print(\"Darno,\", Darno)\n",
        "print(\"Waginem,\", Waginem)\n",
        "\n",
        "totalApel = Darjo + Darno + Waginem\n",
        "print(\"totalApel,\", totalApel)\n",
        "\n",
        "apelTambahan = 10\n",
        "totalApelBaru = totalApel + apelTambahan\n",
        "print(\"totalApelBaru,\", totalApelBaru)\n",
        "\n",
        "rataRataApel = totalApel / 3\n",
        "print(\"rataRataApel,\", rataRataApel)\n"
      ]
    },
    {
      "cell_type": "markdown",
      "metadata": {
        "id": "t3TJtMO3ExGy"
      },
      "source": [
        "## Latihan: Variables: a simple converter\n",
        "\n",
        "Mil dan kilometer adalah satuan panjang\n",
        "\n",
        "1 mil memiliki panjang sekitar 1.61 kilometer, buatlah program konversi di bawah ini\n",
        "- mil ke kilometer;\n",
        "- kilometer to mil.\n",
        "jangan ganti apapun terhadap kode yang sudah ada. tulis kodemu pada tanda ###, kemudian hapus tanda tersebut. Uji kode Anda dengan data yang kami sajikan dalam source code"
      ]
    },
    {
      "cell_type": "markdown",
      "metadata": {
        "id": "45bj8QI5ExGz"
      },
      "source": [
        "Kode:\n",
        "```python\n",
        "kilometer = 12.25\n",
        "mil = 7.38\n",
        "\n",
        "mil_ke_kilometer = ###\n",
        "kilometer_ke_mil = ###\n",
        "\n",
        "print(mil, \"1 mil adalah\", round(miles_to_kilometers, 2), \"kilometer\")\n",
        "print(kilometer, \"1 kilometer adalah\", round(kilometers_to_miles, 2), \"mil\")\n",
        "```"
      ]
    },
    {
      "cell_type": "code",
      "execution_count": 28,
      "metadata": {
        "id": "dXg6iV2CExGz",
        "colab": {
          "base_uri": "https://localhost:8080/"
        },
        "outputId": "79813eec-5a54-4af8-b7ff-770be22cd82d"
      },
      "outputs": [
        {
          "output_type": "stream",
          "name": "stdout",
          "text": [
            "7.38 1 mil adalah 11.88 kilometer\n",
            "12.25 1 kilometer adalah 7.61 mil\n"
          ]
        }
      ],
      "source": [
        "kilometer = 12.25\n",
        "mil = 7.38\n",
        "\n",
        "miles_to_kilometers = mil * 1.61\n",
        "kilometers_to_miles = kilometer / 1.61\n",
        "\n",
        "print(mil, \"1 mil adalah\", round(miles_to_kilometers, 2), \"kilometer\")\n",
        "print(kilometer, \"1 kilometer adalah\", round(kilometers_to_miles, 2), \"mil\")"
      ]
    },
    {
      "cell_type": "markdown",
      "metadata": {
        "id": "3wwCSyozExGz"
      },
      "source": [
        "## Latihan: Operators and expressions\n",
        "\n",
        "Skenario\n",
        "lihatlah kode dalam editor, nilai tersebut termasuk tipe float, letakkan nilai tersebut dalam variabel x, dan print variabel tersebut dalam variabel y. Tugasmu adalah melengkapi kode di bawah ini untk menyelesaikan persamaan di bawah\n",
        "\n",
        "$3x^3 - 2x^2 + 3x - 1$\n",
        "\n",
        "Hasil harus disimpan dalam variabel y.\n",
        "ingat bahwa aljabar klasik sering menghilangkan operator perkalian, kamu harus menggunakannya secara eksplisit. Ingat bagaimana cara mengubah tipe data untuk memastikan bahwa x bertipe float.\n",
        "\n",
        "usahakan kodemu mudah dibaca, uji kode dengan data yang telah kami berikan.\n",
        "\n",
        "```python\n",
        "x =  # hardcode your test data here\n",
        "x = float(x)\n",
        "# tulis kodemu disini\n",
        "print(\"y =\", y)\n",
        "```\n",
        "\n",
        "Test Data:\n",
        "```python\n",
        "#input\n",
        "x = 0\n",
        "x = 1\n",
        "x = -1\n",
        "\n",
        "#output\n",
        "y = -1.0\n",
        "y = 3.0\n",
        "y = -9.0\n",
        "```"
      ]
    },
    {
      "cell_type": "code",
      "source": [
        "x = 0\n",
        "x = 1\n",
        "x = -1\n",
        "\n",
        "x = float(x)\n",
        "\n",
        "y = 3 * x ** 3 - 2 * x ** 2 + 3 * x - 1\n",
        "print(\"y =\", y)"
      ],
      "metadata": {
        "colab": {
          "base_uri": "https://localhost:8080/"
        },
        "id": "5H_TTc2-wMrh",
        "outputId": "39c81b6f-34eb-4161-b69d-88d61c28b5e3"
      },
      "execution_count": 32,
      "outputs": [
        {
          "output_type": "stream",
          "name": "stdout",
          "text": [
            "y = -9.0\n"
          ]
        }
      ]
    },
    {
      "cell_type": "markdown",
      "metadata": {
        "id": "pHNUG60XExGz"
      },
      "source": [
        "### Exercise\n",
        "\n",
        "Apa outputnya?\n",
        "```python\n",
        "var = 2\n",
        "var = 3\n",
        "print(var)\n",
        "```\n",
        "\n",
        "Nama variabel mana yang ilegal?\n",
        "```python\n",
        "my_var\n",
        "m\n",
        "101\n",
        "averylongvariablename\n",
        "m101\n",
        "m 101\n",
        "Del\n",
        "del\n",
        "```\n",
        "\n",
        "Apa Outputnya?\n",
        "```python\n",
        "a = '1'\n",
        "b = \"1\"\n",
        "print(a + b)\n",
        "```\n",
        "\n",
        "Apa outputnya?\n",
        "\n",
        "```python\n",
        "a = 6\n",
        "b = 3\n",
        "a /= 2 * b\n",
        "print(a)\n",
        "```"
      ]
    },
    {
      "cell_type": "code",
      "source": [
        "var = 2\n",
        "var = 3\n",
        "print(var)"
      ],
      "metadata": {
        "colab": {
          "base_uri": "https://localhost:8080/"
        },
        "id": "ebfcq3sUxe-Z",
        "outputId": "c2801653-2ce0-4b5b-90df-88645f245f5b"
      },
      "execution_count": 33,
      "outputs": [
        {
          "output_type": "stream",
          "name": "stdout",
          "text": [
            "3\n"
          ]
        }
      ]
    },
    {
      "cell_type": "code",
      "source": [
        "# m\n",
        "# 101\n",
        "# averylongvariablename\n",
        "# m101\n",
        "# m 101\n",
        "# Del\n",
        "# del\n",
        "\n",
        "# Illegal variable names:\n",
        "# 101\n",
        "# m 101\n",
        "# del"
      ],
      "metadata": {
        "id": "S4RCKu9MxhsR"
      },
      "execution_count": 37,
      "outputs": []
    },
    {
      "cell_type": "markdown",
      "metadata": {
        "id": "upw0HKxIExGz"
      },
      "source": [
        "# Comments\n",
        "Latihan: mana yang seharusnya menjadi komentar, mana yang tidak"
      ]
    },
    {
      "cell_type": "code",
      "execution_count": 38,
      "metadata": {
        "id": "90fIF9v9ExG0",
        "colab": {
          "base_uri": "https://localhost:8080/"
        },
        "outputId": "26c7ce8d-4d8c-40ba-e7ee-9b03d8f2e5cc"
      },
      "outputs": [
        {
          "output_type": "stream",
          "name": "stdout",
          "text": [
            "Hai...\n"
          ]
        }
      ],
      "source": [
        "#test\n",
        "print(\"Hai...\")\n",
        "#test1\n",
        "#test2"
      ]
    },
    {
      "cell_type": "markdown",
      "metadata": {
        "id": "DnYhnoy9ExG0"
      },
      "source": [
        "# How to talk to a computer\n",
        "katakunci `input()`<br/>\n",
        "hasil dari fungsi `input()` adalah <b>string</b>.<br/>\n",
        "Tidak bisa langsung dikenakan ke operasi aritmetika"
      ]
    },
    {
      "cell_type": "code",
      "execution_count": 39,
      "metadata": {
        "id": "Xj6AeAFUExG0",
        "outputId": "cb971cc7-66a4-4686-a622-189c0d127eff",
        "colab": {
          "base_uri": "https://localhost:8080/"
        }
      },
      "outputs": [
        {
          "output_type": "stream",
          "name": "stdout",
          "text": [
            "Katakan sesuatu...\n",
            "Selamat Pagi\n",
            "mmmmm Selamat Pagi  Oke\n"
          ]
        }
      ],
      "source": [
        "print(\"Katakan sesuatu...\")\n",
        "sesuatu = input()\n",
        "print(\"mmmmm\", sesuatu, \" Oke\")"
      ]
    },
    {
      "cell_type": "markdown",
      "metadata": {
        "id": "rsdLQgPzExG0"
      },
      "source": [
        "### type casting"
      ]
    },
    {
      "cell_type": "code",
      "execution_count": 40,
      "metadata": {
        "id": "Wj0yZ6WEExG0",
        "colab": {
          "base_uri": "https://localhost:8080/"
        },
        "outputId": "72e6fc36-998b-4ea8-f935-a970eec381c4"
      },
      "outputs": [
        {
          "output_type": "stream",
          "name": "stdout",
          "text": [
            "Masukan Angka : 7\n",
            "Pangkat duanya adalah  49.0\n"
          ]
        }
      ],
      "source": [
        "angka = float(input(\"Masukan Angka : \"))\n",
        "print(\"Pangkat duanya adalah \", angka**2)"
      ]
    },
    {
      "cell_type": "markdown",
      "metadata": {
        "id": "ZFdK-eTMExG1"
      },
      "source": [
        "#### Replication\n",
        "coba membuat cetak bangun datar persegi dengan replication\n",
        "\n",
        "![image.png](attachment:image.png)"
      ]
    },
    {
      "cell_type": "code",
      "execution_count": 41,
      "metadata": {
        "id": "41kx3AgSExG1",
        "colab": {
          "base_uri": "https://localhost:8080/"
        },
        "outputId": "e0d1445d-acaf-48c3-de30-13ce9bb66e17"
      },
      "outputs": [
        {
          "output_type": "stream",
          "name": "stdout",
          "text": [
            "+----------+\n",
            "|          |\n",
            "|          |\n",
            "|          |\n",
            "|          |\n",
            "|          |\n",
            "+----------+\n"
          ]
        }
      ],
      "source": [
        "print(\"+\" + 10*\"-\" + \"+\")\n",
        "print((\"|\" + 10*\" \" + \"|\\n\") * 5, end=\"\")\n",
        "print(\"+\" + 10*\"-\" + \"+\")"
      ]
    },
    {
      "cell_type": "markdown",
      "metadata": {
        "id": "MijFxj8gExG1"
      },
      "source": [
        "## Latihan : Simple input and output\n",
        "Coba utak atik perintah kode dibawah ini\n",
        "``` python\n",
        "# Masukkan nilai a dalam float\n",
        "# Masukkan nilai b dalam float\n",
        "\n",
        "# hitung hasil penambahan disini\n",
        "# hitung hasil pengurangan disini\n",
        "# hitung hasil perkalian disini\n",
        "# hitung hasil pembagian disini\n",
        "\n",
        "\n",
        "print(\"\\nYeahhhh\")\n",
        "```"
      ]
    },
    {
      "cell_type": "code",
      "source": [
        "a = float(input(\"Masukkan nilai a: \"))\n",
        "b = float(input(\"Masukkan nilai b: \"))\n",
        "\n",
        "penambahan = a + b\n",
        "pengurangan = a - b\n",
        "perkalian = a * b\n",
        "pembagian = a / b\n",
        "\n",
        "print(\"Hasil penambahan:\", penambahan)\n",
        "print(\"Hasil pengurangan:\", pengurangan)\n",
        "print(\"Hasil perkalian:\", perkalian)\n",
        "print(\"Hasil pembagian:\", pembagian)\n",
        "\n",
        "print(\"\\nYeahhhh\")"
      ],
      "metadata": {
        "colab": {
          "base_uri": "https://localhost:8080/"
        },
        "id": "ZXAFCUhgycil",
        "outputId": "aeb0bcf5-540e-44bd-e61a-89bfdac0a94d"
      },
      "execution_count": 44,
      "outputs": [
        {
          "output_type": "stream",
          "name": "stdout",
          "text": [
            "Masukkan nilai a: 4\n",
            "Masukkan nilai b: 3\n",
            "Hasil penambahan: 7.0\n",
            "Hasil pengurangan: 1.0\n",
            "Hasil perkalian: 12.0\n",
            "Hasil pembagian: 1.3333333333333333\n",
            "\n",
            "Yeahhhh\n"
          ]
        }
      ]
    },
    {
      "cell_type": "markdown",
      "metadata": {
        "id": "kgO5KT__ExG2"
      },
      "source": [
        "## Latihan: Operators and expressions\n",
        "Kerjakan rumus berikut:\n",
        "<img src=\"images/modul2_pembagian.PNG\" width=200px />\n",
        "\n",
        "input/output yang diharapkan\n",
        "```python\n",
        "x = 1\n",
        "y = 0.6000000000000001\n",
        "\n",
        "x = 10\n",
        "y = 0.09901951266867294\n",
        "```"
      ]
    },
    {
      "cell_type": "code",
      "source": [
        "x = float(input(\"Masukkan nilai x: \"))\n",
        "y = (1/(x+(1/(x+(1/(x+(1/x)))))))\n",
        "print(\"y =\", y)"
      ],
      "metadata": {
        "colab": {
          "base_uri": "https://localhost:8080/"
        },
        "id": "utSJEETPy4jc",
        "outputId": "edd79cf1-6843-46ab-9e74-3705562af655"
      },
      "execution_count": 47,
      "outputs": [
        {
          "output_type": "stream",
          "name": "stdout",
          "text": [
            "Masukkan nilai x: 3\n",
            "y = 0.3027522935779816\n"
          ]
        }
      ]
    },
    {
      "cell_type": "code",
      "execution_count": 45,
      "metadata": {
        "id": "xcad5OdyExG2",
        "colab": {
          "base_uri": "https://localhost:8080/"
        },
        "outputId": "248f577d-8e65-449a-87f2-9f8ce0070441"
      },
      "outputs": [
        {
          "output_type": "stream",
          "name": "stdout",
          "text": [
            "\"I'm\"\n",
            " \"\"learning\"\"\n",
            " \"\"\"Python\"\"\"\n",
            "\n"
          ]
        }
      ],
      "source": [
        "print(\"\\\"I'm\\\"\\n \\\"\\\"learning\\\"\\\"\\n \\\"\\\"\\\"Python\\\"\\\"\\\"\\n\")"
      ]
    }
  ],
  "metadata": {
    "kernelspec": {
      "display_name": "Python 3 (ipykernel)",
      "language": "python",
      "name": "python3"
    },
    "language_info": {
      "codemirror_mode": {
        "name": "ipython",
        "version": 3
      },
      "file_extension": ".py",
      "mimetype": "text/x-python",
      "name": "python",
      "nbconvert_exporter": "python",
      "pygments_lexer": "ipython3",
      "version": "3.9.5"
    },
    "colab": {
      "provenance": []
    }
  },
  "nbformat": 4,
  "nbformat_minor": 0
}