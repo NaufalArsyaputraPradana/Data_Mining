{
  "cells": [
    {
      "cell_type": "markdown",
      "metadata": {
        "id": "FqWmzRPi7GFg"
      },
      "source": [
        "# Python Bacis 4\n",
        "Modules, Packages and PIP\n",
        "\n",
        "Referensi Tambahan:\n",
        "- https://docs.python.org/3.8/\n",
        "- https://docs.python.org/id/3.8/tutorial/\n",
        "\n",
        "\n",
        "## Materi\n",
        "- importing and using Python modules;\n",
        "- using some of the most useful Python standard library modules;\n",
        "- constructing and using Python packages;\n",
        "- PIP (Python Installation Package) and how to use it to install and uninstall ready-to-use packages from PyPI.\n",
        "\n",
        "## Modules"
      ]
    },
    {
      "cell_type": "markdown",
      "metadata": {
        "id": "XjwriGYa7GFj"
      },
      "source": [
        "Computer code has a tendency to grow.\n",
        "\n",
        "Growing code is in fact a growing problem.\n",
        "\n",
        "A larger code always means tougher maintenance. Searching for bugs is always easier where the code is smaller\n",
        "\n",
        "If you want such a software project to be completed successfully, you have to have the means allowing you to:\n",
        "- divide all the tasks among the developers;\n",
        "- join all the created parts into one working whole.\n",
        "\n",
        "For example, a certain project can be divided into two main parts:\n",
        "\n",
        "- the user interface (the part that communicates with the user using widgets and a graphical screen)\n",
        "- the logic (the part processing data and producing results)\n",
        "\n",
        "Each of these parts can be (most likely) divided into smaller ones, and so on. Such a process is often called __decomposition__."
      ]
    },
    {
      "cell_type": "markdown",
      "metadata": {
        "id": "Dt_66jtW7GFk"
      },
      "source": [
        "## How to make use of a module?\n"
      ]
    },
    {
      "cell_type": "markdown",
      "metadata": {
        "id": "5_bG8wzK7GFk"
      },
      "source": [
        "![module.PNG](attachment:module.PNG)\n",
        "\n",
        "- pengguna (__user__) :  Menggunakan module yang sudah ada\n",
        "- penyedia (__supplier__) : Membuat module baru"
      ]
    },
    {
      "cell_type": "markdown",
      "metadata": {
        "id": "khMS6SgC7GFl"
      },
      "source": [
        "a module is identified by its __name__\n",
        "\n",
        "Each module consists of entities (like a book consists of chapters). These entities can be functions, variables, constants, classes, and objects.\n",
        "\n",
        "![module%20name.PNG](attachment:module%20name.PNG)\n",
        "\n"
      ]
    },
    {
      "cell_type": "markdown",
      "metadata": {
        "id": "An5nwHPl7GFl"
      },
      "source": [
        "## Importing a module"
      ]
    },
    {
      "cell_type": "markdown",
      "metadata": {
        "id": "XaWIIA-e7GFl"
      },
      "source": [
        "Importing a module is done by an instruction named `import`\n",
        "\n",
        "the clause contains:\n",
        "\n",
        "- the `import` keyword;\n",
        "- the `name` of the module which is subject to import.\n",
        "\n",
        "![import.PNG](attachment:import.PNG)"
      ]
    },
    {
      "cell_type": "code",
      "execution_count": 1,
      "metadata": {
        "id": "FuKGPzeV7GFm"
      },
      "outputs": [],
      "source": [
        "import math"
      ]
    },
    {
      "cell_type": "code",
      "execution_count": 2,
      "metadata": {
        "id": "WoO85CgC7GFo"
      },
      "outputs": [],
      "source": [
        "import math, sys"
      ]
    },
    {
      "cell_type": "markdown",
      "metadata": {
        "id": "po6iIMEm7GFo"
      },
      "source": [
        "## namespace"
      ]
    },
    {
      "cell_type": "markdown",
      "metadata": {
        "id": "wLr6Wi117GFp"
      },
      "source": [
        "A namespace is a space (understood in a non-physical context) in which some names exist and the names don't conflict with each other (i.e., there are not two different objects of the same name).\n",
        "\n",
        "![namespace.PNG](attachment:namespace.PNG)"
      ]
    },
    {
      "cell_type": "code",
      "source": [
        "import numpy\n",
        "import math\n",
        "import scipy\n",
        "\n",
        "print(math.pi)\n",
        "print(math.e)\n",
        "print(numpy.pi)\n",
        "print(scipy.pi)\n",
        "#note: pi inside the module won't be affected by pi that we declare in main program"
      ],
      "metadata": {
        "id": "lkQ2JaMg7abV"
      },
      "execution_count": null,
      "outputs": []
    },
    {
      "cell_type": "code",
      "execution_count": 5,
      "metadata": {
        "colab": {
          "base_uri": "https://localhost:8080/"
        },
        "id": "fgguiTW07GFp",
        "outputId": "9dcc66be-2df5-4b98-ad0c-a40ce7088089"
      },
      "outputs": [
        {
          "output_type": "stream",
          "name": "stdout",
          "text": [
            "3.141592653589793\n",
            "2.718281828459045\n",
            "3.141592653589793\n",
            "3.141592653589793\n"
          ]
        }
      ],
      "source": [
        "import numpy\n",
        "import math\n",
        "import scipy\n",
        "\n",
        "print(math.pi)\n",
        "print(math.e)\n",
        "print(numpy.pi)\n",
        "\n",
        "from scipy import constants\n",
        "print(constants.pi)"
      ]
    },
    {
      "cell_type": "code",
      "execution_count": 6,
      "metadata": {
        "colab": {
          "base_uri": "https://localhost:8080/"
        },
        "id": "oxp_B3aG7GFq",
        "outputId": "b87f384b-41f7-40da-9d75-9c5b2641bdad"
      },
      "outputs": [
        {
          "output_type": "stream",
          "name": "stdout",
          "text": [
            "3.141592653589793\n",
            "2.718281828459045\n"
          ]
        }
      ],
      "source": [
        "from math import pi,e\n",
        "\n",
        "print(pi)\n",
        "print(e)\n",
        "\n",
        "# dir(math)"
      ]
    },
    {
      "cell_type": "markdown",
      "metadata": {
        "id": "JzEEg8sY7GFr"
      },
      "source": [
        "The instruction consists of the following elements:\n",
        "\n",
        "- the `from` keyword;\n",
        "- the `name of the module` to be (selectively) imported;\n",
        "- the `import` keyword;\n",
        "- the `name` or `list of names` of the entity/entities which are being imported into the namespace."
      ]
    },
    {
      "cell_type": "code",
      "execution_count": 7,
      "metadata": {
        "colab": {
          "base_uri": "https://localhost:8080/"
        },
        "id": "5wuh7rY-7GFr",
        "outputId": "0412d97b-6e53-43d8-be0d-1e6d62689843"
      },
      "outputs": [
        {
          "output_type": "stream",
          "name": "stdout",
          "text": [
            "1.0\n",
            "=====\n",
            "0.99999999\n"
          ]
        }
      ],
      "source": [
        "## override nilai sin dan pi\n",
        "from math import sin, pi\n",
        "\n",
        "print(sin(pi/2))\n",
        "\n",
        "print(\"=====\")\n",
        "\n",
        "pi = 3.14\n",
        "\n",
        "def sin(x):\n",
        "    if 2 * x == pi:\n",
        "        return 0.99999999\n",
        "    else:\n",
        "        return None\n",
        "\n",
        "print(sin(pi/2))"
      ]
    },
    {
      "cell_type": "markdown",
      "metadata": {
        "id": "_0-31VAr7GFs"
      },
      "source": [
        "## Mengimport semua modul"
      ]
    },
    {
      "cell_type": "code",
      "execution_count": 8,
      "metadata": {
        "colab": {
          "base_uri": "https://localhost:8080/"
        },
        "id": "T3hN_aYC7GFs",
        "outputId": "640117c6-c0f9-4056-fe41-bc792ad31650"
      },
      "outputs": [
        {
          "output_type": "stream",
          "name": "stdout",
          "text": [
            "0.0\n"
          ]
        }
      ],
      "source": [
        "from math import *\n",
        "print(tan(0))"
      ]
    },
    {
      "cell_type": "markdown",
      "metadata": {
        "id": "0YBINez37GFs"
      },
      "source": [
        "Nama dari entitas digantikan dengan asterisk tunggal `*`\n",
        "\n",
        "`*` merupakan instruksi untuk meng-import semua entitas yang ada"
      ]
    },
    {
      "cell_type": "markdown",
      "metadata": {
        "id": "s6Kjb8gA7GFt"
      },
      "source": [
        "### Aliasing"
      ]
    },
    {
      "cell_type": "markdown",
      "metadata": {
        "id": "s2jfReh_7GFt"
      },
      "source": [
        "Untuk nama file yang akan di `import` kan dapat dilakukan proses `aliasing`\n",
        "\n",
        "`Aliasing` menyebabkan `modul` diidentifikasi dengan `nama yang berbeda` dari `aslinya`"
      ]
    },
    {
      "cell_type": "markdown",
      "metadata": {
        "id": "jybAToPP7GFt"
      },
      "source": [
        "`import` module `as` alias\n",
        "\n",
        "`as` merupakan kata kunci untuk melakukan `aliasing`"
      ]
    },
    {
      "cell_type": "markdown",
      "metadata": {
        "id": "oxJBiLJb7GFu"
      },
      "source": [
        "Jika kita ingin merename `math`, dengan `m` dapat dilakukan dengan cara sebagai berikut."
      ]
    },
    {
      "cell_type": "code",
      "execution_count": 9,
      "metadata": {
        "colab": {
          "base_uri": "https://localhost:8080/"
        },
        "id": "84WCZtE27GFu",
        "outputId": "6f620b36-944b-46f2-caed-4491ecab333e"
      },
      "outputs": [
        {
          "output_type": "stream",
          "name": "stdout",
          "text": [
            "3.141592653589793\n"
          ]
        }
      ],
      "source": [
        "import math as m\n",
        "\n",
        "print(m.pi)\n"
      ]
    },
    {
      "cell_type": "markdown",
      "metadata": {
        "id": "FR-lrIAY7GFu"
      },
      "source": [
        "__Note__ : after successful execution of an aliased import, the original module name becomes inaccessible and must not be used."
      ]
    },
    {
      "cell_type": "markdown",
      "metadata": {
        "id": "dwVTIAfW7GFv"
      },
      "source": [
        "__from__ `module` __import__ `name` __as__ `alias`\n",
        "\n",
        "__from__ `module` __import__ `n` __as__ `a`, `m` __as__ `b`, `o` __as__ `c`"
      ]
    },
    {
      "cell_type": "code",
      "execution_count": 10,
      "metadata": {
        "colab": {
          "base_uri": "https://localhost:8080/"
        },
        "id": "UUj9eHRQ7GFv",
        "outputId": "084d2f6c-c233-4a42-f527-cca2bbd97d60"
      },
      "outputs": [
        {
          "output_type": "stream",
          "name": "stdout",
          "text": [
            "1.0\n"
          ]
        }
      ],
      "source": [
        "from math import pi as PI, sin as sine\n",
        "\n",
        "print(sine(PI/2))"
      ]
    },
    {
      "cell_type": "markdown",
      "metadata": {
        "id": "6KqB1FxQ7GFv"
      },
      "source": [
        "## Working with standard modules\n",
        "\n",
        "__dir__(`module`)\n",
        "\n",
        "The function returns an alphabetically sorted list containing all entities' names available in the module"
      ]
    },
    {
      "cell_type": "code",
      "execution_count": 11,
      "metadata": {
        "colab": {
          "base_uri": "https://localhost:8080/"
        },
        "id": "lj_8FWOH7GFw",
        "outputId": "022d5fb7-7bc0-4158-e430-dc22a43b20bf"
      },
      "outputs": [
        {
          "output_type": "stream",
          "name": "stdout",
          "text": [
            "['__doc__', '__loader__', '__name__', '__package__', '__spec__', 'acos', 'acosh', 'asin', 'asinh', 'atan', 'atan2', 'atanh', 'ceil', 'comb', 'copysign', 'cos', 'cosh', 'degrees', 'dist', 'e', 'erf', 'erfc', 'exp', 'expm1', 'fabs', 'factorial', 'floor', 'fmod', 'frexp', 'fsum', 'gamma', 'gcd', 'hypot', 'inf', 'isclose', 'isfinite', 'isinf', 'isnan', 'isqrt', 'lcm', 'ldexp', 'lgamma', 'log', 'log10', 'log1p', 'log2', 'modf', 'nan', 'nextafter', 'perm', 'pi', 'pow', 'prod', 'radians', 'remainder', 'sin', 'sinh', 'sqrt', 'tan', 'tanh', 'tau', 'trunc', 'ulp']\n"
          ]
        }
      ],
      "source": [
        "import math\n",
        "print(dir(math))"
      ]
    },
    {
      "cell_type": "code",
      "execution_count": 12,
      "metadata": {
        "colab": {
          "base_uri": "https://localhost:8080/"
        },
        "id": "Ib4Vw2YI7GFx",
        "outputId": "8c1dabc2-d383-4376-dc5a-1b932bf770be"
      },
      "outputs": [
        {
          "output_type": "stream",
          "name": "stdout",
          "text": [
            "8.0\n",
            "__doc__\t__loader__\t__name__\t__package__\t__spec__\tacos\tacosh\tasin\tasinh\tatan\tatan2\tatanh\tceil\tcomb\tcopysign\tcos\tcosh\tdegrees\tdist\te\terf\terfc\texp\texpm1\tfabs\tfactorial\tfloor\tfmod\tfrexp\tfsum\tgamma\tgcd\thypot\tinf\tisclose\tisfinite\tisinf\tisnan\tisqrt\tlcm\tldexp\tlgamma\tlog\tlog10\tlog1p\tlog2\tmodf\tnan\tnextafter\tperm\tpi\tpow\tprod\tradians\tremainder\tsin\tsinh\tsqrt\ttan\ttanh\ttau\ttrunc\tulp\t"
          ]
        }
      ],
      "source": [
        "import math\n",
        "\n",
        "a = math.pow(2,3)\n",
        "print(a)\n",
        "\n",
        "for name in dir(math):\n",
        "    print(name, end=\"\\t\")"
      ]
    },
    {
      "cell_type": "markdown",
      "metadata": {
        "id": "uEzJoX017GFx"
      },
      "source": [
        "###  `math` module"
      ]
    },
    {
      "cell_type": "markdown",
      "metadata": {
        "id": "kVARgkiL7GFy"
      },
      "source": [
        "Let's start with a quick preview of some of the functions provided by the math module.\n",
        "\n",
        "The first group of the math's functions are connected with trigonometry:\n",
        "\n",
        "- `sin(x)` → the sine of x;\n",
        "- `cos(x)` → the cosine of x;\n",
        "- `tan(x)` → the tangent of x.\n",
        "\n",
        "Here are also their inversed versions:\n",
        "\n",
        "- `asin(x)` → the arcsine of x;\n",
        "- `acos(x)` → the arccosine of x;\n",
        "- `atan(x)` → the arctangent of x.\n",
        "\n",
        "`x` is a radian\n",
        "\n",
        "These functions take one argument (mind the domains) and return a measure of an angle in radians."
      ]
    },
    {
      "cell_type": "markdown",
      "metadata": {
        "id": "lprSFZ-P7GFz"
      },
      "source": [
        "To effectively operate on angle measurements, the math module provides you with the following entities:\n",
        "\n",
        "- `pi` → a constant with a value that is an approximation of π;\n",
        "- `radians(x)` → a function that converts x from degrees to radians;\n",
        "- `degrees(x)` → acting in the other direction (from radians to degrees)"
      ]
    },
    {
      "cell_type": "code",
      "execution_count": 13,
      "metadata": {
        "colab": {
          "base_uri": "https://localhost:8080/"
        },
        "id": "XahSMC367GF0",
        "outputId": "237eb175-0f89-4d5b-8004-1703b8addda5"
      },
      "outputs": [
        {
          "output_type": "stream",
          "name": "stdout",
          "text": [
            "1.5707963267948966\n",
            "90.0\n",
            "True\n",
            "True\n",
            "True\n",
            "True\n"
          ]
        }
      ],
      "source": [
        "from math import pi, radians, degrees, sin, cos, tan, asin\n",
        "\n",
        "ad = 90\n",
        "\n",
        "ar = radians(ad)\n",
        "print(ar)\n",
        "ad = degrees(ar)\n",
        "print(ad)\n",
        "\n",
        "print(ad == 90.)\n",
        "print(ar == pi / 2.)\n",
        "print(sin(ar) / cos(ar) == tan(ar))\n",
        "print(asin(sin(ar)) == ar)"
      ]
    },
    {
      "cell_type": "markdown",
      "metadata": {
        "id": "0-7phDu07GF1"
      },
      "source": [
        "Another group of the math's functions is formed by functions which are connected with exponentiation:\n",
        "\n",
        "- `e` → a constant with a value that is an approximation of Euler's number (e)\n",
        "- `exp(x)` → finding the value of ex;\n",
        "- `log(x)` → the natural logarithm of x\n",
        "- `log(x, b)` → the logarithm of x to base b\n",
        "- `log10(x)` → the decimal logarithm of x (more precise than log(x, 10))\n",
        "- `log2(x)` → the binary logarithm of x (more precise than log(x, 2))"
      ]
    },
    {
      "cell_type": "code",
      "execution_count": 14,
      "metadata": {
        "colab": {
          "base_uri": "https://localhost:8080/"
        },
        "id": "AqWgSVp77GF1",
        "outputId": "444e052a-eaa8-4cd0-d515-f79c2ec769be"
      },
      "outputs": [
        {
          "output_type": "stream",
          "name": "stdout",
          "text": [
            "True\n",
            "True\n",
            "True\n"
          ]
        }
      ],
      "source": [
        "from math import e, exp, log\n",
        "\n",
        "print(pow(e, 1) == exp(log(e)))\n",
        "print(pow(2, 2) == exp(2 * log(2)))\n",
        "print(log(e, e) == exp(0))"
      ]
    },
    {
      "cell_type": "markdown",
      "metadata": {
        "id": "wDTE7Crl7GF2"
      },
      "source": [
        "### Built-in function\n",
        "\n",
        "Note: the pow() function:\n",
        "\n",
        "`pow(x, y)` → finding the value of xy (mind the domains)\n",
        "\n",
        "This is a built-in function, and doesn't have to be imported."
      ]
    },
    {
      "cell_type": "markdown",
      "metadata": {
        "id": "E9yc2bwS7GF2"
      },
      "source": [
        "The last group consists of some general-purpose functions like:\n",
        "\n",
        "- ceil(x) → the ceiling of x (the smallest integer greater than or equal to x)\n",
        "- floor(x) → the floor of x (the largest integer less than or equal to x)\n",
        "- trunc(x) → the value of x truncated to an integer (__be careful__ - it's __not an equivalent__ either of ceil or floor)\n",
        "- factorial(x) → returns x! (x has to be an integral and not a negative)\n",
        "- hypot(x, y) → returns the length of the hypotenuse of a right-angle triangle with the leg lengths equal to x and y (the same as sqrt(pow(x, 2) + pow(y, 2)) but more precise)"
      ]
    },
    {
      "cell_type": "markdown",
      "metadata": {
        "id": "VslYbxM17GF2"
      },
      "source": [
        "It demonstrates the fundamental differences between `ceil()`, `floor()` and `trunc()`."
      ]
    },
    {
      "cell_type": "code",
      "execution_count": 15,
      "metadata": {
        "colab": {
          "base_uri": "https://localhost:8080/"
        },
        "id": "BVskTWTA7GF3",
        "outputId": "bc03a634-c3a2-424d-a3b3-fb9a4bbdc8c2"
      },
      "outputs": [
        {
          "output_type": "stream",
          "name": "stdout",
          "text": [
            "1 2\n",
            "-2 -3\n",
            "2 3\n",
            "-1 -2\n",
            "1 2\n",
            "-1 -2\n"
          ]
        }
      ],
      "source": [
        "from math import ceil, floor, trunc\n",
        "\n",
        "x = 1.4\n",
        "y = 2.6\n",
        "\n",
        "print(floor(x), floor(y))\n",
        "print(floor(-x), floor(-y))\n",
        "print(ceil(x), ceil(y))\n",
        "print(ceil(-x), ceil(-y))\n",
        "print(trunc(x), trunc(y))\n",
        "print(trunc(-x), trunc(-y))"
      ]
    },
    {
      "cell_type": "markdown",
      "metadata": {
        "id": "KYYFzSce7GF4"
      },
      "source": [
        "### `random` Module\n",
        "\n",
        "![random.PNG](attachment:random.PNG)"
      ]
    },
    {
      "cell_type": "markdown",
      "metadata": {
        "id": "iUUudjMU7GF5"
      },
      "source": [
        "It delivers some mechanisms allowing you to operate with __pseudorandom numbers__.\n",
        "\n",
        "__pseudo -__ :  the numbers generated by the modules may look random in the sense that you cannot predict their subsequent values, but don't forget that they all are calculated using very refined algorithms."
      ]
    },
    {
      "cell_type": "code",
      "execution_count": 16,
      "metadata": {
        "colab": {
          "base_uri": "https://localhost:8080/"
        },
        "id": "7MsvGql57GF5",
        "outputId": "9a652737-2952-4314-9028-20c6655b347f"
      },
      "outputs": [
        {
          "output_type": "stream",
          "name": "stdout",
          "text": [
            "0.341846392498138\n",
            "0.07258573061819462\n",
            "0.3360272075903069\n",
            "0.07935579398643311\n",
            "0.2629814712069354\n"
          ]
        }
      ],
      "source": [
        "from random import random\n",
        "for i in range(5):\n",
        "    print(random())"
      ]
    },
    {
      "cell_type": "code",
      "execution_count": 17,
      "metadata": {
        "id": "NUrLrsPh7GF5"
      },
      "outputs": [],
      "source": [
        "# import random\n",
        "# dir(random)"
      ]
    },
    {
      "cell_type": "markdown",
      "metadata": {
        "id": "FSSR1HcV7GF6"
      },
      "source": [
        "If you want integer random values, one of the following functions would fit better:\n",
        "\n",
        "- randrange(end)\n",
        "- randrange(beg, end)\n",
        "- randrange(beg, end, step)\n",
        "- randint(left, right)"
      ]
    },
    {
      "cell_type": "code",
      "execution_count": 18,
      "metadata": {
        "colab": {
          "base_uri": "https://localhost:8080/"
        },
        "id": "WWuoZY607GF6",
        "outputId": "98eeba11-6791-43eb-982f-84ea85059063"
      },
      "outputs": [
        {
          "output_type": "stream",
          "name": "stdout",
          "text": [
            "144\n",
            "90\n",
            "160\n",
            "6\n"
          ]
        }
      ],
      "source": [
        "# ini kode apa\n",
        "from random import randrange, randint\n",
        "\n",
        "print(randrange(200), end='\\n')\n",
        "print(randrange(50, 100), end='\\n')\n",
        "print(randrange(50, 200, 10), end='\\n')\n",
        "print(randint(5, 10))"
      ]
    },
    {
      "cell_type": "markdown",
      "metadata": {
        "id": "cH6ZXz4W7GF7"
      },
      "source": [
        "This is what we got in one of the launches:\n",
        "\n",
        "__`9,4,5,4,5,8,9,4,8,4,`__"
      ]
    },
    {
      "cell_type": "markdown",
      "metadata": {
        "id": "ZFU642NY7GF7"
      },
      "source": [
        "It's a function named in a very suggestive way - choice:\n",
        "\n",
        "choice(sequence)\n",
        "sample(sequence, elements_to_choose=1)"
      ]
    },
    {
      "cell_type": "code",
      "execution_count": 19,
      "metadata": {
        "colab": {
          "base_uri": "https://localhost:8080/"
        },
        "id": "1kqQKugD7GF7",
        "outputId": "5c133e12-7656-46c9-8680-e87846336aba"
      },
      "outputs": [
        {
          "output_type": "stream",
          "name": "stdout",
          "text": [
            "Cakra\n",
            "[10]\n",
            "[5, 4, 9, 7, 2, 10, 1, 3, 6, 8]\n"
          ]
        }
      ],
      "source": [
        "from random import choice, sample\n",
        "\n",
        "lst = [1, 2, 3, 4, 5, 6, 7, 8, 9, 10]\n",
        "siswa = ['Ani','Budi','Cakra','Desi']\n",
        "print(choice(siswa))\n",
        "print(sample(lst, 1))\n",
        "print(sample(lst, 10))"
      ]
    },
    {
      "cell_type": "code",
      "execution_count": 20,
      "metadata": {
        "colab": {
          "base_uri": "https://localhost:8080/"
        },
        "id": "YpQagyBy7GF8",
        "outputId": "f10a594a-10f9-4cc3-ed24-ba65155da317"
      },
      "outputs": [
        {
          "output_type": "stream",
          "name": "stdout",
          "text": [
            "4,9,8,1,4,6,1,5,7,3,"
          ]
        }
      ],
      "source": [
        "from random import randint\n",
        "\n",
        "for i in range(10):\n",
        "    print(randint(1, 10), end=',')"
      ]
    },
    {
      "cell_type": "markdown",
      "metadata": {
        "id": "om03ziPH7GF8"
      },
      "source": [
        "### How to know where you are?"
      ]
    },
    {
      "cell_type": "code",
      "execution_count": 21,
      "metadata": {
        "colab": {
          "base_uri": "https://localhost:8080/"
        },
        "id": "iyvIjlUO7GF8",
        "outputId": "c6b024aa-d6ff-4546-ec80-ab6e455fda32"
      },
      "outputs": [
        {
          "output_type": "stream",
          "name": "stdout",
          "text": [
            "Linux-6.1.85+-x86_64-with-glibc2.35\n",
            "Linux-6.1.85+-x86_64-with-glibc2.35\n",
            "Linux-6.1.85+-x86_64-with-glibc2.35\n"
          ]
        }
      ],
      "source": [
        "from platform import platform\n",
        "\n",
        "print(platform())\n",
        "print(platform(1))\n",
        "print(platform(0, 1))"
      ]
    },
    {
      "cell_type": "code",
      "execution_count": 22,
      "metadata": {
        "id": "4HMJ9gyY7GF8"
      },
      "outputs": [],
      "source": [
        "# import platform\n",
        "# dir(platform)"
      ]
    },
    {
      "cell_type": "code",
      "execution_count": 23,
      "metadata": {
        "colab": {
          "base_uri": "https://localhost:8080/"
        },
        "id": "WSJtdmly7GF9",
        "outputId": "226b4eeb-311f-412b-b013-b2c5761f1a7c"
      },
      "outputs": [
        {
          "output_type": "stream",
          "name": "stdout",
          "text": [
            "x86_64\n"
          ]
        }
      ],
      "source": [
        "from platform import machine\n",
        "\n",
        "print(machine())"
      ]
    },
    {
      "cell_type": "code",
      "execution_count": 24,
      "metadata": {
        "colab": {
          "base_uri": "https://localhost:8080/"
        },
        "id": "pIdiSbWp7GF9",
        "outputId": "a8af1e55-dbd8-420a-d828-0210c3134892"
      },
      "outputs": [
        {
          "output_type": "stream",
          "name": "stdout",
          "text": [
            "x86_64\n"
          ]
        }
      ],
      "source": [
        "from platform import processor\n",
        "\n",
        "print(processor())"
      ]
    },
    {
      "cell_type": "markdown",
      "metadata": {
        "id": "5qpxyWt-7GF9"
      },
      "source": [
        "You can read about all standard Python modules here: https://docs.python.org/3/py-modindex.html."
      ]
    },
    {
      "cell_type": "markdown",
      "metadata": {
        "id": "p6kcbOzQ7GF-"
      },
      "source": [
        "# Package"
      ]
    },
    {
      "cell_type": "markdown",
      "metadata": {
        "id": "onm0Bbz37GF-"
      },
      "source": [
        "![pacakge.PNG](attachment:pacakge.PNG)"
      ]
    },
    {
      "cell_type": "markdown",
      "metadata": {
        "id": "gyc7Xg1L7GF-"
      },
      "source": [
        "- __a module is a kind of container filled with functions__ - you can pack as many functions as you want into one module and distribute it across the world;\n",
        "- of course, it's generally __a good idea not to mix functions with different application areas__ within one module\n",
        "- making many modules may cause a little mess - sooner or later you'll want to __group your modules__ exactly in the same way as you've previously grouped functions\n",
        "- __package__; in the world of modules, a package plays a similar role to a folder/directory in the world of files."
      ]
    },
    {
      "cell_type": "markdown",
      "metadata": {
        "id": "5oeiGzyx7GF-"
      },
      "source": [
        "### Membuat modul\n",
        "\n",
        "Pertama,kita membuat 2 file dengan nama aritmatika.py dan main.py\n",
        "\n",
        "Langkah:\n",
        "\n",
        "artimatika.py:\n",
        "\n",
        "- Buka python IDLE\n",
        "- Klik __file__ dan pilih __new file__\n",
        "- Simpan file dengan nama __aritmatika.py__\n",
        "\n",
        "main.py:\n",
        "\n",
        "- Buka python IDLE\n",
        "- Klik __file__ dan pilih __new file__\n",
        "- Simpan file dengan __main.py__\n",
        "\n",
        "Note: __Kedua file disimpan dalam satu folder yang sama.__\n"
      ]
    },
    {
      "cell_type": "code",
      "execution_count": 28,
      "metadata": {
        "id": "U2DtJUs-7GF_"
      },
      "outputs": [],
      "source": [
        "# aritmatika.py\n",
        "\n",
        "def tambah(a,b):\n",
        "    return a+b\n",
        "\n",
        "def kurang(a,b):\n",
        "    return a-b\n",
        "\n",
        "def kali(a,b):\n",
        "    return a*b\n",
        "\n",
        "def bagi(a,b):\n",
        "    return a/b"
      ]
    },
    {
      "cell_type": "code",
      "source": [
        "import aritmatika"
      ],
      "metadata": {
        "id": "DAwGIlqC8nBl"
      },
      "execution_count": 30,
      "outputs": []
    },
    {
      "cell_type": "code",
      "execution_count": 31,
      "metadata": {
        "colab": {
          "base_uri": "https://localhost:8080/"
        },
        "id": "Aey3krQc7GF_",
        "outputId": "d8b9c013-c432-4b3a-8e5e-73659fb567ea"
      },
      "outputs": [
        {
          "output_type": "stream",
          "name": "stdout",
          "text": [
            "7\n",
            "-1\n",
            "12\n",
            "0.75\n"
          ]
        }
      ],
      "source": [
        "a=aritmatika.tambah(3,4)\n",
        "b=aritmatika.kurang(3,4)\n",
        "c=aritmatika.kali(3,4)\n",
        "d=aritmatika.bagi(3,4)\n",
        "\n",
        "print(a)\n",
        "print(b)\n",
        "print(c)\n",
        "print(d)"
      ]
    },
    {
      "cell_type": "code",
      "execution_count": 32,
      "metadata": {
        "colab": {
          "base_uri": "https://localhost:8080/"
        },
        "id": "76wHBAJs7GF_",
        "outputId": "9e668064-aaab-4d40-8d08-b0de8b3741c4"
      },
      "outputs": [
        {
          "output_type": "stream",
          "name": "stdout",
          "text": [
            "13\n"
          ]
        }
      ],
      "source": [
        "from aritmatika import tambah\n",
        "\n",
        "a=tambah(10,3)\n",
        "print(a)"
      ]
    },
    {
      "cell_type": "markdown",
      "metadata": {
        "id": "Oz0xSNCf7GGA"
      },
      "source": [
        "# Package"
      ]
    },
    {
      "cell_type": "markdown",
      "metadata": {
        "id": "Ghue7e3f7GGA"
      },
      "source": [
        "1. Buatlah folder dengan nama LATIHAN_PYTHON\n",
        "2. Dalam folder LATIHAN_PYTHON, buatlah folder dengan nama latihan_package, file main.py, dan file `__init__.py`\n",
        "3. Dalam latihan_package, buatlah 2 file, dengan nama alpha.py dan beta.py"
      ]
    },
    {
      "cell_type": "code",
      "execution_count": 35,
      "metadata": {
        "id": "qKXh79na7GGA"
      },
      "outputs": [],
      "source": [
        "#alpha.py\n",
        "def alphaSatu():\n",
        "\tprint(\"alpha   Satu\")\n",
        "\n",
        "def alphaDua():\n",
        "\tprint(\"alphaDua\")"
      ]
    },
    {
      "cell_type": "code",
      "source": [
        "#beta.py\n",
        "def betaSatu():\n",
        "\tprint(\"betaSatu\")\n",
        "\n",
        "def betaDua():\n",
        "\tprint(\"betaDua\")"
      ],
      "metadata": {
        "id": "JcKKUkPM9iKJ"
      },
      "execution_count": 36,
      "outputs": []
    },
    {
      "cell_type": "code",
      "source": [
        "#main.py\n",
        "\n",
        "import latihan_package.alpha as a\n",
        "import latihan_package.beta as b\n",
        "\n",
        "a.alphaSatu()"
      ],
      "metadata": {
        "id": "8D5-tEk3_5Pn"
      },
      "execution_count": null,
      "outputs": []
    },
    {
      "cell_type": "code",
      "source": [
        "#cara mengakses package yang dibuat, copy dan paste code dalam file main.py\n",
        "\n",
        "import os\n",
        "\n",
        "os.chdir(r\"C:\\Users\\HP\\OneDrive\\Mata Kuliah\\Data Mining\\Tugas Data Mining 2\\latihan_package\")\n",
        "\n",
        "import latihan_package.alpha as a, latihan_package.beta as b\n",
        "\n",
        "a.alphaSatu()\n",
        "b.betaSatu()"
      ],
      "metadata": {
        "id": "RvT_78v4_7OI"
      },
      "execution_count": null,
      "outputs": []
    },
    {
      "cell_type": "code",
      "execution_count": null,
      "metadata": {
        "id": "9jV-bQcC7GGB"
      },
      "outputs": [],
      "source": [
        "os.chdir(r\"E:\\CTA\\DIGITAL TALENT\\digital-talent\\2019\")"
      ]
    },
    {
      "cell_type": "code",
      "execution_count": null,
      "metadata": {
        "id": "UHQ67S7A7GGB"
      },
      "outputs": [],
      "source": [
        "import os\n",
        "os.getcwd()\n",
        "\n",
        "print(os.getcwd())"
      ]
    },
    {
      "cell_type": "markdown",
      "metadata": {
        "id": "r1nQ0aLP7GGB"
      },
      "source": [
        "#### Konsep package\n",
        "\n",
        "![pacakgetree.PNG](attachment:pacakgetree.PNG)\n",
        "\n",
        "`packages`, like modules, may require initialization.\n",
        "\n",
        "Python expects that there is a file with a very unique name inside the package's folder:`__init__.py.`\n",
        "\n",
        "The content of the file is executed when any of the package's modules is imported.\n",
        "\n",
        "If you don't want any special initializations, you can leave the __file empty__, but you mustn't omit it.\n",
        "\n"
      ]
    },
    {
      "cell_type": "code",
      "execution_count": null,
      "metadata": {
        "id": "Kro0O44U7GGB"
      },
      "outputs": [],
      "source": [
        "os.chdir(r\"C:\\Users\\HP\\OneDrive\\Mata Kuliah\\Data Mining\\Tugas Data Mining 2\\latihan_package\")\n",
        "\n",
        "import latihan_package.alpha as a\n",
        "a.alphaSatu()"
      ]
    },
    {
      "cell_type": "code",
      "execution_count": null,
      "metadata": {
        "id": "5KeFNDeP7GGC"
      },
      "outputs": [],
      "source": [
        "import alpha\n",
        "\n",
        "alpha.alphaSatu()"
      ]
    },
    {
      "cell_type": "markdown",
      "metadata": {
        "id": "m2xe68mk7GGC"
      },
      "source": [
        "# PyPI (Python Package Index), PIP installs packages\n",
        "\n",
        "- (https://pypi.org/) PyPI has lots of software in stock and it's available 24/7. It's fully entitled to identify itself as Ye International Python Software Emporium.\n",
        "- Some Python installations come with pip, some don't. What’s more, it doesn’t only depend on the OS you use, although this is a very important factor.\n",
        "\n",
        "#### List of main PIP activities\n",
        "- `pip help operation` - shows brief pip's description;\n",
        "- `pip list` - shows list of currently installed packages;\n",
        "- `pip show package_name` - shows package_name info including package's dependencies;\n",
        "- `pip search anystring` - searches through PyPI directories in order to find packages which name contains anystring;\n",
        "- `pip install name` - installs name system-wide (expect problems when you don't have administrative rights);\n",
        "- `pip install` --user name - install name for you only; no other your platform's user will be able to use it;\n",
        "- `pip install -U name` - updates previously installed package;\n",
        "- `pip uninstall name` - uninstalls previously installed package;"
      ]
    },
    {
      "cell_type": "code",
      "execution_count": 51,
      "metadata": {
        "colab": {
          "base_uri": "https://localhost:8080/"
        },
        "id": "PcC6OkLY7GGC",
        "outputId": "e916ac2b-1efd-49c8-8d70-2b835b9adbad"
      },
      "outputs": [
        {
          "output_type": "stream",
          "name": "stdout",
          "text": [
            "pip 24.1.2 from /usr/local/lib/python3.10/dist-packages/pip (python 3.10)\n"
          ]
        }
      ],
      "source": [
        "pip --version"
      ]
    },
    {
      "cell_type": "code",
      "execution_count": 52,
      "metadata": {
        "colab": {
          "base_uri": "https://localhost:8080/"
        },
        "id": "454dHTBG7GGD",
        "outputId": "67dacbd1-eaba-47b1-aeb6-2a331f615835"
      },
      "outputs": [
        {
          "output_type": "stream",
          "name": "stdout",
          "text": [
            "\n",
            "Usage:   \n",
            "  pip3 <command> [options]\n",
            "\n",
            "Commands:\n",
            "  install                     Install packages.\n",
            "  download                    Download packages.\n",
            "  uninstall                   Uninstall packages.\n",
            "  freeze                      Output installed packages in requirements format.\n",
            "  inspect                     Inspect the python environment.\n",
            "  list                        List installed packages.\n",
            "  show                        Show information about installed packages.\n",
            "  check                       Verify installed packages have compatible dependencies.\n",
            "  config                      Manage local and global configuration.\n",
            "  search                      Search PyPI for packages.\n",
            "  cache                       Inspect and manage pip's wheel cache.\n",
            "  index                       Inspect information available from package indexes.\n",
            "  wheel                       Build wheels from your requirements.\n",
            "  hash                        Compute hashes of package archives.\n",
            "  completion                  A helper command used for command completion.\n",
            "  debug                       Show information useful for debugging.\n",
            "  help                        Show help for commands.\n",
            "\n",
            "General Options:\n",
            "  -h, --help                  Show help.\n",
            "  --debug                     Let unhandled exceptions propagate outside the main subroutine,\n",
            "                              instead of logging them to stderr.\n",
            "  --isolated                  Run pip in an isolated mode, ignoring environment variables and user\n",
            "                              configuration.\n",
            "  --require-virtualenv        Allow pip to only run in a virtual environment; exit with an error\n",
            "                              otherwise.\n",
            "  --python <python>           Run pip with the specified Python interpreter.\n",
            "  -v, --verbose               Give more output. Option is additive, and can be used up to 3 times.\n",
            "  -V, --version               Show version and exit.\n",
            "  -q, --quiet                 Give less output. Option is additive, and can be used up to 3 times\n",
            "                              (corresponding to WARNING, ERROR, and CRITICAL logging levels).\n",
            "  --log <path>                Path to a verbose appending log.\n",
            "  --no-input                  Disable prompting for input.\n",
            "  --keyring-provider <keyring_provider>\n",
            "                              Enable the credential lookup via the keyring library if user input\n",
            "                              is allowed. Specify which mechanism to use [disabled, import,\n",
            "                              subprocess]. (default: disabled)\n",
            "  --proxy <proxy>             Specify a proxy in the form\n",
            "                              scheme://[user:passwd@]proxy.server:port.\n",
            "  --retries <retries>         Maximum number of retries each connection should attempt (default 5\n",
            "                              times).\n",
            "  --timeout <sec>             Set the socket timeout (default 15 seconds).\n",
            "  --exists-action <action>    Default action when a path already exists: (s)witch, (i)gnore,\n",
            "                              (w)ipe, (b)ackup, (a)bort.\n",
            "  --trusted-host <hostname>   Mark this host or host:port pair as trusted, even though it does not\n",
            "                              have valid or any HTTPS.\n",
            "  --cert <path>               Path to PEM-encoded CA certificate bundle. If provided, overrides\n",
            "                              the default. See 'SSL Certificate Verification' in pip documentation\n",
            "                              for more information.\n",
            "  --client-cert <path>        Path to SSL client certificate, a single file containing the private\n",
            "                              key and the certificate in PEM format.\n",
            "  --cache-dir <dir>           Store the cache data in <dir>.\n",
            "  --no-cache-dir              Disable the cache.\n",
            "  --disable-pip-version-check\n",
            "                              Don't periodically check PyPI to determine whether a new version of\n",
            "                              pip is available for download. Implied with --no-index.\n",
            "  --no-color                  Suppress colored output.\n",
            "  --no-python-version-warning\n",
            "                              Silence deprecation warnings for upcoming unsupported Pythons.\n",
            "  --use-feature <feature>     Enable new functionality, that may be backward incompatible.\n",
            "  --use-deprecated <feature>  Enable deprecated functionality, that will be removed in the future.\n"
          ]
        }
      ],
      "source": [
        "pip help"
      ]
    }
  ],
  "metadata": {
    "kernelspec": {
      "display_name": "Python 3 (ipykernel)",
      "language": "python",
      "name": "python3"
    },
    "language_info": {
      "codemirror_mode": {
        "name": "ipython",
        "version": 3
      },
      "file_extension": ".py",
      "mimetype": "text/x-python",
      "name": "python",
      "nbconvert_exporter": "python",
      "pygments_lexer": "ipython3",
      "version": "3.9.5"
    },
    "colab": {
      "provenance": []
    }
  },
  "nbformat": 4,
  "nbformat_minor": 0
}