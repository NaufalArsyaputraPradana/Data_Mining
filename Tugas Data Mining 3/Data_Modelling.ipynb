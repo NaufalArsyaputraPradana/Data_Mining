{
  "cells": [
    {
      "cell_type": "markdown",
      "source": [
        "**Pra Pemrosesan Data**"
      ],
      "metadata": {
        "id": "jhGD68LI-CWg"
      },
      "id": "jhGD68LI-CWg"
    },
    {
      "cell_type": "code",
      "execution_count": 180,
      "id": "85a04ff4-0732-4967-bd09-50a54bfd3004",
      "metadata": {
        "id": "85a04ff4-0732-4967-bd09-50a54bfd3004"
      },
      "outputs": [],
      "source": [
        "import numpy as np\n",
        "import matplotlib.pyplot as plt\n",
        "import pandas as pd\n",
        "import seaborn as sns\n",
        "from sklearn.impute import SimpleImputer"
      ]
    },
    {
      "cell_type": "code",
      "execution_count": 181,
      "id": "e71597be-800f-41e1-afc0-f516ee99aab0",
      "metadata": {
        "colab": {
          "base_uri": "https://localhost:8080/",
          "height": 615
        },
        "id": "e71597be-800f-41e1-afc0-f516ee99aab0",
        "outputId": "07b0c9cb-b64b-4caf-bc4c-c633ba6f4703"
      },
      "outputs": [
        {
          "output_type": "execute_result",
          "data": {
            "text/plain": [
              "      NO      NAMA   USIA  PARITAS JARAK KELAHIRAN RIW HIPERTENSI RIW PE  \\\n",
              "0      1    NAMA 1  23 TH        3       < 2 tahun          Tidak  Tidak   \n",
              "1      2    NAMA 2  29 TH        2       < 2 tahun          Tidak    PEB   \n",
              "2      3    NAMA 3  20 TH        1    anak pertama          Tidak  Tidak   \n",
              "3      4    NAMA 4  18 TH        1    anak pertama          Tidak  Tidak   \n",
              "4      5    NAMA 5  34 TH        3      > 2 tahun           Tidak  Tidak   \n",
              "..   ...       ...    ...      ...             ...            ...    ...   \n",
              "556  558  NAMA 557  40 TH        3      > 2 tahun           Tidak  Tidak   \n",
              "557  559  NAMA 558  28 TH        3       < 2 tahun          Tidak  Tidak   \n",
              "558  560  NAMA 559  41 TH        3      > 2 tahun           Tidak  Tidak   \n",
              "559  561  NAMA 560  32 TH        2      > 2 tahun           Tidak  Tidak   \n",
              "560  562  NAMA 561  30 TH        2      > 2 tahun           Tidak  Tidak   \n",
              "\n",
              "    OBESITAS RIW DM RIW HIPERTENSI/PE DALAM KELUARGA SOSEK RENDAH PE/Non PE  \\\n",
              "0      Tidak     Ya                            Tidak         >UMR    Non PE   \n",
              "1      Tidak  Tidak                              Ada         >UMR        PE   \n",
              "2      Tidak  Tidak                            Tidak         >UMR    Non PE   \n",
              "3      Tidak  Tidak                            Tidak         >UMR    Non PE   \n",
              "4      Tidak  Tidak                            Tidak         >UMR    Non PE   \n",
              "..       ...    ...                              ...          ...       ...   \n",
              "556    Tidak  Tidak                            Tidak         >UMR    Non PE   \n",
              "557    Tidak  Tidak                            Tidak         >UMR    Non PE   \n",
              "558    Tidak  Tidak                            Tidak         >UMR    Non PE   \n",
              "559    Tidak  Tidak                            Tidak         >UMR    Non PE   \n",
              "560    Tidak  Tidak                            Tidak         >UMR    Non PE   \n",
              "\n",
              "    Unnamed: 12  \n",
              "0           NaN  \n",
              "1           NaN  \n",
              "2           NaN  \n",
              "3           NaN  \n",
              "4           NaN  \n",
              "..          ...  \n",
              "556         NaN  \n",
              "557         NaN  \n",
              "558         NaN  \n",
              "559         NaN  \n",
              "560         NaN  \n",
              "\n",
              "[561 rows x 13 columns]"
            ],
            "text/html": [
              "\n",
              "  <div id=\"df-8a2b30be-2455-4566-a3fa-54c2afbeb0ac\" class=\"colab-df-container\">\n",
              "    <div>\n",
              "<style scoped>\n",
              "    .dataframe tbody tr th:only-of-type {\n",
              "        vertical-align: middle;\n",
              "    }\n",
              "\n",
              "    .dataframe tbody tr th {\n",
              "        vertical-align: top;\n",
              "    }\n",
              "\n",
              "    .dataframe thead th {\n",
              "        text-align: right;\n",
              "    }\n",
              "</style>\n",
              "<table border=\"1\" class=\"dataframe\">\n",
              "  <thead>\n",
              "    <tr style=\"text-align: right;\">\n",
              "      <th></th>\n",
              "      <th>NO</th>\n",
              "      <th>NAMA</th>\n",
              "      <th>USIA</th>\n",
              "      <th>PARITAS</th>\n",
              "      <th>JARAK KELAHIRAN</th>\n",
              "      <th>RIW HIPERTENSI</th>\n",
              "      <th>RIW PE</th>\n",
              "      <th>OBESITAS</th>\n",
              "      <th>RIW DM</th>\n",
              "      <th>RIW HIPERTENSI/PE DALAM KELUARGA</th>\n",
              "      <th>SOSEK RENDAH</th>\n",
              "      <th>PE/Non PE</th>\n",
              "      <th>Unnamed: 12</th>\n",
              "    </tr>\n",
              "  </thead>\n",
              "  <tbody>\n",
              "    <tr>\n",
              "      <th>0</th>\n",
              "      <td>1</td>\n",
              "      <td>NAMA 1</td>\n",
              "      <td>23 TH</td>\n",
              "      <td>3</td>\n",
              "      <td>&lt; 2 tahun</td>\n",
              "      <td>Tidak</td>\n",
              "      <td>Tidak</td>\n",
              "      <td>Tidak</td>\n",
              "      <td>Ya</td>\n",
              "      <td>Tidak</td>\n",
              "      <td>&gt;UMR</td>\n",
              "      <td>Non PE</td>\n",
              "      <td>NaN</td>\n",
              "    </tr>\n",
              "    <tr>\n",
              "      <th>1</th>\n",
              "      <td>2</td>\n",
              "      <td>NAMA 2</td>\n",
              "      <td>29 TH</td>\n",
              "      <td>2</td>\n",
              "      <td>&lt; 2 tahun</td>\n",
              "      <td>Tidak</td>\n",
              "      <td>PEB</td>\n",
              "      <td>Tidak</td>\n",
              "      <td>Tidak</td>\n",
              "      <td>Ada</td>\n",
              "      <td>&gt;UMR</td>\n",
              "      <td>PE</td>\n",
              "      <td>NaN</td>\n",
              "    </tr>\n",
              "    <tr>\n",
              "      <th>2</th>\n",
              "      <td>3</td>\n",
              "      <td>NAMA 3</td>\n",
              "      <td>20 TH</td>\n",
              "      <td>1</td>\n",
              "      <td>anak pertama</td>\n",
              "      <td>Tidak</td>\n",
              "      <td>Tidak</td>\n",
              "      <td>Tidak</td>\n",
              "      <td>Tidak</td>\n",
              "      <td>Tidak</td>\n",
              "      <td>&gt;UMR</td>\n",
              "      <td>Non PE</td>\n",
              "      <td>NaN</td>\n",
              "    </tr>\n",
              "    <tr>\n",
              "      <th>3</th>\n",
              "      <td>4</td>\n",
              "      <td>NAMA 4</td>\n",
              "      <td>18 TH</td>\n",
              "      <td>1</td>\n",
              "      <td>anak pertama</td>\n",
              "      <td>Tidak</td>\n",
              "      <td>Tidak</td>\n",
              "      <td>Tidak</td>\n",
              "      <td>Tidak</td>\n",
              "      <td>Tidak</td>\n",
              "      <td>&gt;UMR</td>\n",
              "      <td>Non PE</td>\n",
              "      <td>NaN</td>\n",
              "    </tr>\n",
              "    <tr>\n",
              "      <th>4</th>\n",
              "      <td>5</td>\n",
              "      <td>NAMA 5</td>\n",
              "      <td>34 TH</td>\n",
              "      <td>3</td>\n",
              "      <td>&gt; 2 tahun</td>\n",
              "      <td>Tidak</td>\n",
              "      <td>Tidak</td>\n",
              "      <td>Tidak</td>\n",
              "      <td>Tidak</td>\n",
              "      <td>Tidak</td>\n",
              "      <td>&gt;UMR</td>\n",
              "      <td>Non PE</td>\n",
              "      <td>NaN</td>\n",
              "    </tr>\n",
              "    <tr>\n",
              "      <th>...</th>\n",
              "      <td>...</td>\n",
              "      <td>...</td>\n",
              "      <td>...</td>\n",
              "      <td>...</td>\n",
              "      <td>...</td>\n",
              "      <td>...</td>\n",
              "      <td>...</td>\n",
              "      <td>...</td>\n",
              "      <td>...</td>\n",
              "      <td>...</td>\n",
              "      <td>...</td>\n",
              "      <td>...</td>\n",
              "      <td>...</td>\n",
              "    </tr>\n",
              "    <tr>\n",
              "      <th>556</th>\n",
              "      <td>558</td>\n",
              "      <td>NAMA 557</td>\n",
              "      <td>40 TH</td>\n",
              "      <td>3</td>\n",
              "      <td>&gt; 2 tahun</td>\n",
              "      <td>Tidak</td>\n",
              "      <td>Tidak</td>\n",
              "      <td>Tidak</td>\n",
              "      <td>Tidak</td>\n",
              "      <td>Tidak</td>\n",
              "      <td>&gt;UMR</td>\n",
              "      <td>Non PE</td>\n",
              "      <td>NaN</td>\n",
              "    </tr>\n",
              "    <tr>\n",
              "      <th>557</th>\n",
              "      <td>559</td>\n",
              "      <td>NAMA 558</td>\n",
              "      <td>28 TH</td>\n",
              "      <td>3</td>\n",
              "      <td>&lt; 2 tahun</td>\n",
              "      <td>Tidak</td>\n",
              "      <td>Tidak</td>\n",
              "      <td>Tidak</td>\n",
              "      <td>Tidak</td>\n",
              "      <td>Tidak</td>\n",
              "      <td>&gt;UMR</td>\n",
              "      <td>Non PE</td>\n",
              "      <td>NaN</td>\n",
              "    </tr>\n",
              "    <tr>\n",
              "      <th>558</th>\n",
              "      <td>560</td>\n",
              "      <td>NAMA 559</td>\n",
              "      <td>41 TH</td>\n",
              "      <td>3</td>\n",
              "      <td>&gt; 2 tahun</td>\n",
              "      <td>Tidak</td>\n",
              "      <td>Tidak</td>\n",
              "      <td>Tidak</td>\n",
              "      <td>Tidak</td>\n",
              "      <td>Tidak</td>\n",
              "      <td>&gt;UMR</td>\n",
              "      <td>Non PE</td>\n",
              "      <td>NaN</td>\n",
              "    </tr>\n",
              "    <tr>\n",
              "      <th>559</th>\n",
              "      <td>561</td>\n",
              "      <td>NAMA 560</td>\n",
              "      <td>32 TH</td>\n",
              "      <td>2</td>\n",
              "      <td>&gt; 2 tahun</td>\n",
              "      <td>Tidak</td>\n",
              "      <td>Tidak</td>\n",
              "      <td>Tidak</td>\n",
              "      <td>Tidak</td>\n",
              "      <td>Tidak</td>\n",
              "      <td>&gt;UMR</td>\n",
              "      <td>Non PE</td>\n",
              "      <td>NaN</td>\n",
              "    </tr>\n",
              "    <tr>\n",
              "      <th>560</th>\n",
              "      <td>562</td>\n",
              "      <td>NAMA 561</td>\n",
              "      <td>30 TH</td>\n",
              "      <td>2</td>\n",
              "      <td>&gt; 2 tahun</td>\n",
              "      <td>Tidak</td>\n",
              "      <td>Tidak</td>\n",
              "      <td>Tidak</td>\n",
              "      <td>Tidak</td>\n",
              "      <td>Tidak</td>\n",
              "      <td>&gt;UMR</td>\n",
              "      <td>Non PE</td>\n",
              "      <td>NaN</td>\n",
              "    </tr>\n",
              "  </tbody>\n",
              "</table>\n",
              "<p>561 rows × 13 columns</p>\n",
              "</div>\n",
              "    <div class=\"colab-df-buttons\">\n",
              "\n",
              "  <div class=\"colab-df-container\">\n",
              "    <button class=\"colab-df-convert\" onclick=\"convertToInteractive('df-8a2b30be-2455-4566-a3fa-54c2afbeb0ac')\"\n",
              "            title=\"Convert this dataframe to an interactive table.\"\n",
              "            style=\"display:none;\">\n",
              "\n",
              "  <svg xmlns=\"http://www.w3.org/2000/svg\" height=\"24px\" viewBox=\"0 -960 960 960\">\n",
              "    <path d=\"M120-120v-720h720v720H120Zm60-500h600v-160H180v160Zm220 220h160v-160H400v160Zm0 220h160v-160H400v160ZM180-400h160v-160H180v160Zm440 0h160v-160H620v160ZM180-180h160v-160H180v160Zm440 0h160v-160H620v160Z\"/>\n",
              "  </svg>\n",
              "    </button>\n",
              "\n",
              "  <style>\n",
              "    .colab-df-container {\n",
              "      display:flex;\n",
              "      gap: 12px;\n",
              "    }\n",
              "\n",
              "    .colab-df-convert {\n",
              "      background-color: #E8F0FE;\n",
              "      border: none;\n",
              "      border-radius: 50%;\n",
              "      cursor: pointer;\n",
              "      display: none;\n",
              "      fill: #1967D2;\n",
              "      height: 32px;\n",
              "      padding: 0 0 0 0;\n",
              "      width: 32px;\n",
              "    }\n",
              "\n",
              "    .colab-df-convert:hover {\n",
              "      background-color: #E2EBFA;\n",
              "      box-shadow: 0px 1px 2px rgba(60, 64, 67, 0.3), 0px 1px 3px 1px rgba(60, 64, 67, 0.15);\n",
              "      fill: #174EA6;\n",
              "    }\n",
              "\n",
              "    .colab-df-buttons div {\n",
              "      margin-bottom: 4px;\n",
              "    }\n",
              "\n",
              "    [theme=dark] .colab-df-convert {\n",
              "      background-color: #3B4455;\n",
              "      fill: #D2E3FC;\n",
              "    }\n",
              "\n",
              "    [theme=dark] .colab-df-convert:hover {\n",
              "      background-color: #434B5C;\n",
              "      box-shadow: 0px 1px 3px 1px rgba(0, 0, 0, 0.15);\n",
              "      filter: drop-shadow(0px 1px 2px rgba(0, 0, 0, 0.3));\n",
              "      fill: #FFFFFF;\n",
              "    }\n",
              "  </style>\n",
              "\n",
              "    <script>\n",
              "      const buttonEl =\n",
              "        document.querySelector('#df-8a2b30be-2455-4566-a3fa-54c2afbeb0ac button.colab-df-convert');\n",
              "      buttonEl.style.display =\n",
              "        google.colab.kernel.accessAllowed ? 'block' : 'none';\n",
              "\n",
              "      async function convertToInteractive(key) {\n",
              "        const element = document.querySelector('#df-8a2b30be-2455-4566-a3fa-54c2afbeb0ac');\n",
              "        const dataTable =\n",
              "          await google.colab.kernel.invokeFunction('convertToInteractive',\n",
              "                                                    [key], {});\n",
              "        if (!dataTable) return;\n",
              "\n",
              "        const docLinkHtml = 'Like what you see? Visit the ' +\n",
              "          '<a target=\"_blank\" href=https://colab.research.google.com/notebooks/data_table.ipynb>data table notebook</a>'\n",
              "          + ' to learn more about interactive tables.';\n",
              "        element.innerHTML = '';\n",
              "        dataTable['output_type'] = 'display_data';\n",
              "        await google.colab.output.renderOutput(dataTable, element);\n",
              "        const docLink = document.createElement('div');\n",
              "        docLink.innerHTML = docLinkHtml;\n",
              "        element.appendChild(docLink);\n",
              "      }\n",
              "    </script>\n",
              "  </div>\n",
              "\n",
              "\n",
              "<div id=\"df-8a6077cf-48a7-4d93-a15c-a2481da16fbe\">\n",
              "  <button class=\"colab-df-quickchart\" onclick=\"quickchart('df-8a6077cf-48a7-4d93-a15c-a2481da16fbe')\"\n",
              "            title=\"Suggest charts\"\n",
              "            style=\"display:none;\">\n",
              "\n",
              "<svg xmlns=\"http://www.w3.org/2000/svg\" height=\"24px\"viewBox=\"0 0 24 24\"\n",
              "     width=\"24px\">\n",
              "    <g>\n",
              "        <path d=\"M19 3H5c-1.1 0-2 .9-2 2v14c0 1.1.9 2 2 2h14c1.1 0 2-.9 2-2V5c0-1.1-.9-2-2-2zM9 17H7v-7h2v7zm4 0h-2V7h2v10zm4 0h-2v-4h2v4z\"/>\n",
              "    </g>\n",
              "</svg>\n",
              "  </button>\n",
              "\n",
              "<style>\n",
              "  .colab-df-quickchart {\n",
              "      --bg-color: #E8F0FE;\n",
              "      --fill-color: #1967D2;\n",
              "      --hover-bg-color: #E2EBFA;\n",
              "      --hover-fill-color: #174EA6;\n",
              "      --disabled-fill-color: #AAA;\n",
              "      --disabled-bg-color: #DDD;\n",
              "  }\n",
              "\n",
              "  [theme=dark] .colab-df-quickchart {\n",
              "      --bg-color: #3B4455;\n",
              "      --fill-color: #D2E3FC;\n",
              "      --hover-bg-color: #434B5C;\n",
              "      --hover-fill-color: #FFFFFF;\n",
              "      --disabled-bg-color: #3B4455;\n",
              "      --disabled-fill-color: #666;\n",
              "  }\n",
              "\n",
              "  .colab-df-quickchart {\n",
              "    background-color: var(--bg-color);\n",
              "    border: none;\n",
              "    border-radius: 50%;\n",
              "    cursor: pointer;\n",
              "    display: none;\n",
              "    fill: var(--fill-color);\n",
              "    height: 32px;\n",
              "    padding: 0;\n",
              "    width: 32px;\n",
              "  }\n",
              "\n",
              "  .colab-df-quickchart:hover {\n",
              "    background-color: var(--hover-bg-color);\n",
              "    box-shadow: 0 1px 2px rgba(60, 64, 67, 0.3), 0 1px 3px 1px rgba(60, 64, 67, 0.15);\n",
              "    fill: var(--button-hover-fill-color);\n",
              "  }\n",
              "\n",
              "  .colab-df-quickchart-complete:disabled,\n",
              "  .colab-df-quickchart-complete:disabled:hover {\n",
              "    background-color: var(--disabled-bg-color);\n",
              "    fill: var(--disabled-fill-color);\n",
              "    box-shadow: none;\n",
              "  }\n",
              "\n",
              "  .colab-df-spinner {\n",
              "    border: 2px solid var(--fill-color);\n",
              "    border-color: transparent;\n",
              "    border-bottom-color: var(--fill-color);\n",
              "    animation:\n",
              "      spin 1s steps(1) infinite;\n",
              "  }\n",
              "\n",
              "  @keyframes spin {\n",
              "    0% {\n",
              "      border-color: transparent;\n",
              "      border-bottom-color: var(--fill-color);\n",
              "      border-left-color: var(--fill-color);\n",
              "    }\n",
              "    20% {\n",
              "      border-color: transparent;\n",
              "      border-left-color: var(--fill-color);\n",
              "      border-top-color: var(--fill-color);\n",
              "    }\n",
              "    30% {\n",
              "      border-color: transparent;\n",
              "      border-left-color: var(--fill-color);\n",
              "      border-top-color: var(--fill-color);\n",
              "      border-right-color: var(--fill-color);\n",
              "    }\n",
              "    40% {\n",
              "      border-color: transparent;\n",
              "      border-right-color: var(--fill-color);\n",
              "      border-top-color: var(--fill-color);\n",
              "    }\n",
              "    60% {\n",
              "      border-color: transparent;\n",
              "      border-right-color: var(--fill-color);\n",
              "    }\n",
              "    80% {\n",
              "      border-color: transparent;\n",
              "      border-right-color: var(--fill-color);\n",
              "      border-bottom-color: var(--fill-color);\n",
              "    }\n",
              "    90% {\n",
              "      border-color: transparent;\n",
              "      border-bottom-color: var(--fill-color);\n",
              "    }\n",
              "  }\n",
              "</style>\n",
              "\n",
              "  <script>\n",
              "    async function quickchart(key) {\n",
              "      const quickchartButtonEl =\n",
              "        document.querySelector('#' + key + ' button');\n",
              "      quickchartButtonEl.disabled = true;  // To prevent multiple clicks.\n",
              "      quickchartButtonEl.classList.add('colab-df-spinner');\n",
              "      try {\n",
              "        const charts = await google.colab.kernel.invokeFunction(\n",
              "            'suggestCharts', [key], {});\n",
              "      } catch (error) {\n",
              "        console.error('Error during call to suggestCharts:', error);\n",
              "      }\n",
              "      quickchartButtonEl.classList.remove('colab-df-spinner');\n",
              "      quickchartButtonEl.classList.add('colab-df-quickchart-complete');\n",
              "    }\n",
              "    (() => {\n",
              "      let quickchartButtonEl =\n",
              "        document.querySelector('#df-8a6077cf-48a7-4d93-a15c-a2481da16fbe button');\n",
              "      quickchartButtonEl.style.display =\n",
              "        google.colab.kernel.accessAllowed ? 'block' : 'none';\n",
              "    })();\n",
              "  </script>\n",
              "</div>\n",
              "\n",
              "  <div id=\"id_779778ad-f9b9-4483-9c0f-0f46b402064a\">\n",
              "    <style>\n",
              "      .colab-df-generate {\n",
              "        background-color: #E8F0FE;\n",
              "        border: none;\n",
              "        border-radius: 50%;\n",
              "        cursor: pointer;\n",
              "        display: none;\n",
              "        fill: #1967D2;\n",
              "        height: 32px;\n",
              "        padding: 0 0 0 0;\n",
              "        width: 32px;\n",
              "      }\n",
              "\n",
              "      .colab-df-generate:hover {\n",
              "        background-color: #E2EBFA;\n",
              "        box-shadow: 0px 1px 2px rgba(60, 64, 67, 0.3), 0px 1px 3px 1px rgba(60, 64, 67, 0.15);\n",
              "        fill: #174EA6;\n",
              "      }\n",
              "\n",
              "      [theme=dark] .colab-df-generate {\n",
              "        background-color: #3B4455;\n",
              "        fill: #D2E3FC;\n",
              "      }\n",
              "\n",
              "      [theme=dark] .colab-df-generate:hover {\n",
              "        background-color: #434B5C;\n",
              "        box-shadow: 0px 1px 3px 1px rgba(0, 0, 0, 0.15);\n",
              "        filter: drop-shadow(0px 1px 2px rgba(0, 0, 0, 0.3));\n",
              "        fill: #FFFFFF;\n",
              "      }\n",
              "    </style>\n",
              "    <button class=\"colab-df-generate\" onclick=\"generateWithVariable('datasets')\"\n",
              "            title=\"Generate code using this dataframe.\"\n",
              "            style=\"display:none;\">\n",
              "\n",
              "  <svg xmlns=\"http://www.w3.org/2000/svg\" height=\"24px\"viewBox=\"0 0 24 24\"\n",
              "       width=\"24px\">\n",
              "    <path d=\"M7,19H8.4L18.45,9,17,7.55,7,17.6ZM5,21V16.75L18.45,3.32a2,2,0,0,1,2.83,0l1.4,1.43a1.91,1.91,0,0,1,.58,1.4,1.91,1.91,0,0,1-.58,1.4L9.25,21ZM18.45,9,17,7.55Zm-12,3A5.31,5.31,0,0,0,4.9,8.1,5.31,5.31,0,0,0,1,6.5,5.31,5.31,0,0,0,4.9,4.9,5.31,5.31,0,0,0,6.5,1,5.31,5.31,0,0,0,8.1,4.9,5.31,5.31,0,0,0,12,6.5,5.46,5.46,0,0,0,6.5,12Z\"/>\n",
              "  </svg>\n",
              "    </button>\n",
              "    <script>\n",
              "      (() => {\n",
              "      const buttonEl =\n",
              "        document.querySelector('#id_779778ad-f9b9-4483-9c0f-0f46b402064a button.colab-df-generate');\n",
              "      buttonEl.style.display =\n",
              "        google.colab.kernel.accessAllowed ? 'block' : 'none';\n",
              "\n",
              "      buttonEl.onclick = () => {\n",
              "        google.colab.notebook.generateWithVariable('datasets');\n",
              "      }\n",
              "      })();\n",
              "    </script>\n",
              "  </div>\n",
              "\n",
              "    </div>\n",
              "  </div>\n"
            ],
            "application/vnd.google.colaboratory.intrinsic+json": {
              "type": "dataframe",
              "variable_name": "datasets",
              "summary": "{\n  \"name\": \"datasets\",\n  \"rows\": 561,\n  \"fields\": [\n    {\n      \"column\": \"NO\",\n      \"properties\": {\n        \"dtype\": \"number\",\n        \"std\": 162,\n        \"min\": 1,\n        \"max\": 562,\n        \"num_unique_values\": 561,\n        \"samples\": [\n          515,\n          344,\n          179\n        ],\n        \"semantic_type\": \"\",\n        \"description\": \"\"\n      }\n    },\n    {\n      \"column\": \"NAMA\",\n      \"properties\": {\n        \"dtype\": \"string\",\n        \"num_unique_values\": 561,\n        \"samples\": [\n          \"NAMA 514\",\n          \"NAMA 343\",\n          \"NAMA 178\"\n        ],\n        \"semantic_type\": \"\",\n        \"description\": \"\"\n      }\n    },\n    {\n      \"column\": \"USIA\",\n      \"properties\": {\n        \"dtype\": \"category\",\n        \"num_unique_values\": 72,\n        \"samples\": [\n          \"34 TH\",\n          \"19 th \",\n          \"27 TH\"\n        ],\n        \"semantic_type\": \"\",\n        \"description\": \"\"\n      }\n    },\n    {\n      \"column\": \"PARITAS\",\n      \"properties\": {\n        \"dtype\": \"number\",\n        \"std\": 1,\n        \"min\": 0,\n        \"max\": 6,\n        \"num_unique_values\": 7,\n        \"samples\": [\n          3,\n          2,\n          5\n        ],\n        \"semantic_type\": \"\",\n        \"description\": \"\"\n      }\n    },\n    {\n      \"column\": \"JARAK KELAHIRAN\",\n      \"properties\": {\n        \"dtype\": \"category\",\n        \"num_unique_values\": 4,\n        \"samples\": [\n          \"anak pertama\",\n          \"> 2 tahun\",\n          \"< 2 tahun\"\n        ],\n        \"semantic_type\": \"\",\n        \"description\": \"\"\n      }\n    },\n    {\n      \"column\": \"RIW HIPERTENSI\",\n      \"properties\": {\n        \"dtype\": \"category\",\n        \"num_unique_values\": 2,\n        \"samples\": [\n          \"Ya\",\n          \"Tidak\"\n        ],\n        \"semantic_type\": \"\",\n        \"description\": \"\"\n      }\n    },\n    {\n      \"column\": \"RIW PE\",\n      \"properties\": {\n        \"dtype\": \"category\",\n        \"num_unique_values\": 11,\n        \"samples\": [\n          \"impending eklamsia\",\n          \"Tidak\"\n        ],\n        \"semantic_type\": \"\",\n        \"description\": \"\"\n      }\n    },\n    {\n      \"column\": \"OBESITAS\",\n      \"properties\": {\n        \"dtype\": \"category\",\n        \"num_unique_values\": 2,\n        \"samples\": [\n          \"Ya\",\n          \"Tidak\"\n        ],\n        \"semantic_type\": \"\",\n        \"description\": \"\"\n      }\n    },\n    {\n      \"column\": \"RIW DM\",\n      \"properties\": {\n        \"dtype\": \"category\",\n        \"num_unique_values\": 2,\n        \"samples\": [\n          \"Tidak\",\n          \"Ya\"\n        ],\n        \"semantic_type\": \"\",\n        \"description\": \"\"\n      }\n    },\n    {\n      \"column\": \"RIW HIPERTENSI/PE DALAM KELUARGA\",\n      \"properties\": {\n        \"dtype\": \"category\",\n        \"num_unique_values\": 2,\n        \"samples\": [\n          \"Ada\",\n          \"Tidak\"\n        ],\n        \"semantic_type\": \"\",\n        \"description\": \"\"\n      }\n    },\n    {\n      \"column\": \"SOSEK RENDAH\",\n      \"properties\": {\n        \"dtype\": \"category\",\n        \"num_unique_values\": 2,\n        \"samples\": [\n          \"<UMR\",\n          \">UMR\"\n        ],\n        \"semantic_type\": \"\",\n        \"description\": \"\"\n      }\n    },\n    {\n      \"column\": \"PE/Non PE\",\n      \"properties\": {\n        \"dtype\": \"category\",\n        \"num_unique_values\": 7,\n        \"samples\": [\n          \"Non PE\",\n          \"PE\"\n        ],\n        \"semantic_type\": \"\",\n        \"description\": \"\"\n      }\n    },\n    {\n      \"column\": \"Unnamed: 12\",\n      \"properties\": {\n        \"dtype\": \"category\",\n        \"num_unique_values\": 8,\n        \"samples\": [\n          \"HT Ges\",\n          \"infertil 12 tahun\"\n        ],\n        \"semantic_type\": \"\",\n        \"description\": \"\"\n      }\n    }\n  ]\n}"
            }
          },
          "metadata": {},
          "execution_count": 181
        }
      ],
      "source": [
        "datasets = pd.read_excel('dataKasus-1.xlsx')\n",
        "datasets"
      ]
    },
    {
      "cell_type": "code",
      "source": [
        "datasets = datasets.drop(columns=['Unnamed: 12'])"
      ],
      "metadata": {
        "id": "7I0Lzc8a9Mgz"
      },
      "id": "7I0Lzc8a9Mgz",
      "execution_count": 182,
      "outputs": []
    },
    {
      "cell_type": "code",
      "execution_count": 183,
      "id": "333be0d4-7b4e-4755-b749-52a43ff85156",
      "metadata": {
        "colab": {
          "base_uri": "https://localhost:8080/"
        },
        "id": "333be0d4-7b4e-4755-b749-52a43ff85156",
        "outputId": "5f15e635-bf76-45dc-d6de-399a91f80754"
      },
      "outputs": [
        {
          "output_type": "stream",
          "name": "stdout",
          "text": [
            "<class 'pandas.core.frame.DataFrame'>\n",
            "RangeIndex: 561 entries, 0 to 560\n",
            "Data columns (total 12 columns):\n",
            " #   Column                            Non-Null Count  Dtype \n",
            "---  ------                            --------------  ----- \n",
            " 0   NO                                561 non-null    int64 \n",
            " 1   NAMA                              561 non-null    object\n",
            " 2   USIA                              558 non-null    object\n",
            " 3   PARITAS                           561 non-null    int64 \n",
            " 4   JARAK KELAHIRAN                   554 non-null    object\n",
            " 5   RIW HIPERTENSI                    561 non-null    object\n",
            " 6   RIW PE                            561 non-null    object\n",
            " 7   OBESITAS                          561 non-null    object\n",
            " 8   RIW DM                            561 non-null    object\n",
            " 9   RIW HIPERTENSI/PE DALAM KELUARGA  561 non-null    object\n",
            " 10  SOSEK RENDAH                      561 non-null    object\n",
            " 11  PE/Non PE                         561 non-null    object\n",
            "dtypes: int64(2), object(10)\n",
            "memory usage: 52.7+ KB\n"
          ]
        }
      ],
      "source": [
        "datasets.columns = datasets.columns.str.strip()\n",
        "datasets.info()"
      ]
    },
    {
      "cell_type": "code",
      "source": [
        "print(datasets.isnull().sum())"
      ],
      "metadata": {
        "colab": {
          "base_uri": "https://localhost:8080/"
        },
        "id": "yziyaEID9TuV",
        "outputId": "f7391b9d-03e6-4b19-a838-b1176a31785a"
      },
      "id": "yziyaEID9TuV",
      "execution_count": 184,
      "outputs": [
        {
          "output_type": "stream",
          "name": "stdout",
          "text": [
            "NO                                  0\n",
            "NAMA                                0\n",
            "USIA                                3\n",
            "PARITAS                             0\n",
            "JARAK KELAHIRAN                     7\n",
            "RIW HIPERTENSI                      0\n",
            "RIW PE                              0\n",
            "OBESITAS                            0\n",
            "RIW DM                              0\n",
            "RIW HIPERTENSI/PE DALAM KELUARGA    0\n",
            "SOSEK RENDAH                        0\n",
            "PE/Non PE                           0\n",
            "dtype: int64\n"
          ]
        }
      ]
    },
    {
      "cell_type": "code",
      "source": [
        "value_counts = datasets['USIA'].astype(str).value_counts(dropna=False)\n",
        "\n",
        "print(value_counts)"
      ],
      "metadata": {
        "colab": {
          "base_uri": "https://localhost:8080/"
        },
        "id": "Wi2Uqdxa9WY-",
        "outputId": "ab55f969-c233-44e4-f36b-d41d1a8b2ac3"
      },
      "id": "Wi2Uqdxa9WY-",
      "execution_count": 185,
      "outputs": [
        {
          "output_type": "stream",
          "name": "stdout",
          "text": [
            "USIA\n",
            "28 TH     28\n",
            "25 TH     24\n",
            "31 TH     23\n",
            "29 TH     22\n",
            "24 TH     21\n",
            "          ..\n",
            "30 th      1\n",
            "23         1\n",
            "37         1\n",
            "39 TH      1\n",
            "14 TH      1\n",
            "Name: count, Length: 73, dtype: int64\n"
          ]
        }
      ]
    },
    {
      "cell_type": "code",
      "source": [
        "datasets['USIA'] = datasets['USIA'].fillna('')\n",
        "\n",
        "datasets['USIA'] = datasets['USIA'].str.strip().str.extract('(\\d+)')[0]\n",
        "\n",
        "datasets['USIA'] = pd.to_numeric(datasets['USIA'], errors='coerce')\n",
        "\n",
        "datasets['USIA'] = datasets['USIA'].fillna(datasets['USIA'].mean())"
      ],
      "metadata": {
        "id": "xHOS7kpp9Zsb"
      },
      "id": "xHOS7kpp9Zsb",
      "execution_count": 186,
      "outputs": []
    },
    {
      "cell_type": "code",
      "source": [
        "value_counts = datasets['USIA'].astype(str).value_counts(dropna=False)\n",
        "\n",
        "print(value_counts)"
      ],
      "metadata": {
        "colab": {
          "base_uri": "https://localhost:8080/"
        },
        "id": "6Vd54AAw9abl",
        "outputId": "ef91ad45-adc3-4f87-fb35-d08f333e0303"
      },
      "id": "6Vd54AAw9abl",
      "execution_count": 187,
      "outputs": [
        {
          "output_type": "stream",
          "name": "stdout",
          "text": [
            "USIA\n",
            "31.0                  41\n",
            "28.0                  41\n",
            "26.0                  35\n",
            "25.0                  35\n",
            "22.0                  35\n",
            "29.0                  34\n",
            "24.0                  33\n",
            "27.0                  27\n",
            "23.0                  25\n",
            "30.0                  25\n",
            "33.0                  23\n",
            "21.0                  21\n",
            "32.0                  20\n",
            "20.0                  20\n",
            "36.0                  18\n",
            "35.0                  17\n",
            "38.0                  15\n",
            "28.195612431444243    14\n",
            "34.0                  14\n",
            "41.0                  11\n",
            "39.0                  11\n",
            "19.0                  10\n",
            "37.0                   9\n",
            "40.0                   8\n",
            "17.0                   5\n",
            "18.0                   5\n",
            "15.0                   3\n",
            "16.0                   2\n",
            "43.0                   2\n",
            "13.0                   1\n",
            "14.0                   1\n",
            "Name: count, dtype: int64\n"
          ]
        }
      ]
    },
    {
      "cell_type": "code",
      "source": [
        "value_counts = datasets['PARITAS'].astype(str).value_counts(dropna=False)\n",
        "print(value_counts)"
      ],
      "metadata": {
        "colab": {
          "base_uri": "https://localhost:8080/"
        },
        "id": "rcSwSNAW9cpH",
        "outputId": "fde5d81c-c67a-4f28-fdeb-78891d95db2e"
      },
      "id": "rcSwSNAW9cpH",
      "execution_count": 188,
      "outputs": [
        {
          "output_type": "stream",
          "name": "stdout",
          "text": [
            "PARITAS\n",
            "1    228\n",
            "2    186\n",
            "3     82\n",
            "0     39\n",
            "4     20\n",
            "5      3\n",
            "6      3\n",
            "Name: count, dtype: int64\n"
          ]
        }
      ]
    },
    {
      "cell_type": "code",
      "source": [
        "value_counts = datasets['JARAK KELAHIRAN'].astype(str).value_counts(dropna=False)\n",
        "\n",
        "print(value_counts)"
      ],
      "metadata": {
        "colab": {
          "base_uri": "https://localhost:8080/"
        },
        "id": "MJ8BA6Kt9i0r",
        "outputId": "8b1e5aa1-87db-480a-f570-5bfc135e3f4e"
      },
      "id": "MJ8BA6Kt9i0r",
      "execution_count": 189,
      "outputs": [
        {
          "output_type": "stream",
          "name": "stdout",
          "text": [
            "JARAK KELAHIRAN\n",
            "anak pertama    260\n",
            "> 2 tahun       211\n",
            "< 2 tahun        81\n",
            "nan               7\n",
            "> 2 tahun         2\n",
            "Name: count, dtype: int64\n"
          ]
        }
      ]
    },
    {
      "cell_type": "code",
      "source": [
        "imputer = SimpleImputer(strategy='most_frequent')\n",
        "from sklearn.preprocessing import LabelEncoder\n",
        "\n",
        "datasets['JARAK KELAHIRAN'] = imputer.fit_transform(datasets[['JARAK KELAHIRAN']]).ravel()\n",
        "\n",
        "datasets['JARAK KELAHIRAN'] = datasets['JARAK KELAHIRAN'].replace('> 2 tahun ', '> 2 tahun')"
      ],
      "metadata": {
        "id": "3RfUW0U69lAE"
      },
      "id": "3RfUW0U69lAE",
      "execution_count": 190,
      "outputs": []
    },
    {
      "cell_type": "code",
      "source": [
        "value_counts = datasets['JARAK KELAHIRAN'].astype(str).value_counts(dropna=False)\n",
        "\n",
        "print(value_counts)"
      ],
      "metadata": {
        "colab": {
          "base_uri": "https://localhost:8080/"
        },
        "id": "43v6VnEJ9n2F",
        "outputId": "6f470e35-44a2-468f-b07c-8e43e7559f47"
      },
      "id": "43v6VnEJ9n2F",
      "execution_count": 191,
      "outputs": [
        {
          "output_type": "stream",
          "name": "stdout",
          "text": [
            "JARAK KELAHIRAN\n",
            "anak pertama    267\n",
            "> 2 tahun       213\n",
            "< 2 tahun        81\n",
            "Name: count, dtype: int64\n"
          ]
        }
      ]
    },
    {
      "cell_type": "code",
      "source": [
        "value_counts = datasets['RIW HIPERTENSI'].astype(str).value_counts(dropna=False)\n",
        "\n",
        "print(value_counts)"
      ],
      "metadata": {
        "colab": {
          "base_uri": "https://localhost:8080/"
        },
        "id": "fNNBRZLr9o83",
        "outputId": "38f318b5-031b-4b82-a290-ee6b60ddf9ad"
      },
      "id": "fNNBRZLr9o83",
      "execution_count": 192,
      "outputs": [
        {
          "output_type": "stream",
          "name": "stdout",
          "text": [
            "RIW HIPERTENSI\n",
            "Tidak    508\n",
            "Ya        53\n",
            "Name: count, dtype: int64\n"
          ]
        }
      ]
    },
    {
      "cell_type": "code",
      "source": [
        "value_counts = datasets['RIW PE'].astype(str).value_counts(dropna=False)\n",
        "\n",
        "print(value_counts)"
      ],
      "metadata": {
        "colab": {
          "base_uri": "https://localhost:8080/"
        },
        "id": "S8m2nWt79qZ6",
        "outputId": "3921b2ee-3f5d-426c-d25d-1f3d31506ab4"
      },
      "id": "S8m2nWt79qZ6",
      "execution_count": 193,
      "outputs": [
        {
          "output_type": "stream",
          "name": "stdout",
          "text": [
            "RIW PE\n",
            "Tidak                     526\n",
            "PEB                        19\n",
            "PE                          6\n",
            "HELLP SYNDROM               2\n",
            "Impending PE                2\n",
            "Impending Eklamsia          1\n",
            "Kejang Konvulsi             1\n",
            "impending eklamsia          1\n",
            "PE, HELLP Syndrome          1\n",
            "PEB impending eklampsi      1\n",
            "Impending Ekalmsia          1\n",
            "Name: count, dtype: int64\n"
          ]
        }
      ]
    },
    {
      "cell_type": "code",
      "source": [
        "datasets['RIW PE'] = datasets['RIW PE'].replace(\n",
        "    to_replace=['PEB', 'PE', 'HELLP SYNDROM', 'Impending PE', 'Impending Eklamsia', 'PE, HELLP Syndrome', 'PEB impending eklampsi', 'Impending Ekalmsia', 'Kejang Konvulsi', 'impending eklamsia'],\n",
        "    value='Ada'\n",
        ")"
      ],
      "metadata": {
        "id": "MxNY56BP9rnY"
      },
      "id": "MxNY56BP9rnY",
      "execution_count": 194,
      "outputs": []
    },
    {
      "cell_type": "code",
      "source": [
        "value_counts = datasets['RIW PE'].astype(str).value_counts(dropna=False)\n",
        "\n",
        "print(value_counts)"
      ],
      "metadata": {
        "colab": {
          "base_uri": "https://localhost:8080/"
        },
        "id": "UhLMhyDq9sRX",
        "outputId": "bbbc7b80-09c5-4950-f301-9410b4f993f1"
      },
      "id": "UhLMhyDq9sRX",
      "execution_count": 195,
      "outputs": [
        {
          "output_type": "stream",
          "name": "stdout",
          "text": [
            "RIW PE\n",
            "Tidak    526\n",
            "Ada       35\n",
            "Name: count, dtype: int64\n"
          ]
        }
      ]
    },
    {
      "cell_type": "code",
      "source": [
        "value_counts = datasets['OBESITAS'].astype(str).value_counts(dropna=False)\n",
        "\n",
        "print(value_counts)"
      ],
      "metadata": {
        "colab": {
          "base_uri": "https://localhost:8080/"
        },
        "id": "KfGWVTXB9tvU",
        "outputId": "4c21f5b7-7fc0-4d70-8bfb-09a42c919464"
      },
      "id": "KfGWVTXB9tvU",
      "execution_count": 196,
      "outputs": [
        {
          "output_type": "stream",
          "name": "stdout",
          "text": [
            "OBESITAS\n",
            "Tidak    556\n",
            "Ya         5\n",
            "Name: count, dtype: int64\n"
          ]
        }
      ]
    },
    {
      "cell_type": "code",
      "source": [
        "value_counts = datasets['RIW DM'].astype(str).value_counts(dropna=False)\n",
        "\n",
        "print(value_counts)"
      ],
      "metadata": {
        "colab": {
          "base_uri": "https://localhost:8080/"
        },
        "id": "Wl8steqw9uz2",
        "outputId": "7cfca477-3e3e-45e0-8e31-9f47aa529f57"
      },
      "id": "Wl8steqw9uz2",
      "execution_count": 197,
      "outputs": [
        {
          "output_type": "stream",
          "name": "stdout",
          "text": [
            "RIW DM\n",
            "Tidak    556\n",
            "Ya         5\n",
            "Name: count, dtype: int64\n"
          ]
        }
      ]
    },
    {
      "cell_type": "code",
      "source": [
        "value_counts = datasets['RIW HIPERTENSI/PE DALAM KELUARGA'].astype(str).value_counts(dropna=False)\n",
        "\n",
        "print(value_counts)"
      ],
      "metadata": {
        "colab": {
          "base_uri": "https://localhost:8080/"
        },
        "id": "CwadwnY49wUv",
        "outputId": "9768ac0a-a1e1-4be7-d515-e312cd859a50"
      },
      "id": "CwadwnY49wUv",
      "execution_count": 198,
      "outputs": [
        {
          "output_type": "stream",
          "name": "stdout",
          "text": [
            "RIW HIPERTENSI/PE DALAM KELUARGA\n",
            "Tidak    550\n",
            "Ada       11\n",
            "Name: count, dtype: int64\n"
          ]
        }
      ]
    },
    {
      "cell_type": "code",
      "source": [
        "value_counts = datasets['SOSEK RENDAH'].astype(str).value_counts(dropna=False)\n",
        "\n",
        "print(value_counts)"
      ],
      "metadata": {
        "colab": {
          "base_uri": "https://localhost:8080/"
        },
        "id": "Jth0nGtM9x12",
        "outputId": "d02f4edf-d9cf-4885-f1c1-fee4bc60305c"
      },
      "id": "Jth0nGtM9x12",
      "execution_count": 199,
      "outputs": [
        {
          "output_type": "stream",
          "name": "stdout",
          "text": [
            "SOSEK RENDAH\n",
            ">UMR    557\n",
            "<UMR      4\n",
            "Name: count, dtype: int64\n"
          ]
        }
      ]
    },
    {
      "cell_type": "code",
      "source": [
        "value_counts = datasets['PE/Non PE'].astype(str).value_counts(dropna=False)\n",
        "\n",
        "print(value_counts)"
      ],
      "metadata": {
        "colab": {
          "base_uri": "https://localhost:8080/"
        },
        "id": "ALxH9EgV9z8-",
        "outputId": "dd1b83a5-22d9-447f-f69a-a6ffb147ad1c"
      },
      "id": "ALxH9EgV9z8-",
      "execution_count": 200,
      "outputs": [
        {
          "output_type": "stream",
          "name": "stdout",
          "text": [
            "PE/Non PE\n",
            "Non PE                    520\n",
            "PEB                        20\n",
            "PE                         17\n",
            "Eklamsia                    1\n",
            "PE gemelli                  1\n",
            "PEB impending eklampsi      1\n",
            "PE                          1\n",
            "Name: count, dtype: int64\n"
          ]
        }
      ]
    },
    {
      "cell_type": "code",
      "source": [
        "datasets['PE/Non PE'] = datasets['PE/Non PE'].replace(\n",
        "    to_replace=['PEB', 'PE', 'Eklamsia', 'PE gemelli', 'PEB impending eklampsi', 'PE '],\n",
        "    value='PE'\n",
        ")"
      ],
      "metadata": {
        "id": "sI_wxWdW91LK"
      },
      "id": "sI_wxWdW91LK",
      "execution_count": 201,
      "outputs": []
    },
    {
      "cell_type": "code",
      "source": [
        "value_counts = datasets['PE/Non PE'].astype(str).value_counts(dropna=False)\n",
        "\n",
        "print(value_counts)"
      ],
      "metadata": {
        "colab": {
          "base_uri": "https://localhost:8080/"
        },
        "id": "CBs2Xa-h92l_",
        "outputId": "33803b0c-abac-4a5b-e2fa-5ac17507e509"
      },
      "id": "CBs2Xa-h92l_",
      "execution_count": 202,
      "outputs": [
        {
          "output_type": "stream",
          "name": "stdout",
          "text": [
            "PE/Non PE\n",
            "Non PE    520\n",
            "PE         41\n",
            "Name: count, dtype: int64\n"
          ]
        }
      ]
    },
    {
      "cell_type": "code",
      "source": [
        "import pandas as pd\n",
        "import matplotlib.pyplot as plt\n",
        "\n",
        "value_counts = datasets['PE/Non PE'].value_counts()\n",
        "\n",
        "ax = value_counts.plot(kind='bar', color=['skyblue', 'orange'])\n",
        "\n",
        "plt.title('PE/Non PE Distribution')\n",
        "plt.xlabel('Category')\n",
        "plt.ylabel('Count')\n",
        "\n",
        "for i, count in enumerate(value_counts):\n",
        "    ax.text(i, count , str(count), ha='center', va='bottom')\n",
        "\n",
        "plt.show()"
      ],
      "metadata": {
        "colab": {
          "base_uri": "https://localhost:8080/",
          "height": 507
        },
        "id": "r-YfsTHs93ol",
        "outputId": "205da6a5-da0a-4eee-c8b5-0f1460fd3408"
      },
      "id": "r-YfsTHs93ol",
      "execution_count": 203,
      "outputs": [
        {
          "output_type": "display_data",
          "data": {
            "text/plain": [
              "<Figure size 640x480 with 1 Axes>"
            ],
            "image/png": "[encoded data removed]"
          },
          "metadata": {}
        }
      ]
    },
    {
      "cell_type": "code",
      "source": [
        "datasets.info()"
      ],
      "metadata": {
        "colab": {
          "base_uri": "https://localhost:8080/"
        },
        "id": "QU_Cambm96_R",
        "outputId": "79de6217-b175-47c0-c87d-c54aa80853b5"
      },
      "id": "QU_Cambm96_R",
      "execution_count": 204,
      "outputs": [
        {
          "output_type": "stream",
          "name": "stdout",
          "text": [
            "<class 'pandas.core.frame.DataFrame'>\n",
            "RangeIndex: 561 entries, 0 to 560\n",
            "Data columns (total 12 columns):\n",
            " #   Column                            Non-Null Count  Dtype  \n",
            "---  ------                            --------------  -----  \n",
            " 0   NO                                561 non-null    int64  \n",
            " 1   NAMA                              561 non-null    object \n",
            " 2   USIA                              561 non-null    float64\n",
            " 3   PARITAS                           561 non-null    int64  \n",
            " 4   JARAK KELAHIRAN                   561 non-null    object \n",
            " 5   RIW HIPERTENSI                    561 non-null    object \n",
            " 6   RIW PE                            561 non-null    object \n",
            " 7   OBESITAS                          561 non-null    object \n",
            " 8   RIW DM                            561 non-null    object \n",
            " 9   RIW HIPERTENSI/PE DALAM KELUARGA  561 non-null    object \n",
            " 10  SOSEK RENDAH                      561 non-null    object \n",
            " 11  PE/Non PE                         561 non-null    object \n",
            "dtypes: float64(1), int64(2), object(9)\n",
            "memory usage: 52.7+ KB\n"
          ]
        }
      ]
    },
    {
      "cell_type": "markdown",
      "source": [
        "**Konversi Nilai ke Numerik**"
      ],
      "metadata": {
        "id": "NxDeEgZs-LFP"
      },
      "id": "NxDeEgZs-LFP"
    },
    {
      "cell_type": "code",
      "source": [
        "value_counts = datasets['PARITAS'].astype(str).value_counts(dropna=False)\n",
        "\n",
        "print(value_counts)"
      ],
      "metadata": {
        "colab": {
          "base_uri": "https://localhost:8080/"
        },
        "id": "Geo1QuW_9-B2",
        "outputId": "fea6a9c6-2251-4c3f-9ff1-c09c6eb87203"
      },
      "id": "Geo1QuW_9-B2",
      "execution_count": 205,
      "outputs": [
        {
          "output_type": "stream",
          "name": "stdout",
          "text": [
            "PARITAS\n",
            "1    228\n",
            "2    186\n",
            "3     82\n",
            "0     39\n",
            "4     20\n",
            "5      3\n",
            "6      3\n",
            "Name: count, dtype: int64\n"
          ]
        }
      ]
    },
    {
      "cell_type": "code",
      "source": [
        "label_encoder = LabelEncoder()\n",
        "datasets['JARAK KELAHIRAN'] = label_encoder.fit_transform(datasets['JARAK KELAHIRAN'])"
      ],
      "metadata": {
        "id": "2OmaIZ0s-Ooj"
      },
      "id": "2OmaIZ0s-Ooj",
      "execution_count": 206,
      "outputs": []
    },
    {
      "cell_type": "code",
      "source": [
        "value_counts = datasets['JARAK KELAHIRAN'].astype(str).value_counts(dropna=False)\n",
        "\n",
        "print(value_counts)"
      ],
      "metadata": {
        "colab": {
          "base_uri": "https://localhost:8080/"
        },
        "id": "U9CipPc6-Qoz",
        "outputId": "2b8cc6fc-78ee-48a6-dc84-5d876c5ab635"
      },
      "id": "U9CipPc6-Qoz",
      "execution_count": 207,
      "outputs": [
        {
          "output_type": "stream",
          "name": "stdout",
          "text": [
            "JARAK KELAHIRAN\n",
            "2    267\n",
            "1    213\n",
            "0     81\n",
            "Name: count, dtype: int64\n"
          ]
        }
      ]
    },
    {
      "cell_type": "code",
      "source": [
        "from sklearn.preprocessing import OneHotEncoder"
      ],
      "metadata": {
        "id": "0qFeFYgl-TKG"
      },
      "id": "0qFeFYgl-TKG",
      "execution_count": 208,
      "outputs": []
    },
    {
      "cell_type": "code",
      "source": [
        "encoder = OneHotEncoder(sparse_output=False)\n",
        "\n",
        "one_hot_encoded = encoder.fit_transform(datasets[['RIW HIPERTENSI']])\n",
        "\n",
        "one_hot_columns = encoder.get_feature_names_out(['RIW HIPERTENSI'])\n",
        "\n",
        "one_hot_df = pd.DataFrame(one_hot_encoded, columns=one_hot_columns)\n",
        "\n",
        "datasets = pd.concat([datasets.drop('RIW HIPERTENSI', axis=1), one_hot_df], axis=1)"
      ],
      "metadata": {
        "id": "7ZhAk83y-aUE"
      },
      "id": "7ZhAk83y-aUE",
      "execution_count": 209,
      "outputs": []
    },
    {
      "cell_type": "code",
      "source": [
        "encoder = OneHotEncoder(sparse_output=False)\n",
        "\n",
        "one_hot_encoded = encoder.fit_transform(datasets[['RIW PE']])\n",
        "\n",
        "one_hot_columns = encoder.get_feature_names_out(['RIW PE'])\n",
        "\n",
        "one_hot_df = pd.DataFrame(one_hot_encoded, columns=one_hot_columns)\n",
        "\n",
        "datasets = pd.concat([datasets.drop('RIW PE', axis=1), one_hot_df], axis=1)"
      ],
      "metadata": {
        "id": "tYTtG5zl-g4k"
      },
      "id": "tYTtG5zl-g4k",
      "execution_count": 210,
      "outputs": []
    },
    {
      "cell_type": "code",
      "source": [
        "encoder = OneHotEncoder(sparse_output=False)\n",
        "\n",
        "one_hot_encoded = encoder.fit_transform(datasets[['OBESITAS']])\n",
        "\n",
        "one_hot_columns = encoder.get_feature_names_out(['OBESITAS'])\n",
        "\n",
        "one_hot_df = pd.DataFrame(one_hot_encoded, columns=one_hot_columns)\n",
        "\n",
        "datasets = pd.concat([datasets.drop('OBESITAS', axis=1), one_hot_df], axis=1)"
      ],
      "metadata": {
        "id": "uSQFntEB-hSy"
      },
      "id": "uSQFntEB-hSy",
      "execution_count": 211,
      "outputs": []
    },
    {
      "cell_type": "code",
      "source": [
        "encoder = OneHotEncoder(sparse_output=False)\n",
        "\n",
        "one_hot_encoded = encoder.fit_transform(datasets[['RIW DM']])\n",
        "\n",
        "one_hot_columns = encoder.get_feature_names_out(['RIW DM'])\n",
        "\n",
        "one_hot_df = pd.DataFrame(one_hot_encoded, columns=one_hot_columns)\n",
        "\n",
        "datasets = pd.concat([datasets.drop('RIW DM', axis=1), one_hot_df], axis=1)"
      ],
      "metadata": {
        "id": "Kvr0Dwsw-ixo"
      },
      "id": "Kvr0Dwsw-ixo",
      "execution_count": 212,
      "outputs": []
    },
    {
      "cell_type": "code",
      "source": [
        "encoder = OneHotEncoder(sparse_output=False)\n",
        "\n",
        "one_hot_encoded = encoder.fit_transform(datasets[['RIW HIPERTENSI/PE DALAM KELUARGA']])\n",
        "\n",
        "one_hot_columns = encoder.get_feature_names_out(['RIW HIPERTENSI/PE DALAM KELUARGA'])\n",
        "\n",
        "one_hot_df = pd.DataFrame(one_hot_encoded, columns=one_hot_columns)\n",
        "\n",
        "datasets = pd.concat([datasets.drop('RIW HIPERTENSI/PE DALAM KELUARGA', axis=1), one_hot_df], axis=1)"
      ],
      "metadata": {
        "id": "QpuS_fmH-kNI"
      },
      "id": "QpuS_fmH-kNI",
      "execution_count": 213,
      "outputs": []
    },
    {
      "cell_type": "code",
      "source": [
        "encoder = OneHotEncoder(sparse_output=False)\n",
        "\n",
        "one_hot_encoded = encoder.fit_transform(datasets[['SOSEK RENDAH']])\n",
        "\n",
        "one_hot_columns = encoder.get_feature_names_out(['SOSEK RENDAH'])\n",
        "\n",
        "one_hot_df = pd.DataFrame(one_hot_encoded, columns=one_hot_columns)\n",
        "\n",
        "datasets = pd.concat([datasets.drop('SOSEK RENDAH', axis=1), one_hot_df], axis=1)"
      ],
      "metadata": {
        "id": "LIM-EDOG-ldX"
      },
      "id": "LIM-EDOG-ldX",
      "execution_count": 214,
      "outputs": []
    },
    {
      "cell_type": "code",
      "source": [
        "datasets['PE/Non PE'] = label_encoder.fit_transform(datasets['PE/Non PE'])"
      ],
      "metadata": {
        "id": "NGXDGNJ--nIF"
      },
      "id": "NGXDGNJ--nIF",
      "execution_count": 215,
      "outputs": []
    },
    {
      "cell_type": "code",
      "source": [
        "value_counts = datasets['PE/Non PE'].astype(str).value_counts(dropna=False)\n",
        "\n",
        "print(value_counts)"
      ],
      "metadata": {
        "colab": {
          "base_uri": "https://localhost:8080/"
        },
        "id": "H_yh_2Va-o5u",
        "outputId": "a4656e9e-4262-477f-e3eb-2800b9027a43"
      },
      "id": "H_yh_2Va-o5u",
      "execution_count": 216,
      "outputs": [
        {
          "output_type": "stream",
          "name": "stdout",
          "text": [
            "PE/Non PE\n",
            "0    520\n",
            "1     41\n",
            "Name: count, dtype: int64\n"
          ]
        }
      ]
    },
    {
      "cell_type": "code",
      "source": [
        "datasets.info()"
      ],
      "metadata": {
        "colab": {
          "base_uri": "https://localhost:8080/"
        },
        "id": "X3tgsrGu-qz4",
        "outputId": "4ef3bd6d-f846-4a0c-9123-b943c4025970"
      },
      "id": "X3tgsrGu-qz4",
      "execution_count": 217,
      "outputs": [
        {
          "output_type": "stream",
          "name": "stdout",
          "text": [
            "<class 'pandas.core.frame.DataFrame'>\n",
            "RangeIndex: 561 entries, 0 to 560\n",
            "Data columns (total 18 columns):\n",
            " #   Column                                  Non-Null Count  Dtype  \n",
            "---  ------                                  --------------  -----  \n",
            " 0   NO                                      561 non-null    int64  \n",
            " 1   NAMA                                    561 non-null    object \n",
            " 2   USIA                                    561 non-null    float64\n",
            " 3   PARITAS                                 561 non-null    int64  \n",
            " 4   JARAK KELAHIRAN                         561 non-null    int64  \n",
            " 5   PE/Non PE                               561 non-null    int64  \n",
            " 6   RIW HIPERTENSI_Tidak                    561 non-null    float64\n",
            " 7   RIW HIPERTENSI_Ya                       561 non-null    float64\n",
            " 8   RIW PE_Ada                              561 non-null    float64\n",
            " 9   RIW PE_Tidak                            561 non-null    float64\n",
            " 10  OBESITAS_Tidak                          561 non-null    float64\n",
            " 11  OBESITAS_Ya                             561 non-null    float64\n",
            " 12  RIW DM_Tidak                            561 non-null    float64\n",
            " 13  RIW DM_Ya                               561 non-null    float64\n",
            " 14  RIW HIPERTENSI/PE DALAM KELUARGA_Ada    561 non-null    float64\n",
            " 15  RIW HIPERTENSI/PE DALAM KELUARGA_Tidak  561 non-null    float64\n",
            " 16  SOSEK RENDAH_<UMR                       561 non-null    float64\n",
            " 17  SOSEK RENDAH_>UMR                       561 non-null    float64\n",
            "dtypes: float64(13), int64(4), object(1)\n",
            "memory usage: 79.0+ KB\n"
          ]
        }
      ]
    },
    {
      "cell_type": "code",
      "source": [
        "datasets"
      ],
      "metadata": {
        "colab": {
          "base_uri": "https://localhost:8080/",
          "height": 669
        },
        "id": "xc2UcHJ9-sFz",
        "outputId": "c89677e9-c633-4fd6-c31e-6c707c1086af"
      },
      "id": "xc2UcHJ9-sFz",
      "execution_count": 218,
      "outputs": [
        {
          "output_type": "execute_result",
          "data": {
            "text/plain": [
              "      NO      NAMA  USIA  PARITAS  JARAK KELAHIRAN  PE/Non PE  \\\n",
              "0      1    NAMA 1  23.0        3                0          0   \n",
              "1      2    NAMA 2  29.0        2                0          1   \n",
              "2      3    NAMA 3  20.0        1                2          0   \n",
              "3      4    NAMA 4  18.0        1                2          0   \n",
              "4      5    NAMA 5  34.0        3                1          0   \n",
              "..   ...       ...   ...      ...              ...        ...   \n",
              "556  558  NAMA 557  40.0        3                1          0   \n",
              "557  559  NAMA 558  28.0        3                0          0   \n",
              "558  560  NAMA 559  41.0        3                1          0   \n",
              "559  561  NAMA 560  32.0        2                1          0   \n",
              "560  562  NAMA 561  30.0        2                1          0   \n",
              "\n",
              "     RIW HIPERTENSI_Tidak  RIW HIPERTENSI_Ya  RIW PE_Ada  RIW PE_Tidak  \\\n",
              "0                     1.0                0.0         0.0           1.0   \n",
              "1                     1.0                0.0         1.0           0.0   \n",
              "2                     1.0                0.0         0.0           1.0   \n",
              "3                     1.0                0.0         0.0           1.0   \n",
              "4                     1.0                0.0         0.0           1.0   \n",
              "..                    ...                ...         ...           ...   \n",
              "556                   1.0                0.0         0.0           1.0   \n",
              "557                   1.0                0.0         0.0           1.0   \n",
              "558                   1.0                0.0         0.0           1.0   \n",
              "559                   1.0                0.0         0.0           1.0   \n",
              "560                   1.0                0.0         0.0           1.0   \n",
              "\n",
              "     OBESITAS_Tidak  OBESITAS_Ya  RIW DM_Tidak  RIW DM_Ya  \\\n",
              "0               1.0          0.0           0.0        1.0   \n",
              "1               1.0          0.0           1.0        0.0   \n",
              "2               1.0          0.0           1.0        0.0   \n",
              "3               1.0          0.0           1.0        0.0   \n",
              "4               1.0          0.0           1.0        0.0   \n",
              "..              ...          ...           ...        ...   \n",
              "556             1.0          0.0           1.0        0.0   \n",
              "557             1.0          0.0           1.0        0.0   \n",
              "558             1.0          0.0           1.0        0.0   \n",
              "559             1.0          0.0           1.0        0.0   \n",
              "560             1.0          0.0           1.0        0.0   \n",
              "\n",
              "     RIW HIPERTENSI/PE DALAM KELUARGA_Ada  \\\n",
              "0                                     0.0   \n",
              "1                                     1.0   \n",
              "2                                     0.0   \n",
              "3                                     0.0   \n",
              "4                                     0.0   \n",
              "..                                    ...   \n",
              "556                                   0.0   \n",
              "557                                   0.0   \n",
              "558                                   0.0   \n",
              "559                                   0.0   \n",
              "560                                   0.0   \n",
              "\n",
              "     RIW HIPERTENSI/PE DALAM KELUARGA_Tidak  SOSEK RENDAH_<UMR  \\\n",
              "0                                       1.0                0.0   \n",
              "1                                       0.0                0.0   \n",
              "2                                       1.0                0.0   \n",
              "3                                       1.0                0.0   \n",
              "4                                       1.0                0.0   \n",
              "..                                      ...                ...   \n",
              "556                                     1.0                0.0   \n",
              "557                                     1.0                0.0   \n",
              "558                                     1.0                0.0   \n",
              "559                                     1.0                0.0   \n",
              "560                                     1.0                0.0   \n",
              "\n",
              "     SOSEK RENDAH_>UMR  \n",
              "0                  1.0  \n",
              "1                  1.0  \n",
              "2                  1.0  \n",
              "3                  1.0  \n",
              "4                  1.0  \n",
              "..                 ...  \n",
              "556                1.0  \n",
              "557                1.0  \n",
              "558                1.0  \n",
              "559                1.0  \n",
              "560                1.0  \n",
              "\n",
              "[561 rows x 18 columns]"
            ],
            "text/html": [
              "\n",
              "  <div id=\"df-a9e9cb05-1890-4878-b96c-43219a1f7f3e\" class=\"colab-df-container\">\n",
              "    <div>\n",
              "<style scoped>\n",
              "    .dataframe tbody tr th:only-of-type {\n",
              "        vertical-align: middle;\n",
              "    }\n",
              "\n",
              "    .dataframe tbody tr th {\n",
              "        vertical-align: top;\n",
              "    }\n",
              "\n",
              "    .dataframe thead th {\n",
              "        text-align: right;\n",
              "    }\n",
              "</style>\n",
              "<table border=\"1\" class=\"dataframe\">\n",
              "  <thead>\n",
              "    <tr style=\"text-align: right;\">\n",
              "      <th></th>\n",
              "      <th>NO</th>\n",
              "      <th>NAMA</th>\n",
              "      <th>USIA</th>\n",
              "      <th>PARITAS</th>\n",
              "      <th>JARAK KELAHIRAN</th>\n",
              "      <th>PE/Non PE</th>\n",
              "      <th>RIW HIPERTENSI_Tidak</th>\n",
              "      <th>RIW HIPERTENSI_Ya</th>\n",
              "      <th>RIW PE_Ada</th>\n",
              "      <th>RIW PE_Tidak</th>\n",
              "      <th>OBESITAS_Tidak</th>\n",
              "      <th>OBESITAS_Ya</th>\n",
              "      <th>RIW DM_Tidak</th>\n",
              "      <th>RIW DM_Ya</th>\n",
              "      <th>RIW HIPERTENSI/PE DALAM KELUARGA_Ada</th>\n",
              "      <th>RIW HIPERTENSI/PE DALAM KELUARGA_Tidak</th>\n",
              "      <th>SOSEK RENDAH_&lt;UMR</th>\n",
              "      <th>SOSEK RENDAH_&gt;UMR</th>\n",
              "    </tr>\n",
              "  </thead>\n",
              "  <tbody>\n",
              "    <tr>\n",
              "      <th>0</th>\n",
              "      <td>1</td>\n",
              "      <td>NAMA 1</td>\n",
              "      <td>23.0</td>\n",
              "      <td>3</td>\n",
              "      <td>0</td>\n",
              "      <td>0</td>\n",
              "      <td>1.0</td>\n",
              "      <td>0.0</td>\n",
              "      <td>0.0</td>\n",
              "      <td>1.0</td>\n",
              "      <td>1.0</td>\n",
              "      <td>0.0</td>\n",
              "      <td>0.0</td>\n",
              "      <td>1.0</td>\n",
              "      <td>0.0</td>\n",
              "      <td>1.0</td>\n",
              "      <td>0.0</td>\n",
              "      <td>1.0</td>\n",
              "    </tr>\n",
              "    <tr>\n",
              "      <th>1</th>\n",
              "      <td>2</td>\n",
              "      <td>NAMA 2</td>\n",
              "      <td>29.0</td>\n",
              "      <td>2</td>\n",
              "      <td>0</td>\n",
              "      <td>1</td>\n",
              "      <td>1.0</td>\n",
              "      <td>0.0</td>\n",
              "      <td>1.0</td>\n",
              "      <td>0.0</td>\n",
              "      <td>1.0</td>\n",
              "      <td>0.0</td>\n",
              "      <td>1.0</td>\n",
              "      <td>0.0</td>\n",
              "      <td>1.0</td>\n",
              "      <td>0.0</td>\n",
              "      <td>0.0</td>\n",
              "      <td>1.0</td>\n",
              "    </tr>\n",
              "    <tr>\n",
              "      <th>2</th>\n",
              "      <td>3</td>\n",
              "      <td>NAMA 3</td>\n",
              "      <td>20.0</td>\n",
              "      <td>1</td>\n",
              "      <td>2</td>\n",
              "      <td>0</td>\n",
              "      <td>1.0</td>\n",
              "      <td>0.0</td>\n",
              "      <td>0.0</td>\n",
              "      <td>1.0</td>\n",
              "      <td>1.0</td>\n",
              "      <td>0.0</td>\n",
              "      <td>1.0</td>\n",
              "      <td>0.0</td>\n",
              "      <td>0.0</td>\n",
              "      <td>1.0</td>\n",
              "      <td>0.0</td>\n",
              "      <td>1.0</td>\n",
              "    </tr>\n",
              "    <tr>\n",
              "      <th>3</th>\n",
              "      <td>4</td>\n",
              "      <td>NAMA 4</td>\n",
              "      <td>18.0</td>\n",
              "      <td>1</td>\n",
              "      <td>2</td>\n",
              "      <td>0</td>\n",
              "      <td>1.0</td>\n",
              "      <td>0.0</td>\n",
              "      <td>0.0</td>\n",
              "      <td>1.0</td>\n",
              "      <td>1.0</td>\n",
              "      <td>0.0</td>\n",
              "      <td>1.0</td>\n",
              "      <td>0.0</td>\n",
              "      <td>0.0</td>\n",
              "      <td>1.0</td>\n",
              "      <td>0.0</td>\n",
              "      <td>1.0</td>\n",
              "    </tr>\n",
              "    <tr>\n",
              "      <th>4</th>\n",
              "      <td>5</td>\n",
              "      <td>NAMA 5</td>\n",
              "      <td>34.0</td>\n",
              "      <td>3</td>\n",
              "      <td>1</td>\n",
              "      <td>0</td>\n",
              "      <td>1.0</td>\n",
              "      <td>0.0</td>\n",
              "      <td>0.0</td>\n",
              "      <td>1.0</td>\n",
              "      <td>1.0</td>\n",
              "      <td>0.0</td>\n",
              "      <td>1.0</td>\n",
              "      <td>0.0</td>\n",
              "      <td>0.0</td>\n",
              "      <td>1.0</td>\n",
              "      <td>0.0</td>\n",
              "      <td>1.0</td>\n",
              "    </tr>\n",
              "    <tr>\n",
              "      <th>...</th>\n",
              "      <td>...</td>\n",
              "      <td>...</td>\n",
              "      <td>...</td>\n",
              "      <td>...</td>\n",
              "      <td>...</td>\n",
              "      <td>...</td>\n",
              "      <td>...</td>\n",
              "      <td>...</td>\n",
              "      <td>...</td>\n",
              "      <td>...</td>\n",
              "      <td>...</td>\n",
              "      <td>...</td>\n",
              "      <td>...</td>\n",
              "      <td>...</td>\n",
              "      <td>...</td>\n",
              "      <td>...</td>\n",
              "      <td>...</td>\n",
              "      <td>...</td>\n",
              "    </tr>\n",
              "    <tr>\n",
              "      <th>556</th>\n",
              "      <td>558</td>\n",
              "      <td>NAMA 557</td>\n",
              "      <td>40.0</td>\n",
              "      <td>3</td>\n",
              "      <td>1</td>\n",
              "      <td>0</td>\n",
              "      <td>1.0</td>\n",
              "      <td>0.0</td>\n",
              "      <td>0.0</td>\n",
              "      <td>1.0</td>\n",
              "      <td>1.0</td>\n",
              "      <td>0.0</td>\n",
              "      <td>1.0</td>\n",
              "      <td>0.0</td>\n",
              "      <td>0.0</td>\n",
              "      <td>1.0</td>\n",
              "      <td>0.0</td>\n",
              "      <td>1.0</td>\n",
              "    </tr>\n",
              "    <tr>\n",
              "      <th>557</th>\n",
              "      <td>559</td>\n",
              "      <td>NAMA 558</td>\n",
              "      <td>28.0</td>\n",
              "      <td>3</td>\n",
              "      <td>0</td>\n",
              "      <td>0</td>\n",
              "      <td>1.0</td>\n",
              "      <td>0.0</td>\n",
              "      <td>0.0</td>\n",
              "      <td>1.0</td>\n",
              "      <td>1.0</td>\n",
              "      <td>0.0</td>\n",
              "      <td>1.0</td>\n",
              "      <td>0.0</td>\n",
              "      <td>0.0</td>\n",
              "      <td>1.0</td>\n",
              "      <td>0.0</td>\n",
              "      <td>1.0</td>\n",
              "    </tr>\n",
              "    <tr>\n",
              "      <th>558</th>\n",
              "      <td>560</td>\n",
              "      <td>NAMA 559</td>\n",
              "      <td>41.0</td>\n",
              "      <td>3</td>\n",
              "      <td>1</td>\n",
              "      <td>0</td>\n",
              "      <td>1.0</td>\n",
              "      <td>0.0</td>\n",
              "      <td>0.0</td>\n",
              "      <td>1.0</td>\n",
              "      <td>1.0</td>\n",
              "      <td>0.0</td>\n",
              "      <td>1.0</td>\n",
              "      <td>0.0</td>\n",
              "      <td>0.0</td>\n",
              "      <td>1.0</td>\n",
              "      <td>0.0</td>\n",
              "      <td>1.0</td>\n",
              "    </tr>\n",
              "    <tr>\n",
              "      <th>559</th>\n",
              "      <td>561</td>\n",
              "      <td>NAMA 560</td>\n",
              "      <td>32.0</td>\n",
              "      <td>2</td>\n",
              "      <td>1</td>\n",
              "      <td>0</td>\n",
              "      <td>1.0</td>\n",
              "      <td>0.0</td>\n",
              "      <td>0.0</td>\n",
              "      <td>1.0</td>\n",
              "      <td>1.0</td>\n",
              "      <td>0.0</td>\n",
              "      <td>1.0</td>\n",
              "      <td>0.0</td>\n",
              "      <td>0.0</td>\n",
              "      <td>1.0</td>\n",
              "      <td>0.0</td>\n",
              "      <td>1.0</td>\n",
              "    </tr>\n",
              "    <tr>\n",
              "      <th>560</th>\n",
              "      <td>562</td>\n",
              "      <td>NAMA 561</td>\n",
              "      <td>30.0</td>\n",
              "      <td>2</td>\n",
              "      <td>1</td>\n",
              "      <td>0</td>\n",
              "      <td>1.0</td>\n",
              "      <td>0.0</td>\n",
              "      <td>0.0</td>\n",
              "      <td>1.0</td>\n",
              "      <td>1.0</td>\n",
              "      <td>0.0</td>\n",
              "      <td>1.0</td>\n",
              "      <td>0.0</td>\n",
              "      <td>0.0</td>\n",
              "      <td>1.0</td>\n",
              "      <td>0.0</td>\n",
              "      <td>1.0</td>\n",
              "    </tr>\n",
              "  </tbody>\n",
              "</table>\n",
              "<p>561 rows × 18 columns</p>\n",
              "</div>\n",
              "    <div class=\"colab-df-buttons\">\n",
              "\n",
              "  <div class=\"colab-df-container\">\n",
              "    <button class=\"colab-df-convert\" onclick=\"convertToInteractive('df-a9e9cb05-1890-4878-b96c-43219a1f7f3e')\"\n",
              "            title=\"Convert this dataframe to an interactive table.\"\n",
              "            style=\"display:none;\">\n",
              "\n",
              "  <svg xmlns=\"http://www.w3.org/2000/svg\" height=\"24px\" viewBox=\"0 -960 960 960\">\n",
              "    <path d=\"M120-120v-720h720v720H120Zm60-500h600v-160H180v160Zm220 220h160v-160H400v160Zm0 220h160v-160H400v160ZM180-400h160v-160H180v160Zm440 0h160v-160H620v160ZM180-180h160v-160H180v160Zm440 0h160v-160H620v160Z\"/>\n",
              "  </svg>\n",
              "    </button>\n",
              "\n",
              "  <style>\n",
              "    .colab-df-container {\n",
              "      display:flex;\n",
              "      gap: 12px;\n",
              "    }\n",
              "\n",
              "    .colab-df-convert {\n",
              "      background-color: #E8F0FE;\n",
              "      border: none;\n",
              "      border-radius: 50%;\n",
              "      cursor: pointer;\n",
              "      display: none;\n",
              "      fill: #1967D2;\n",
              "      height: 32px;\n",
              "      padding: 0 0 0 0;\n",
              "      width: 32px;\n",
              "    }\n",
              "\n",
              "    .colab-df-convert:hover {\n",
              "      background-color: #E2EBFA;\n",
              "      box-shadow: 0px 1px 2px rgba(60, 64, 67, 0.3), 0px 1px 3px 1px rgba(60, 64, 67, 0.15);\n",
              "      fill: #174EA6;\n",
              "    }\n",
              "\n",
              "    .colab-df-buttons div {\n",
              "      margin-bottom: 4px;\n",
              "    }\n",
              "\n",
              "    [theme=dark] .colab-df-convert {\n",
              "      background-color: #3B4455;\n",
              "      fill: #D2E3FC;\n",
              "    }\n",
              "\n",
              "    [theme=dark] .colab-df-convert:hover {\n",
              "      background-color: #434B5C;\n",
              "      box-shadow: 0px 1px 3px 1px rgba(0, 0, 0, 0.15);\n",
              "      filter: drop-shadow(0px 1px 2px rgba(0, 0, 0, 0.3));\n",
              "      fill: #FFFFFF;\n",
              "    }\n",
              "  </style>\n",
              "\n",
              "    <script>\n",
              "      const buttonEl =\n",
              "        document.querySelector('#df-a9e9cb05-1890-4878-b96c-43219a1f7f3e button.colab-df-convert');\n",
              "      buttonEl.style.display =\n",
              "        google.colab.kernel.accessAllowed ? 'block' : 'none';\n",
              "\n",
              "      async function convertToInteractive(key) {\n",
              "        const element = document.querySelector('#df-a9e9cb05-1890-4878-b96c-43219a1f7f3e');\n",
              "        const dataTable =\n",
              "          await google.colab.kernel.invokeFunction('convertToInteractive',\n",
              "                                                    [key], {});\n",
              "        if (!dataTable) return;\n",
              "\n",
              "        const docLinkHtml = 'Like what you see? Visit the ' +\n",
              "          '<a target=\"_blank\" href=https://colab.research.google.com/notebooks/data_table.ipynb>data table notebook</a>'\n",
              "          + ' to learn more about interactive tables.';\n",
              "        element.innerHTML = '';\n",
              "        dataTable['output_type'] = 'display_data';\n",
              "        await google.colab.output.renderOutput(dataTable, element);\n",
              "        const docLink = document.createElement('div');\n",
              "        docLink.innerHTML = docLinkHtml;\n",
              "        element.appendChild(docLink);\n",
              "      }\n",
              "    </script>\n",
              "  </div>\n",
              "\n",
              "\n",
              "<div id=\"df-c420d516-2b3f-4f5f-bd41-97559a2630f7\">\n",
              "  <button class=\"colab-df-quickchart\" onclick=\"quickchart('df-c420d516-2b3f-4f5f-bd41-97559a2630f7')\"\n",
              "            title=\"Suggest charts\"\n",
              "            style=\"display:none;\">\n",
              "\n",
              "<svg xmlns=\"http://www.w3.org/2000/svg\" height=\"24px\"viewBox=\"0 0 24 24\"\n",
              "     width=\"24px\">\n",
              "    <g>\n",
              "        <path d=\"M19 3H5c-1.1 0-2 .9-2 2v14c0 1.1.9 2 2 2h14c1.1 0 2-.9 2-2V5c0-1.1-.9-2-2-2zM9 17H7v-7h2v7zm4 0h-2V7h2v10zm4 0h-2v-4h2v4z\"/>\n",
              "    </g>\n",
              "</svg>\n",
              "  </button>\n",
              "\n",
              "<style>\n",
              "  .colab-df-quickchart {\n",
              "      --bg-color: #E8F0FE;\n",
              "      --fill-color: #1967D2;\n",
              "      --hover-bg-color: #E2EBFA;\n",
              "      --hover-fill-color: #174EA6;\n",
              "      --disabled-fill-color: #AAA;\n",
              "      --disabled-bg-color: #DDD;\n",
              "  }\n",
              "\n",
              "  [theme=dark] .colab-df-quickchart {\n",
              "      --bg-color: #3B4455;\n",
              "      --fill-color: #D2E3FC;\n",
              "      --hover-bg-color: #434B5C;\n",
              "      --hover-fill-color: #FFFFFF;\n",
              "      --disabled-bg-color: #3B4455;\n",
              "      --disabled-fill-color: #666;\n",
              "  }\n",
              "\n",
              "  .colab-df-quickchart {\n",
              "    background-color: var(--bg-color);\n",
              "    border: none;\n",
              "    border-radius: 50%;\n",
              "    cursor: pointer;\n",
              "    display: none;\n",
              "    fill: var(--fill-color);\n",
              "    height: 32px;\n",
              "    padding: 0;\n",
              "    width: 32px;\n",
              "  }\n",
              "\n",
              "  .colab-df-quickchart:hover {\n",
              "    background-color: var(--hover-bg-color);\n",
              "    box-shadow: 0 1px 2px rgba(60, 64, 67, 0.3), 0 1px 3px 1px rgba(60, 64, 67, 0.15);\n",
              "    fill: var(--button-hover-fill-color);\n",
              "  }\n",
              "\n",
              "  .colab-df-quickchart-complete:disabled,\n",
              "  .colab-df-quickchart-complete:disabled:hover {\n",
              "    background-color: var(--disabled-bg-color);\n",
              "    fill: var(--disabled-fill-color);\n",
              "    box-shadow: none;\n",
              "  }\n",
              "\n",
              "  .colab-df-spinner {\n",
              "    border: 2px solid var(--fill-color);\n",
              "    border-color: transparent;\n",
              "    border-bottom-color: var(--fill-color);\n",
              "    animation:\n",
              "      spin 1s steps(1) infinite;\n",
              "  }\n",
              "\n",
              "  @keyframes spin {\n",
              "    0% {\n",
              "      border-color: transparent;\n",
              "      border-bottom-color: var(--fill-color);\n",
              "      border-left-color: var(--fill-color);\n",
              "    }\n",
              "    20% {\n",
              "      border-color: transparent;\n",
              "      border-left-color: var(--fill-color);\n",
              "      border-top-color: var(--fill-color);\n",
              "    }\n",
              "    30% {\n",
              "      border-color: transparent;\n",
              "      border-left-color: var(--fill-color);\n",
              "      border-top-color: var(--fill-color);\n",
              "      border-right-color: var(--fill-color);\n",
              "    }\n",
              "    40% {\n",
              "      border-color: transparent;\n",
              "      border-right-color: var(--fill-color);\n",
              "      border-top-color: var(--fill-color);\n",
              "    }\n",
              "    60% {\n",
              "      border-color: transparent;\n",
              "      border-right-color: var(--fill-color);\n",
              "    }\n",
              "    80% {\n",
              "      border-color: transparent;\n",
              "      border-right-color: var(--fill-color);\n",
              "      border-bottom-color: var(--fill-color);\n",
              "    }\n",
              "    90% {\n",
              "      border-color: transparent;\n",
              "      border-bottom-color: var(--fill-color);\n",
              "    }\n",
              "  }\n",
              "</style>\n",
              "\n",
              "  <script>\n",
              "    async function quickchart(key) {\n",
              "      const quickchartButtonEl =\n",
              "        document.querySelector('#' + key + ' button');\n",
              "      quickchartButtonEl.disabled = true;  // To prevent multiple clicks.\n",
              "      quickchartButtonEl.classList.add('colab-df-spinner');\n",
              "      try {\n",
              "        const charts = await google.colab.kernel.invokeFunction(\n",
              "            'suggestCharts', [key], {});\n",
              "      } catch (error) {\n",
              "        console.error('Error during call to suggestCharts:', error);\n",
              "      }\n",
              "      quickchartButtonEl.classList.remove('colab-df-spinner');\n",
              "      quickchartButtonEl.classList.add('colab-df-quickchart-complete');\n",
              "    }\n",
              "    (() => {\n",
              "      let quickchartButtonEl =\n",
              "        document.querySelector('#df-c420d516-2b3f-4f5f-bd41-97559a2630f7 button');\n",
              "      quickchartButtonEl.style.display =\n",
              "        google.colab.kernel.accessAllowed ? 'block' : 'none';\n",
              "    })();\n",
              "  </script>\n",
              "</div>\n",
              "\n",
              "  <div id=\"id_07a27113-004a-4208-8aec-b0869efb94d0\">\n",
              "    <style>\n",
              "      .colab-df-generate {\n",
              "        background-color: #E8F0FE;\n",
              "        border: none;\n",
              "        border-radius: 50%;\n",
              "        cursor: pointer;\n",
              "        display: none;\n",
              "        fill: #1967D2;\n",
              "        height: 32px;\n",
              "        padding: 0 0 0 0;\n",
              "        width: 32px;\n",
              "      }\n",
              "\n",
              "      .colab-df-generate:hover {\n",
              "        background-color: #E2EBFA;\n",
              "        box-shadow: 0px 1px 2px rgba(60, 64, 67, 0.3), 0px 1px 3px 1px rgba(60, 64, 67, 0.15);\n",
              "        fill: #174EA6;\n",
              "      }\n",
              "\n",
              "      [theme=dark] .colab-df-generate {\n",
              "        background-color: #3B4455;\n",
              "        fill: #D2E3FC;\n",
              "      }\n",
              "\n",
              "      [theme=dark] .colab-df-generate:hover {\n",
              "        background-color: #434B5C;\n",
              "        box-shadow: 0px 1px 3px 1px rgba(0, 0, 0, 0.15);\n",
              "        filter: drop-shadow(0px 1px 2px rgba(0, 0, 0, 0.3));\n",
              "        fill: #FFFFFF;\n",
              "      }\n",
              "    </style>\n",
              "    <button class=\"colab-df-generate\" onclick=\"generateWithVariable('datasets')\"\n",
              "            title=\"Generate code using this dataframe.\"\n",
              "            style=\"display:none;\">\n",
              "\n",
              "  <svg xmlns=\"http://www.w3.org/2000/svg\" height=\"24px\"viewBox=\"0 0 24 24\"\n",
              "       width=\"24px\">\n",
              "    <path d=\"M7,19H8.4L18.45,9,17,7.55,7,17.6ZM5,21V16.75L18.45,3.32a2,2,0,0,1,2.83,0l1.4,1.43a1.91,1.91,0,0,1,.58,1.4,1.91,1.91,0,0,1-.58,1.4L9.25,21ZM18.45,9,17,7.55Zm-12,3A5.31,5.31,0,0,0,4.9,8.1,5.31,5.31,0,0,0,1,6.5,5.31,5.31,0,0,0,4.9,4.9,5.31,5.31,0,0,0,6.5,1,5.31,5.31,0,0,0,8.1,4.9,5.31,5.31,0,0,0,12,6.5,5.46,5.46,0,0,0,6.5,12Z\"/>\n",
              "  </svg>\n",
              "    </button>\n",
              "    <script>\n",
              "      (() => {\n",
              "      const buttonEl =\n",
              "        document.querySelector('#id_07a27113-004a-4208-8aec-b0869efb94d0 button.colab-df-generate');\n",
              "      buttonEl.style.display =\n",
              "        google.colab.kernel.accessAllowed ? 'block' : 'none';\n",
              "\n",
              "      buttonEl.onclick = () => {\n",
              "        google.colab.notebook.generateWithVariable('datasets');\n",
              "      }\n",
              "      })();\n",
              "    </script>\n",
              "  </div>\n",
              "\n",
              "    </div>\n",
              "  </div>\n"
            ],
            "application/vnd.google.colaboratory.intrinsic+json": {
              "type": "dataframe",
              "variable_name": "datasets",
              "summary": "{\n  \"name\": \"datasets\",\n  \"rows\": 561,\n  \"fields\": [\n    {\n      \"column\": \"NO\",\n      \"properties\": {\n        \"dtype\": \"number\",\n        \"std\": 162,\n        \"min\": 1,\n        \"max\": 562,\n        \"num_unique_values\": 561,\n        \"samples\": [\n          515,\n          344,\n          179\n        ],\n        \"semantic_type\": \"\",\n        \"description\": \"\"\n      }\n    },\n    {\n      \"column\": \"NAMA\",\n      \"properties\": {\n        \"dtype\": \"string\",\n        \"num_unique_values\": 561,\n        \"samples\": [\n          \"NAMA 514\",\n          \"NAMA 343\",\n          \"NAMA 178\"\n        ],\n        \"semantic_type\": \"\",\n        \"description\": \"\"\n      }\n    },\n    {\n      \"column\": \"USIA\",\n      \"properties\": {\n        \"dtype\": \"number\",\n        \"std\": 5.85876472076475,\n        \"min\": 13.0,\n        \"max\": 43.0,\n        \"num_unique_values\": 31,\n        \"samples\": [\n          17.0,\n          40.0,\n          41.0\n        ],\n        \"semantic_type\": \"\",\n        \"description\": \"\"\n      }\n    },\n    {\n      \"column\": \"PARITAS\",\n      \"properties\": {\n        \"dtype\": \"number\",\n        \"std\": 1,\n        \"min\": 0,\n        \"max\": 6,\n        \"num_unique_values\": 7,\n        \"samples\": [\n          3,\n          2,\n          5\n        ],\n        \"semantic_type\": \"\",\n        \"description\": \"\"\n      }\n    },\n    {\n      \"column\": \"JARAK KELAHIRAN\",\n      \"properties\": {\n        \"dtype\": \"number\",\n        \"std\": 0,\n        \"min\": 0,\n        \"max\": 2,\n        \"num_unique_values\": 3,\n        \"samples\": [\n          0,\n          2,\n          1\n        ],\n        \"semantic_type\": \"\",\n        \"description\": \"\"\n      }\n    },\n    {\n      \"column\": \"PE/Non PE\",\n      \"properties\": {\n        \"dtype\": \"number\",\n        \"std\": 0,\n        \"min\": 0,\n        \"max\": 1,\n        \"num_unique_values\": 2,\n        \"samples\": [\n          1,\n          0\n        ],\n        \"semantic_type\": \"\",\n        \"description\": \"\"\n      }\n    },\n    {\n      \"column\": \"RIW HIPERTENSI_Tidak\",\n      \"properties\": {\n        \"dtype\": \"number\",\n        \"std\": 0.29274827642295526,\n        \"min\": 0.0,\n        \"max\": 1.0,\n        \"num_unique_values\": 2,\n        \"samples\": [\n          0.0,\n          1.0\n        ],\n        \"semantic_type\": \"\",\n        \"description\": \"\"\n      }\n    },\n    {\n      \"column\": \"RIW HIPERTENSI_Ya\",\n      \"properties\": {\n        \"dtype\": \"number\",\n        \"std\": 0.29274827642295526,\n        \"min\": 0.0,\n        \"max\": 1.0,\n        \"num_unique_values\": 2,\n        \"samples\": [\n          1.0,\n          0.0\n        ],\n        \"semantic_type\": \"\",\n        \"description\": \"\"\n      }\n    },\n    {\n      \"column\": \"RIW PE_Ada\",\n      \"properties\": {\n        \"dtype\": \"number\",\n        \"std\": 0.24207584144742111,\n        \"min\": 0.0,\n        \"max\": 1.0,\n        \"num_unique_values\": 2,\n        \"samples\": [\n          1.0,\n          0.0\n        ],\n        \"semantic_type\": \"\",\n        \"description\": \"\"\n      }\n    },\n    {\n      \"column\": \"RIW PE_Tidak\",\n      \"properties\": {\n        \"dtype\": \"number\",\n        \"std\": 0.24207584144742111,\n        \"min\": 0.0,\n        \"max\": 1.0,\n        \"num_unique_values\": 2,\n        \"samples\": [\n          0.0,\n          1.0\n        ],\n        \"semantic_type\": \"\",\n        \"description\": \"\"\n      }\n    },\n    {\n      \"column\": \"OBESITAS_Tidak\",\n      \"properties\": {\n        \"dtype\": \"number\",\n        \"std\": 0.09406909239017766,\n        \"min\": 0.0,\n        \"max\": 1.0,\n        \"num_unique_values\": 2,\n        \"samples\": [\n          0.0,\n          1.0\n        ],\n        \"semantic_type\": \"\",\n        \"description\": \"\"\n      }\n    },\n    {\n      \"column\": \"OBESITAS_Ya\",\n      \"properties\": {\n        \"dtype\": \"number\",\n        \"std\": 0.09406909239017766,\n        \"min\": 0.0,\n        \"max\": 1.0,\n        \"num_unique_values\": 2,\n        \"samples\": [\n          1.0,\n          0.0\n        ],\n        \"semantic_type\": \"\",\n        \"description\": \"\"\n      }\n    },\n    {\n      \"column\": \"RIW DM_Tidak\",\n      \"properties\": {\n        \"dtype\": \"number\",\n        \"std\": 0.09406909239017763,\n        \"min\": 0.0,\n        \"max\": 1.0,\n        \"num_unique_values\": 2,\n        \"samples\": [\n          1.0,\n          0.0\n        ],\n        \"semantic_type\": \"\",\n        \"description\": \"\"\n      }\n    },\n    {\n      \"column\": \"RIW DM_Ya\",\n      \"properties\": {\n        \"dtype\": \"number\",\n        \"std\": 0.09406909239017763,\n        \"min\": 0.0,\n        \"max\": 1.0,\n        \"num_unique_values\": 2,\n        \"samples\": [\n          0.0,\n          1.0\n        ],\n        \"semantic_type\": \"\",\n        \"description\": \"\"\n      }\n    },\n    {\n      \"column\": \"RIW HIPERTENSI/PE DALAM KELUARGA_Ada\",\n      \"properties\": {\n        \"dtype\": \"number\",\n        \"std\": 0.13877212645640427,\n        \"min\": 0.0,\n        \"max\": 1.0,\n        \"num_unique_values\": 2,\n        \"samples\": [\n          1.0,\n          0.0\n        ],\n        \"semantic_type\": \"\",\n        \"description\": \"\"\n      }\n    },\n    {\n      \"column\": \"RIW HIPERTENSI/PE DALAM KELUARGA_Tidak\",\n      \"properties\": {\n        \"dtype\": \"number\",\n        \"std\": 0.13877212645640427,\n        \"min\": 0.0,\n        \"max\": 1.0,\n        \"num_unique_values\": 2,\n        \"samples\": [\n          0.0,\n          1.0\n        ],\n        \"semantic_type\": \"\",\n        \"description\": \"\"\n      }\n    },\n    {\n      \"column\": \"SOSEK RENDAH_<UMR\",\n      \"properties\": {\n        \"dtype\": \"number\",\n        \"std\": 0.08421358370336117,\n        \"min\": 0.0,\n        \"max\": 1.0,\n        \"num_unique_values\": 2,\n        \"samples\": [\n          1.0,\n          0.0\n        ],\n        \"semantic_type\": \"\",\n        \"description\": \"\"\n      }\n    },\n    {\n      \"column\": \"SOSEK RENDAH_>UMR\",\n      \"properties\": {\n        \"dtype\": \"number\",\n        \"std\": 0.08421358370336117,\n        \"min\": 0.0,\n        \"max\": 1.0,\n        \"num_unique_values\": 2,\n        \"samples\": [\n          0.0,\n          1.0\n        ],\n        \"semantic_type\": \"\",\n        \"description\": \"\"\n      }\n    }\n  ]\n}"
            }
          },
          "metadata": {},
          "execution_count": 218
        }
      ]
    },
    {
      "cell_type": "code",
      "execution_count": 219,
      "id": "73636238-fd19-459f-8e9c-ab808f7df57d",
      "metadata": {
        "colab": {
          "base_uri": "https://localhost:8080/",
          "height": 1000
        },
        "id": "73636238-fd19-459f-8e9c-ab808f7df57d",
        "outputId": "6fbfa595-c000-4ce8-da39-e59e9b642b72"
      },
      "outputs": [
        {
          "output_type": "stream",
          "name": "stdout",
          "text": [
            "\n",
            "---Exploratory Data Analysis---\n",
            "Descriptive Statistics:\n",
            "                NO        USIA     PARITAS  JARAK KELAHIRAN   PE/Non PE  \\\n",
            "count  561.000000  561.000000  561.000000       561.000000  561.000000   \n",
            "mean   281.859180   28.195612    1.709447         1.331551    0.073084   \n",
            "std    162.301009    5.858765    1.012105         0.715057    0.260506   \n",
            "min      1.000000   13.000000    0.000000         0.000000    0.000000   \n",
            "25%    142.000000   24.000000    1.000000         1.000000    0.000000   \n",
            "50%    282.000000   28.000000    2.000000         1.000000    0.000000   \n",
            "75%    422.000000   32.000000    2.000000         2.000000    0.000000   \n",
            "max    562.000000   43.000000    6.000000         2.000000    1.000000   \n",
            "\n",
            "       RIW HIPERTENSI_Tidak  RIW HIPERTENSI_Ya  RIW PE_Ada  RIW PE_Tidak  \\\n",
            "count            561.000000         561.000000  561.000000    561.000000   \n",
            "mean               0.905526           0.094474    0.062389      0.937611   \n",
            "std                0.292748           0.292748    0.242076      0.242076   \n",
            "min                0.000000           0.000000    0.000000      0.000000   \n",
            "25%                1.000000           0.000000    0.000000      1.000000   \n",
            "50%                1.000000           0.000000    0.000000      1.000000   \n",
            "75%                1.000000           0.000000    0.000000      1.000000   \n",
            "max                1.000000           1.000000    1.000000      1.000000   \n",
            "\n",
            "       OBESITAS_Tidak  OBESITAS_Ya  RIW DM_Tidak   RIW DM_Ya  \\\n",
            "count      561.000000   561.000000    561.000000  561.000000   \n",
            "mean         0.991087     0.008913      0.991087    0.008913   \n",
            "std          0.094069     0.094069      0.094069    0.094069   \n",
            "min          0.000000     0.000000      0.000000    0.000000   \n",
            "25%          1.000000     0.000000      1.000000    0.000000   \n",
            "50%          1.000000     0.000000      1.000000    0.000000   \n",
            "75%          1.000000     0.000000      1.000000    0.000000   \n",
            "max          1.000000     1.000000      1.000000    1.000000   \n",
            "\n",
            "       RIW HIPERTENSI/PE DALAM KELUARGA_Ada  \\\n",
            "count                            561.000000   \n",
            "mean                               0.019608   \n",
            "std                                0.138772   \n",
            "min                                0.000000   \n",
            "25%                                0.000000   \n",
            "50%                                0.000000   \n",
            "75%                                0.000000   \n",
            "max                                1.000000   \n",
            "\n",
            "       RIW HIPERTENSI/PE DALAM KELUARGA_Tidak  SOSEK RENDAH_<UMR  \\\n",
            "count                              561.000000         561.000000   \n",
            "mean                                 0.980392           0.007130   \n",
            "std                                  0.138772           0.084214   \n",
            "min                                  0.000000           0.000000   \n",
            "25%                                  1.000000           0.000000   \n",
            "50%                                  1.000000           0.000000   \n",
            "75%                                  1.000000           0.000000   \n",
            "max                                  1.000000           1.000000   \n",
            "\n",
            "       SOSEK RENDAH_>UMR  \n",
            "count         561.000000  \n",
            "mean            0.992870  \n",
            "std             0.084214  \n",
            "min             0.000000  \n",
            "25%             1.000000  \n",
            "50%             1.000000  \n",
            "75%             1.000000  \n",
            "max             1.000000  \n"
          ]
        },
        {
          "output_type": "display_data",
          "data": {
            "text/plain": [
              "<Figure size 1200x800 with 2 Axes>"
            ],
            "image/png": "[encoded data removed]"
          },
          "metadata": {}
        }
      ],
      "source": [
        "print(\"\\n---Exploratory Data Analysis---\")\n",
        "\n",
        "print(\"Descriptive Statistics:\\n\", datasets.describe())\n",
        "\n",
        "numeric_datasets = datasets.select_dtypes(include=['number'])\n",
        "\n",
        "plt.figure(figsize=(12, 8))\n",
        "sns.heatmap(numeric_datasets.corr(), annot=True, cmap='coolwarm')\n",
        "plt.title(\"Correlation Matrix\")\n",
        "plt.show()"
      ]
    },
    {
      "cell_type": "code",
      "execution_count": 220,
      "id": "cd234847-03ee-4425-b838-f7d681eea84f",
      "metadata": {
        "colab": {
          "base_uri": "https://localhost:8080/",
          "height": 545
        },
        "id": "cd234847-03ee-4425-b838-f7d681eea84f",
        "outputId": "0eba354c-298d-4054-8c16-3993b9dc59f3"
      },
      "outputs": [
        {
          "output_type": "display_data",
          "data": {
            "text/plain": [
              "<Figure size 800x600 with 1 Axes>"
            ],
            "image/png": "[encoded data removed]"
          },
          "metadata": {}
        }
      ],
      "source": [
        "data_cleaned = datasets\n",
        "target_column_name = 'PE/Non PE'\n",
        "\n",
        "plt.figure(figsize=(8, 6))\n",
        "sns.countplot(data_cleaned[target_column_name])\n",
        "plt.title(\"Distribusi Kelas Target\")\n",
        "plt.show()"
      ]
    },
    {
      "cell_type": "code",
      "source": [
        "!pip install scikit-learn pandas numpy"
      ],
      "metadata": {
        "colab": {
          "base_uri": "https://localhost:8080/"
        },
        "id": "K57UML0JuR0W",
        "outputId": "73b90bfd-1441-45cc-dc53-6355ef190173"
      },
      "id": "K57UML0JuR0W",
      "execution_count": 221,
      "outputs": [
        {
          "output_type": "stream",
          "name": "stdout",
          "text": [
            "Requirement already satisfied: scikit-learn in /usr/local/lib/python3.10/dist-packages (1.5.2)\n",
            "Requirement already satisfied: pandas in /usr/local/lib/python3.10/dist-packages (2.2.2)\n",
            "Requirement already satisfied: numpy in /usr/local/lib/python3.10/dist-packages (1.26.4)\n",
            "Requirement already satisfied: scipy>=1.6.0 in /usr/local/lib/python3.10/dist-packages (from scikit-learn) (1.13.1)\n",
            "Requirement already satisfied: joblib>=1.2.0 in /usr/local/lib/python3.10/dist-packages (from scikit-learn) (1.4.2)\n",
            "Requirement already satisfied: threadpoolctl>=3.1.0 in /usr/local/lib/python3.10/dist-packages (from scikit-learn) (3.5.0)\n",
            "Requirement already satisfied: python-dateutil>=2.8.2 in /usr/local/lib/python3.10/dist-packages (from pandas) (2.8.2)\n",
            "Requirement already satisfied: pytz>=2020.1 in /usr/local/lib/python3.10/dist-packages (from pandas) (2024.2)\n",
            "Requirement already satisfied: tzdata>=2022.7 in /usr/local/lib/python3.10/dist-packages (from pandas) (2024.2)\n",
            "Requirement already satisfied: six>=1.5 in /usr/local/lib/python3.10/dist-packages (from python-dateutil>=2.8.2->pandas) (1.16.0)\n"
          ]
        }
      ]
    },
    {
      "cell_type": "code",
      "execution_count": 222,
      "id": "9cc1e0b5-441b-43de-a775-c2dff62bfad1",
      "metadata": {
        "colab": {
          "base_uri": "https://localhost:8080/"
        },
        "id": "9cc1e0b5-441b-43de-a775-c2dff62bfad1",
        "outputId": "5b30e85b-5cd1-4460-846f-bd9db0fa1046"
      },
      "outputs": [
        {
          "output_type": "stream",
          "name": "stdout",
          "text": [
            "\n",
            "---Feature Selection---\n",
            "Selected Features: Index(['NO', 'USIA', 'PARITAS', 'JARAK KELAHIRAN', 'RIW HIPERTENSI_Tidak',\n",
            "       'RIW PE_Ada', 'RIW PE_Tidak', 'OBESITAS_Tidak', 'OBESITAS_Ya',\n",
            "       'RIW DM_Tidak', 'RIW DM_Ya', 'RIW HIPERTENSI/PE DALAM KELUARGA_Ada',\n",
            "       'RIW HIPERTENSI/PE DALAM KELUARGA_Tidak', 'SOSEK RENDAH_<UMR',\n",
            "       'SOSEK RENDAH_>UMR'],\n",
            "      dtype='object')\n"
          ]
        }
      ],
      "source": [
        "import pandas as pd\n",
        "from sklearn.feature_selection import RFE\n",
        "from sklearn.tree import DecisionTreeClassifier\n",
        "\n",
        "print(\"\\n---Feature Selection---\")\n",
        "\n",
        "X = datasets.drop(columns=['PE/Non PE'])\n",
        "y = datasets['PE/Non PE']\n",
        "\n",
        "non_numeric_columns = X.select_dtypes(exclude=['number']).columns\n",
        "\n",
        "X = X.drop(columns=non_numeric_columns)\n",
        "\n",
        "model = DecisionTreeClassifier(random_state=42)\n",
        "selector = RFE(model, n_features_to_select=15, step=1)\n",
        "\n",
        "X_selected = selector.fit_transform(X, y)\n",
        "selected_features = X.columns[selector.support_]\n",
        "\n",
        "print(\"Selected Features:\", selected_features)"
      ]
    },
    {
      "cell_type": "code",
      "execution_count": 223,
      "id": "dfef1603-e2bf-4bd2-ba38-be95a641c321",
      "metadata": {
        "id": "dfef1603-e2bf-4bd2-ba38-be95a641c321"
      },
      "outputs": [],
      "source": [
        "from sklearn.model_selection import train_test_split\n",
        "\n",
        "X_train_full, X_test_full, y_train, y_test = train_test_split(X, y, test_size=0.2, random_state=42)\n",
        "X_train_selected, X_test_selected, _, _ = train_test_split(X_selected, y, test_size=0.2, random_state=42)"
      ]
    },
    {
      "cell_type": "code",
      "execution_count": 224,
      "id": "7c4e53d5-8116-4b17-9956-fdf448081f91",
      "metadata": {
        "id": "7c4e53d5-8116-4b17-9956-fdf448081f91"
      },
      "outputs": [],
      "source": [
        "from sklearn.preprocessing import StandardScaler\n",
        "\n",
        "scaler = StandardScaler()\n",
        "X_train_full = scaler.fit_transform(X_train_full)\n",
        "X_test_full = scaler.transform(X_test_full)\n",
        "X_train_selected = scaler.fit_transform(X_train_selected)\n",
        "X_test_selected = scaler.transform(X_test_selected)"
      ]
    },
    {
      "cell_type": "code",
      "execution_count": 225,
      "id": "7a253f55-138d-49dc-806a-e61a45bcec97",
      "metadata": {
        "colab": {
          "base_uri": "https://localhost:8080/"
        },
        "id": "7a253f55-138d-49dc-806a-e61a45bcec97",
        "outputId": "efb630fe-5ac6-4a7b-e6e9-181ecb5ea3ac"
      },
      "outputs": [
        {
          "output_type": "stream",
          "name": "stderr",
          "text": [
            "/usr/local/lib/python3.10/dist-packages/sklearn/metrics/_classification.py:1531: UndefinedMetricWarning: Precision is ill-defined and being set to 0.0 in labels with no predicted samples. Use `zero_division` parameter to control this behavior.\n",
            "  _warn_prf(average, modifier, f\"{metric.capitalize()} is\", len(result))\n",
            "/usr/local/lib/python3.10/dist-packages/sklearn/metrics/_classification.py:1531: UndefinedMetricWarning: Precision is ill-defined and being set to 0.0 in labels with no predicted samples. Use `zero_division` parameter to control this behavior.\n",
            "  _warn_prf(average, modifier, f\"{metric.capitalize()} is\", len(result))\n",
            "/usr/local/lib/python3.10/dist-packages/sklearn/metrics/_classification.py:1531: UndefinedMetricWarning: Precision is ill-defined and being set to 0.0 in labels with no predicted samples. Use `zero_division` parameter to control this behavior.\n",
            "  _warn_prf(average, modifier, f\"{metric.capitalize()} is\", len(result))\n"
          ]
        },
        {
          "output_type": "execute_result",
          "data": {
            "text/plain": [
              "{'Naive Bayes': {'accuracy': 0.8994082840236687,\n",
              "  'report': {'0': {'precision': 0.9722222222222222,\n",
              "    'recall': 0.9150326797385621,\n",
              "    'f1-score': 0.9427609427609428,\n",
              "    'support': 153.0},\n",
              "   '1': {'precision': 0.48,\n",
              "    'recall': 0.75,\n",
              "    'f1-score': 0.5853658536585366,\n",
              "    'support': 16.0},\n",
              "   'accuracy': 0.8994082840236687,\n",
              "   'macro avg': {'precision': 0.7261111111111112,\n",
              "    'recall': 0.832516339869281,\n",
              "    'f1-score': 0.7640633982097397,\n",
              "    'support': 169.0},\n",
              "   'weighted avg': {'precision': 0.925621301775148,\n",
              "    'recall': 0.8994082840236687,\n",
              "    'f1-score': 0.9089247213074606,\n",
              "    'support': 169.0}}},\n",
              " 'K-NN': {'accuracy': 0.9053254437869822,\n",
              "  'report': {'0': {'precision': 0.9053254437869822,\n",
              "    'recall': 1.0,\n",
              "    'f1-score': 0.9503105590062112,\n",
              "    'support': 153.0},\n",
              "   '1': {'precision': 0.0, 'recall': 0.0, 'f1-score': 0.0, 'support': 16.0},\n",
              "   'accuracy': 0.9053254437869822,\n",
              "   'macro avg': {'precision': 0.4526627218934911,\n",
              "    'recall': 0.5,\n",
              "    'f1-score': 0.4751552795031056,\n",
              "    'support': 169.0},\n",
              "   'weighted avg': {'precision': 0.8196141591680964,\n",
              "    'recall': 0.9053254437869822,\n",
              "    'f1-score': 0.8603403285677533,\n",
              "    'support': 169.0}}},\n",
              " 'Decision Tree': {'accuracy': 0.9171597633136095,\n",
              "  'report': {'0': {'precision': 0.9426751592356688,\n",
              "    'recall': 0.9673202614379085,\n",
              "    'f1-score': 0.9548387096774194,\n",
              "    'support': 153.0},\n",
              "   '1': {'precision': 0.5833333333333334,\n",
              "    'recall': 0.4375,\n",
              "    'f1-score': 0.5,\n",
              "    'support': 16.0},\n",
              "   'accuracy': 0.9171597633136095,\n",
              "   'macro avg': {'precision': 0.763004246284501,\n",
              "    'recall': 0.7024101307189543,\n",
              "    'f1-score': 0.7274193548387097,\n",
              "    'support': 169.0},\n",
              "   'weighted avg': {'precision': 0.9086546313395897,\n",
              "    'recall': 0.9171597633136095,\n",
              "    'f1-score': 0.911777056690208,\n",
              "    'support': 169.0}}}}"
            ]
          },
          "metadata": {},
          "execution_count": 225
        }
      ],
      "source": [
        "from sklearn.model_selection import train_test_split\n",
        "from sklearn.naive_bayes import GaussianNB\n",
        "from sklearn.neighbors import KNeighborsClassifier\n",
        "from sklearn.tree import DecisionTreeClassifier\n",
        "from sklearn.metrics import accuracy_score, classification_report\n",
        "\n",
        "X_train, X_test, y_train, y_test = train_test_split(X, y, test_size=0.3, random_state=42)\n",
        "\n",
        "models = {\n",
        "    'Naive Bayes': GaussianNB(),\n",
        "    'K-NN': KNeighborsClassifier(n_neighbors=5),\n",
        "    'Decision Tree': DecisionTreeClassifier(random_state=42)\n",
        "}\n",
        "\n",
        "results = {}\n",
        "for model_name, model in models.items():\n",
        "    model.fit(X_train, y_train)\n",
        "    y_pred = model.predict(X_test)\n",
        "    accuracy = accuracy_score(y_test, y_pred)\n",
        "    report = classification_report(y_test, y_pred, output_dict=True)\n",
        "    results[model_name] = {\n",
        "        'accuracy': accuracy,\n",
        "        'report': report\n",
        "    }\n",
        "\n",
        "\n",
        "results"
      ]
    },
    {
      "cell_type": "code",
      "source": [
        "from sklearn.feature_selection import SelectKBest, f_classif\n",
        "\n",
        "selector = SelectKBest(score_func=f_classif, k=5)\n",
        "X_new = selector.fit_transform(X_train, y_train)\n",
        "\n",
        "selected_features = [X_train.columns[i] for i in selector.get_support(indices=True)]\n",
        "X_train_selected = X_train[selected_features]\n",
        "X_test_selected = X_test[selected_features]\n",
        "selected_features"
      ],
      "metadata": {
        "colab": {
          "base_uri": "https://localhost:8080/"
        },
        "id": "r8V7Mg48DSzu",
        "outputId": "4d971bac-6fe4-4bcd-a411-4a94301f978b"
      },
      "id": "r8V7Mg48DSzu",
      "execution_count": 226,
      "outputs": [
        {
          "output_type": "execute_result",
          "data": {
            "text/plain": [
              "['RIW HIPERTENSI_Tidak',\n",
              " 'RIW HIPERTENSI_Ya',\n",
              " 'RIW PE_Ada',\n",
              " 'RIW PE_Tidak',\n",
              " 'RIW HIPERTENSI/PE DALAM KELUARGA_Ada']"
            ]
          },
          "metadata": {},
          "execution_count": 226
        }
      ]
    },
    {
      "cell_type": "code",
      "source": [
        "selected_results = {}\n",
        "\n",
        "for model_name, model in models.items():\n",
        "    model.fit(X_train_selected, y_train)\n",
        "    y_pred_selected = model.predict(X_test_selected)\n",
        "    accuracy_selected = accuracy_score(y_test, y_pred_selected)\n",
        "    report_selected = classification_report(y_test, y_pred_selected, output_dict=True)\n",
        "    selected_results[model_name] = {\n",
        "        'accuracy': accuracy_selected,\n",
        "        'report': report_selected\n",
        "    }\n",
        "\n",
        "comparison_results = {\n",
        "    'Original': results,\n",
        "    'Selected Features': selected_results\n",
        "}\n",
        "comparison_results"
      ],
      "metadata": {
        "colab": {
          "base_uri": "https://localhost:8080/"
        },
        "id": "z157l43hDUo0",
        "outputId": "8e5d067e-26f3-4a3d-fa9e-ee846220dd88"
      },
      "id": "z157l43hDUo0",
      "execution_count": 227,
      "outputs": [
        {
          "output_type": "execute_result",
          "data": {
            "text/plain": [
              "{'Original': {'Naive Bayes': {'accuracy': 0.8994082840236687,\n",
              "   'report': {'0': {'precision': 0.9722222222222222,\n",
              "     'recall': 0.9150326797385621,\n",
              "     'f1-score': 0.9427609427609428,\n",
              "     'support': 153.0},\n",
              "    '1': {'precision': 0.48,\n",
              "     'recall': 0.75,\n",
              "     'f1-score': 0.5853658536585366,\n",
              "     'support': 16.0},\n",
              "    'accuracy': 0.8994082840236687,\n",
              "    'macro avg': {'precision': 0.7261111111111112,\n",
              "     'recall': 0.832516339869281,\n",
              "     'f1-score': 0.7640633982097397,\n",
              "     'support': 169.0},\n",
              "    'weighted avg': {'precision': 0.925621301775148,\n",
              "     'recall': 0.8994082840236687,\n",
              "     'f1-score': 0.9089247213074606,\n",
              "     'support': 169.0}}},\n",
              "  'K-NN': {'accuracy': 0.9053254437869822,\n",
              "   'report': {'0': {'precision': 0.9053254437869822,\n",
              "     'recall': 1.0,\n",
              "     'f1-score': 0.9503105590062112,\n",
              "     'support': 153.0},\n",
              "    '1': {'precision': 0.0, 'recall': 0.0, 'f1-score': 0.0, 'support': 16.0},\n",
              "    'accuracy': 0.9053254437869822,\n",
              "    'macro avg': {'precision': 0.4526627218934911,\n",
              "     'recall': 0.5,\n",
              "     'f1-score': 0.4751552795031056,\n",
              "     'support': 169.0},\n",
              "    'weighted avg': {'precision': 0.8196141591680964,\n",
              "     'recall': 0.9053254437869822,\n",
              "     'f1-score': 0.8603403285677533,\n",
              "     'support': 169.0}}},\n",
              "  'Decision Tree': {'accuracy': 0.9171597633136095,\n",
              "   'report': {'0': {'precision': 0.9426751592356688,\n",
              "     'recall': 0.9673202614379085,\n",
              "     'f1-score': 0.9548387096774194,\n",
              "     'support': 153.0},\n",
              "    '1': {'precision': 0.5833333333333334,\n",
              "     'recall': 0.4375,\n",
              "     'f1-score': 0.5,\n",
              "     'support': 16.0},\n",
              "    'accuracy': 0.9171597633136095,\n",
              "    'macro avg': {'precision': 0.763004246284501,\n",
              "     'recall': 0.7024101307189543,\n",
              "     'f1-score': 0.7274193548387097,\n",
              "     'support': 169.0},\n",
              "    'weighted avg': {'precision': 0.9086546313395897,\n",
              "     'recall': 0.9171597633136095,\n",
              "     'f1-score': 0.911777056690208,\n",
              "     'support': 169.0}}}},\n",
              " 'Selected Features': {'Naive Bayes': {'accuracy': 0.8994082840236687,\n",
              "   'report': {'0': {'precision': 0.9722222222222222,\n",
              "     'recall': 0.9150326797385621,\n",
              "     'f1-score': 0.9427609427609428,\n",
              "     'support': 153.0},\n",
              "    '1': {'precision': 0.48,\n",
              "     'recall': 0.75,\n",
              "     'f1-score': 0.5853658536585366,\n",
              "     'support': 16.0},\n",
              "    'accuracy': 0.8994082840236687,\n",
              "    'macro avg': {'precision': 0.7261111111111112,\n",
              "     'recall': 0.832516339869281,\n",
              "     'f1-score': 0.7640633982097397,\n",
              "     'support': 169.0},\n",
              "    'weighted avg': {'precision': 0.925621301775148,\n",
              "     'recall': 0.8994082840236687,\n",
              "     'f1-score': 0.9089247213074606,\n",
              "     'support': 169.0}}},\n",
              "  'K-NN': {'accuracy': 0.9289940828402367,\n",
              "   'report': {'0': {'precision': 0.9433962264150944,\n",
              "     'recall': 0.9803921568627451,\n",
              "     'f1-score': 0.9615384615384616,\n",
              "     'support': 153.0},\n",
              "    '1': {'precision': 0.7,\n",
              "     'recall': 0.4375,\n",
              "     'f1-score': 0.5384615384615384,\n",
              "     'support': 16.0},\n",
              "    'accuracy': 0.9289940828402367,\n",
              "    'macro avg': {'precision': 0.8216981132075472,\n",
              "     'recall': 0.7089460784313726,\n",
              "     'f1-score': 0.75,\n",
              "     'support': 169.0},\n",
              "    'weighted avg': {'precision': 0.920352796695322,\n",
              "     'recall': 0.9289940828402367,\n",
              "     'f1-score': 0.9214838416021848,\n",
              "     'support': 169.0}}},\n",
              "  'Decision Tree': {'accuracy': 0.9289940828402367,\n",
              "   'report': {'0': {'precision': 0.9433962264150944,\n",
              "     'recall': 0.9803921568627451,\n",
              "     'f1-score': 0.9615384615384616,\n",
              "     'support': 153.0},\n",
              "    '1': {'precision': 0.7,\n",
              "     'recall': 0.4375,\n",
              "     'f1-score': 0.5384615384615384,\n",
              "     'support': 16.0},\n",
              "    'accuracy': 0.9289940828402367,\n",
              "    'macro avg': {'precision': 0.8216981132075472,\n",
              "     'recall': 0.7089460784313726,\n",
              "     'f1-score': 0.75,\n",
              "     'support': 169.0},\n",
              "    'weighted avg': {'precision': 0.920352796695322,\n",
              "     'recall': 0.9289940828402367,\n",
              "     'f1-score': 0.9214838416021848,\n",
              "     'support': 169.0}}}}}"
            ]
          },
          "metadata": {},
          "execution_count": 227
        }
      ]
    },
    {
      "cell_type": "code",
      "source": [
        "!pip install scikit-learn"
      ],
      "metadata": {
        "colab": {
          "base_uri": "https://localhost:8080/"
        },
        "id": "9GLRTBcfuMIN",
        "outputId": "e5f7a868-edbe-4970-da47-c056e780071a"
      },
      "id": "9GLRTBcfuMIN",
      "execution_count": 228,
      "outputs": [
        {
          "output_type": "stream",
          "name": "stdout",
          "text": [
            "Requirement already satisfied: scikit-learn in /usr/local/lib/python3.10/dist-packages (1.5.2)\n",
            "Requirement already satisfied: numpy>=1.19.5 in /usr/local/lib/python3.10/dist-packages (from scikit-learn) (1.26.4)\n",
            "Requirement already satisfied: scipy>=1.6.0 in /usr/local/lib/python3.10/dist-packages (from scikit-learn) (1.13.1)\n",
            "Requirement already satisfied: joblib>=1.2.0 in /usr/local/lib/python3.10/dist-packages (from scikit-learn) (1.4.2)\n",
            "Requirement already satisfied: threadpoolctl>=3.1.0 in /usr/local/lib/python3.10/dist-packages (from scikit-learn) (3.5.0)\n"
          ]
        }
      ]
    },
    {
      "cell_type": "code",
      "source": [
        "from sklearn.model_selection import cross_val_score\n",
        "\n",
        "scores_full = {}\n",
        "scores_selected = {}\n",
        "\n",
        "for model_name, model in models.items():\n",
        "\n",
        "    cv_scores_full = cross_val_score(model, X_train, y_train, cv=5)\n",
        "    scores_full[model_name] = (cv_scores_full.mean(), cv_scores_full.std())\n",
        "\n",
        "    cv_scores_selected = cross_val_score(model, X_train_selected, y_train, cv=5)\n",
        "    scores_selected[model_name] = (cv_scores_selected.mean(), cv_scores_selected.std())"
      ],
      "metadata": {
        "id": "qlv8xD62uOL2"
      },
      "id": "qlv8xD62uOL2",
      "execution_count": 229,
      "outputs": []
    },
    {
      "cell_type": "code",
      "execution_count": 230,
      "id": "328d7e78-c070-48ef-8c08-b2dabb325c47",
      "metadata": {
        "colab": {
          "base_uri": "https://localhost:8080/"
        },
        "id": "328d7e78-c070-48ef-8c08-b2dabb325c47",
        "outputId": "d2f9f5ab-e4b9-4c3a-c3b0-c82b9b56e7f0"
      },
      "outputs": [
        {
          "output_type": "stream",
          "name": "stdout",
          "text": [
            "\n",
            "---Comparison Analysis---\n",
            "Naive Bayes:\n",
            "Original Data - Mean CV Score: 0.7415 ± 0.3521\n",
            "Selected Data - Mean CV Score: 0.9262 ± 0.0242\n",
            "\n",
            "K-NN:\n",
            "Original Data - Mean CV Score: 0.9362 ± 0.0004\n",
            "Selected Data - Mean CV Score: 0.9541 ± 0.0172\n",
            "\n",
            "Decision Tree:\n",
            "Original Data - Mean CV Score: 0.9389 ± 0.0243\n",
            "Selected Data - Mean CV Score: 0.9593 ± 0.0186\n",
            "\n"
          ]
        }
      ],
      "source": [
        "print(\"\\n---Comparison Analysis---\")\n",
        "for name in models.keys():\n",
        "    print(f\"{name}:\")\n",
        "    print(f\"Original Data - Mean CV Score: {scores_full[name][0]:.4f} ± {scores_full[name][1]:.4f}\")\n",
        "    print(f\"Selected Data - Mean CV Score: {scores_selected[name][0]:.4f} ± {scores_selected[name][1]:.4f}\")\n",
        "    print()"
      ]
    },
    {
      "cell_type": "code",
      "execution_count": 231,
      "id": "1952564e-5d21-4c45-96a5-e785d51de256",
      "metadata": {
        "colab": {
          "base_uri": "https://localhost:8080/",
          "height": 545
        },
        "id": "1952564e-5d21-4c45-96a5-e785d51de256",
        "outputId": "06e4e097-b9db-49c2-ad29-ac8d463204df"
      },
      "outputs": [
        {
          "output_type": "display_data",
          "data": {
            "text/plain": [
              "<Figure size 1000x600 with 1 Axes>"
            ],
            "image/png": "[encoded data removed]"
          },
          "metadata": {}
        }
      ],
      "source": [
        "labels = list(models.keys())\n",
        "original_scores = [scores_full[model][0] for model in labels]\n",
        "selected_scores = [scores_selected[model][0] for model in labels]\n",
        "\n",
        "x = np.arange(len(labels))\n",
        "width = 0.35\n",
        "\n",
        "fig, ax = plt.subplots(figsize=(10, 6))\n",
        "rects1 = ax.bar(x - width/2, original_scores, width, label='Original Data')\n",
        "rects2 = ax.bar(x + width/2, selected_scores, width, label='Selected Features')\n",
        "\n",
        "ax.set_ylabel('Mean CV Score')\n",
        "ax.set_title('Comparison of Model Performance on Original vs Selected Features')\n",
        "ax.set_xticks(x)\n",
        "ax.set_xticklabels(labels)\n",
        "ax.legend()\n",
        "\n",
        "plt.show()"
      ]
    },
    {
      "cell_type": "code",
      "source": [
        "def generate_report(comparison_results, scores_full, scores_selected):\n",
        "\n",
        "  report = \"\"\n",
        "\n",
        "  for model_name in comparison_results['Original'].keys():\n",
        "    report += f\"**{model_name}:**\\n\"\n",
        "    report += \"- **Dataset Asli:** Akurasi sebesar {:.2f}%\\n\".format(\n",
        "        comparison_results['Original'][model_name]['accuracy'] * 100)\n",
        "    report += \"- **Dataset dengan Fitur Terpilih:** Akurasi sebesar {:.2f}%\\n\".format(\n",
        "        comparison_results['Selected Features'][model_name]['accuracy'] * 100)\n",
        "\n",
        "    original_precision = comparison_results['Original'][model_name]['report']['1']['precision']\n",
        "    selected_precision = comparison_results['Selected Features'][model_name]['report']['1']['precision']\n",
        "    report += f\"- Presisi (kelas 1): Asli: {original_precision:.2f}, Fitur Terpilih: {selected_precision:.2f}\\n\"\n",
        "\n",
        "    original_recall = comparison_results['Original'][model_name]['report']['1']['recall']\n",
        "    selected_recall = comparison_results['Selected Features'][model_name]['report']['1']['recall']\n",
        "    report += f\"- Recall (kelas 1): Asli: {original_recall:.2f}, Fitur Terpilih: {selected_recall:.2f}\\n\"\n",
        "\n",
        "    original_f1 = comparison_results['Original'][model_name]['report']['1']['f1-score']\n",
        "    selected_f1 = comparison_results['Selected Features'][model_name]['report']['1']['f1-score']\n",
        "    report += f\"- F1-score (kelas 1): Asli: {original_f1:.2f}, Fitur Terpilih: {selected_f1:.2f}\\n\"\n",
        "\n",
        "  report += \"### Analisis Cross-Validation\\n\\n\"\n",
        "  for model_name in scores_full.keys():\n",
        "    report += f\"**{model_name}:**\\n\"\n",
        "    report += f\"- **Dataset Asli:** Skor CV rata-rata: {scores_full[model_name][0]:.4f} ± {scores_full[model_name][1]:.4f}\\n\"\n",
        "    report += f\"- **Dataset dengan Fitur Terpilih:** Skor CV rata-rata: {scores_selected[model_name][0]:.4f} ± {scores_selected[model_name][1]:.4f}\\n\"\n",
        "\n",
        "  return report\n",
        "\n",
        "report = generate_report(comparison_results, scores_full, scores_selected)\n",
        "report"
      ],
      "metadata": {
        "colab": {
          "base_uri": "https://localhost:8080/",
          "height": 140
        },
        "id": "i0FtRXfavDwB",
        "outputId": "84b87e41-34dc-4862-da40-812948f3f259"
      },
      "id": "i0FtRXfavDwB",
      "execution_count": 232,
      "outputs": [
        {
          "output_type": "execute_result",
          "data": {
            "text/plain": [
              "'**Naive Bayes:**\\n- **Dataset Asli:** Akurasi sebesar 89.94%\\n- **Dataset dengan Fitur Terpilih:** Akurasi sebesar 89.94%\\n- Presisi (kelas 1): Asli: 0.48, Fitur Terpilih: 0.48\\n- Recall (kelas 1): Asli: 0.75, Fitur Terpilih: 0.75\\n- F1-score (kelas 1): Asli: 0.59, Fitur Terpilih: 0.59\\n**K-NN:**\\n- **Dataset Asli:** Akurasi sebesar 90.53%\\n- **Dataset dengan Fitur Terpilih:** Akurasi sebesar 92.90%\\n- Presisi (kelas 1): Asli: 0.00, Fitur Terpilih: 0.70\\n- Recall (kelas 1): Asli: 0.00, Fitur Terpilih: 0.44\\n- F1-score (kelas 1): Asli: 0.00, Fitur Terpilih: 0.54\\n**Decision Tree:**\\n- **Dataset Asli:** Akurasi sebesar 91.72%\\n- **Dataset dengan Fitur Terpilih:** Akurasi sebesar 92.90%\\n- Presisi (kelas 1): Asli: 0.58, Fitur Terpilih: 0.70\\n- Recall (kelas 1): Asli: 0.44, Fitur Terpilih: 0.44\\n- F1-score (kelas 1): Asli: 0.50, Fitur Terpilih: 0.54\\n### Analisis Cross-Validation\\n\\n**Naive Bayes:**\\n- **Dataset Asli:** Skor CV rata-rata: 0.7415 ± 0.3521\\n- **Dataset dengan Fitur Terpilih:** Skor CV rata-rata: 0.9262 ± 0.0242\\n**K-NN:**\\n- **Dataset Asli:** Skor CV rata-rata: 0.9362 ± 0.0004\\n- **Dataset dengan Fitur Terpilih:** Skor CV rata-rata: 0.9541 ± 0.0172\\n**Decision Tree:**\\n- **Dataset Asli:** Skor CV rata-rata: 0.9389 ± 0.0243\\n- **Dataset dengan Fitur Terpilih:** Skor CV rata-rata: 0.9593 ± 0.0186\\n'"
            ],
            "application/vnd.google.colaboratory.intrinsic+json": {
              "type": "string"
            }
          },
          "metadata": {},
          "execution_count": 232
        }
      ]
    }
  ],
  "metadata": {
    "kernelspec": {
      "display_name": "Python 3 (ipykernel)",
      "language": "python",
      "name": "python3"
    },
    "language_info": {
      "codemirror_mode": {
        "name": "ipython",
        "version": 3
      },
      "file_extension": ".py",
      "mimetype": "text/x-python",
      "name": "python",
      "nbconvert_exporter": "python",
      "pygments_lexer": "ipython3",
      "version": "3.12.2"
    },
    "colab": {
      "provenance": []
    }
  },
  "nbformat": 4,
  "nbformat_minor": 5
}