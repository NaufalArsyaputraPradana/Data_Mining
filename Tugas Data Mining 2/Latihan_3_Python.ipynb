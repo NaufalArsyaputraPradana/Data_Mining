{
  "cells": [
    {
      "cell_type": "markdown",
      "metadata": {
        "id": "ILd7Lw8uEodG"
      },
      "source": [
        "# Python Basic 3\n",
        "Functions, tuples, dictionaries, and data processing\n",
        "\n",
        "Referensi Tambahan:\n",
        "- https://docs.python.org/3.8/\n",
        "- https://docs.python.org/id/3.8/tutorial/\n",
        "\n",
        "\n",
        "## Materi\n",
        "\n",
        "- defining and using functions;\n",
        "- different ways of passing arguments;\n",
        "- name scopes;\n",
        "- tuples and dictionaries;\n",
        "- data processing."
      ]
    },
    {
      "cell_type": "markdown",
      "metadata": {
        "id": "Xsl4JSdKEodJ"
      },
      "source": [
        "\n",
        "\n"
      ]
    },
    {
      "cell_type": "markdown",
      "metadata": {
        "id": "uhl1ywYFEodK"
      },
      "source": [
        "# Function\n",
        "![function.png](attachment:function.png)\n",
        "- when you invoke a function, Python remembers the place where it happened and jumps into the invoked function;\n",
        "- the body of the function is then executed;\n",
        "- reaching the end of the function forces Python to return to the place directly after the point of invocation."
      ]
    },
    {
      "cell_type": "code",
      "execution_count": 1,
      "metadata": {
        "colab": {
          "base_uri": "https://localhost:8080/"
        },
        "id": "SR0zBMyTEodL",
        "outputId": "cc991c52-4ade-4029-e45a-86ed88cab883"
      },
      "outputs": [
        {
          "output_type": "stream",
          "name": "stdout",
          "text": [
            "Angka 1 :\n",
            "3\n",
            "3\n",
            "Angka 2 :\n",
            "4\n",
            "4\n",
            "Angka 3 :\n",
            "5\n",
            "5\n"
          ]
        }
      ],
      "source": [
        "# Motivasi function adalah perulangan kode\n",
        "\n",
        "print(\"Angka 1 :\")\n",
        "a = int(input())\n",
        "print(a)\n",
        "\n",
        "print(\"Angka 2 :\")\n",
        "b = int(input())\n",
        "print(b)\n",
        "\n",
        "print(\"Angka 3 :\")\n",
        "c = int(input())\n",
        "print(c)"
      ]
    },
    {
      "cell_type": "markdown",
      "metadata": {
        "id": "A8_RAH8uEodN"
      },
      "source": [
        "Sintaks Function:\n",
        "\n",
        "```python\n",
        "def functionName():\n",
        "    functionBody\n",
        "```"
      ]
    },
    {
      "cell_type": "code",
      "execution_count": 2,
      "metadata": {
        "colab": {
          "base_uri": "https://localhost:8080/"
        },
        "id": "ElFdlRMWEodN",
        "outputId": "1edb02bc-e406-41da-9292-bcbf4976444c"
      },
      "outputs": [
        {
          "output_type": "stream",
          "name": "stdout",
          "text": [
            "Start disini... \n",
            "Input Angka :\n",
            "1\n",
            "2\n",
            "1\n",
            "Input Angka :\n",
            "2\n",
            "Input Angka :\n",
            "3\n",
            "3\n",
            "Stop disini... \n"
          ]
        }
      ],
      "source": [
        "def inputAngka():\n",
        "    print(\"Input Angka :\")\n",
        "    a = int(input())\n",
        "    print(a)\n",
        "\n",
        "print(\"Start disini... \")\n",
        "\n",
        "inputAngka()\n",
        "inputAngka()\n",
        "inputAngka()\n",
        "\n",
        "print(\"Stop disini... \")"
      ]
    },
    {
      "cell_type": "markdown",
      "metadata": {
        "id": "GCypvID7EodO"
      },
      "source": [
        "### Parametrized functions"
      ]
    },
    {
      "cell_type": "code",
      "execution_count": 3,
      "metadata": {
        "colab": {
          "base_uri": "https://localhost:8080/"
        },
        "id": "fh8kNY82EodO",
        "outputId": "575d2d13-d408-4bf6-c449-a1390b262df6"
      },
      "outputs": [
        {
          "output_type": "stream",
          "name": "stdout",
          "text": [
            "Pesan  hallo\n",
            "Pesan  namanya siapa ?\n"
          ]
        }
      ],
      "source": [
        "def pesan(m):\n",
        "    print(\"Pesan \",m.lower())\n",
        "\n",
        "pesan(\"Hallo\")\n",
        "pesan(\"Namanya siapa ?\")"
      ]
    },
    {
      "cell_type": "code",
      "execution_count": 4,
      "metadata": {
        "colab": {
          "base_uri": "https://localhost:8080/"
        },
        "id": "KZWZ9CqqEodP",
        "outputId": "e4cdb6c4-ff68-490e-f83e-d4ad9c5e5829"
      },
      "outputs": [
        {
          "output_type": "stream",
          "name": "stdout",
          "text": [
            "Nama :  Arsya No Hp :  123\n",
            "Nama :  Arsya No Hp :  0817244\n"
          ]
        }
      ],
      "source": [
        "def pesan(nama, nohp):\n",
        "    print(\"Nama : \",nama, \"No Hp : \",nohp)\n",
        "\n",
        "pesan(\"Arsya\", 123)\n",
        "pesan(\"Arsya\", \"0817244\")"
      ]
    },
    {
      "cell_type": "code",
      "execution_count": 5,
      "metadata": {
        "colab": {
          "base_uri": "https://localhost:8080/"
        },
        "id": "LZ367jGqEodP",
        "outputId": "9d4de5de-8498-4df0-f361-f372b3426f48"
      },
      "outputs": [
        {
          "output_type": "stream",
          "name": "stdout",
          "text": [
            "Arsya Pradana 30.5\n"
          ]
        }
      ],
      "source": [
        "def tambahUsia(nama, umur):\n",
        "    umur = umur + 0.5\n",
        "    print(nama, umur)\n",
        "\n",
        "tambahUsia(\"Arsya Pradana\", 30)"
      ]
    },
    {
      "cell_type": "markdown",
      "metadata": {
        "id": "w5vfYIgPEodP"
      },
      "source": [
        "### Posisi Parameter\n",
        "\n"
      ]
    },
    {
      "cell_type": "code",
      "execution_count": 6,
      "metadata": {
        "colab": {
          "base_uri": "https://localhost:8080/"
        },
        "id": "Olg7smMTEodQ",
        "outputId": "bb98417c-ada1-4b7f-b0b0-eba761d05e26"
      },
      "outputs": [
        {
          "output_type": "stream",
          "name": "stdout",
          "text": [
            "Hallo namanya adalah :  Naufal Arsya\n",
            "Hallo namanya adalah :  Arsya Pradana\n"
          ]
        }
      ],
      "source": [
        "def perkenalan(namaDepan, namaBelakang):\n",
        "    print(\"Hallo namanya adalah : \", namaDepan, namaBelakang)\n",
        "\n",
        "perkenalan(\"Naufal\",\"Arsya\")\n",
        "perkenalan(\"Arsya\",\"Pradana\")"
      ]
    },
    {
      "cell_type": "code",
      "execution_count": 7,
      "metadata": {
        "colab": {
          "base_uri": "https://localhost:8080/"
        },
        "id": "04z9NUZAEodQ",
        "outputId": "80a5fcbf-f6b3-4d12-cbdd-dcf5d860565d"
      },
      "outputs": [
        {
          "output_type": "stream",
          "name": "stdout",
          "text": [
            "Hallo namanya adalah :  arsya2 pradana2\n",
            "Hallo namanya adalah :  arsya2 naufal2\n"
          ]
        }
      ],
      "source": [
        "perkenalan(namaDepan = \"arsya2\", namaBelakang = \"pradana2\")\n",
        "perkenalan(namaBelakang = \"naufal2\", namaDepan = \"arsya2\")"
      ]
    },
    {
      "cell_type": "code",
      "execution_count": 8,
      "metadata": {
        "colab": {
          "base_uri": "https://localhost:8080/"
        },
        "id": "hfVVKNi0EodQ",
        "outputId": "93ca20a8-ccc2-474f-da61-747b474fd925"
      },
      "outputs": [
        {
          "output_type": "stream",
          "name": "stdout",
          "text": [
            "5 + 5 + 4 = 14\n"
          ]
        }
      ],
      "source": [
        "def jumlah(a, b, c):\n",
        "    print(a, \"+\", b, \"+\", c, \"=\", a + b + c)\n",
        "\n",
        "jumlah(5,5,4)"
      ]
    },
    {
      "cell_type": "markdown",
      "metadata": {
        "id": "ldlsoZ4HEodR"
      },
      "source": [
        "## Default parameter"
      ]
    },
    {
      "cell_type": "code",
      "execution_count": 10,
      "metadata": {
        "colab": {
          "base_uri": "https://localhost:8080/"
        },
        "id": "yGKvZS5NEodR",
        "outputId": "f721f7c2-2f29-4789-ab6a-2d7fa2a51c63"
      },
      "outputs": [
        {
          "output_type": "stream",
          "name": "stdout",
          "text": [
            "Hello, my name is Arsya Smith\n",
            "Hello, my name is Arsya Pradana\n",
            "Hello, my name is Arsya Pradana\n"
          ]
        }
      ],
      "source": [
        "def introduction(firstName=\"John\",lastName=\"Smith\"):\n",
        "    print(\"Hello, my name is\", firstName, lastName)\n",
        "\n",
        "#Call the Function here\n",
        "introduction(firstName=\"Arsya\")\n",
        "introduction(firstName=\"Arsya\", lastName=\"Pradana\")\n",
        "introduction(\"Arsya\", lastName=\"Pradana\")"
      ]
    },
    {
      "cell_type": "code",
      "execution_count": 11,
      "metadata": {
        "colab": {
          "base_uri": "https://localhost:8080/"
        },
        "id": "S-hAh8O7EodR",
        "outputId": "2f20f2d4-9859-4e18-af23-5ce47402b2df"
      },
      "outputs": [
        {
          "output_type": "stream",
          "name": "stdout",
          "text": [
            "Hello, my name is Arsya alex Pradana\n"
          ]
        }
      ],
      "source": [
        "def introductionLengkap(firstName, lastName, middleName=\"Guntur\"):\n",
        "    print(\"Hello, my name is\", firstName, middleName, lastName)\n",
        "\n",
        "#Call the Function here\n",
        "introductionLengkap(firstName=\"Arsya\", lastName=\"Pradana\", middleName=\"alex\")"
      ]
    },
    {
      "cell_type": "markdown",
      "metadata": {
        "id": "CSwHrztpEodS"
      },
      "source": [
        "## Function dengan Return"
      ]
    },
    {
      "cell_type": "code",
      "execution_count": 12,
      "metadata": {
        "colab": {
          "base_uri": "https://localhost:8080/"
        },
        "id": "vbyenbB1EodS",
        "outputId": "a674ab88-7c31-42b4-e041-ab726515c58d"
      },
      "outputs": [
        {
          "output_type": "stream",
          "name": "stdout",
          "text": [
            "113.09733552923255\n",
            "25.0\n"
          ]
        }
      ],
      "source": [
        "def hitungLuasLingkaran(r):\n",
        "    import math\n",
        "    pi = math.pi\n",
        "    luas = pi * r * r\n",
        "    return luas\n",
        "\n",
        "# buat sebuah fungsi untuk menghitung luas segitiga\n",
        "def hitungLuasSegitiga(a,t):\n",
        "    luas = 0.5 * a * t\n",
        "    return luas\n",
        "\n",
        "\n",
        "x = hitungLuasLingkaran(6)\n",
        "y = hitungLuasSegitiga(5,10)\n",
        "\n",
        "print(x)\n",
        "print(y)"
      ]
    },
    {
      "cell_type": "code",
      "execution_count": 13,
      "metadata": {
        "colab": {
          "base_uri": "https://localhost:8080/"
        },
        "id": "iZzFIy_3EodS",
        "outputId": "64c50a9b-ceec-4a80-cb06-996ef68316d1"
      },
      "outputs": [
        {
          "output_type": "stream",
          "name": "stdout",
          "text": [
            "This Lesson is interesting!\n",
            "'Boredom Mode' ON.\n",
            "123\n",
            "test\n"
          ]
        }
      ],
      "source": [
        "def boringFunction():\n",
        "    print(\"'Boredom Mode' ON.\")\n",
        "    return 123\n",
        "\n",
        "print(\"This Lesson is interesting!\")\n",
        "x = boringFunction()\n",
        "print(x)\n",
        "print(\"test\")"
      ]
    },
    {
      "cell_type": "code",
      "execution_count": 14,
      "metadata": {
        "colab": {
          "base_uri": "https://localhost:8080/"
        },
        "id": "Xabh24rsEodT",
        "outputId": "80ce170f-995a-4743-867a-ef5d9c09b358"
      },
      "outputs": [
        {
          "output_type": "stream",
          "name": "stdout",
          "text": [
            "7\n"
          ]
        }
      ],
      "source": [
        "def jumlah(a,b):\n",
        "    c = a + b\n",
        "    return c\n",
        "\n",
        "a = jumlah(3,4)\n",
        "print(a)"
      ]
    },
    {
      "cell_type": "code",
      "execution_count": 15,
      "metadata": {
        "colab": {
          "base_uri": "https://localhost:8080/"
        },
        "id": "jnCtdcpsEodT",
        "outputId": "ad3922f5-7484-4d5c-fe96-c309ce011afc"
      },
      "outputs": [
        {
          "output_type": "stream",
          "name": "stdout",
          "text": [
            "True\n",
            "None\n"
          ]
        }
      ],
      "source": [
        "def strangeFunction(n):\n",
        "    if(n % 2 == 0):\n",
        "        return True\n",
        "\n",
        "#Call the Function here\n",
        "\n",
        "print(strangeFunction(4))\n",
        "print(strangeFunction(3))"
      ]
    },
    {
      "cell_type": "code",
      "execution_count": 16,
      "metadata": {
        "colab": {
          "base_uri": "https://localhost:8080/"
        },
        "id": "HKobfEa5EodT",
        "outputId": "9b6d500b-05fa-48db-d658-13446aa3dcc3"
      },
      "outputs": [
        {
          "output_type": "stream",
          "name": "stdout",
          "text": [
            "10\n"
          ]
        }
      ],
      "source": [
        "def sumOfList(lst):\n",
        "    sum = 0\n",
        "\n",
        "    for elem in lst:\n",
        "        sum += elem\n",
        "\n",
        "    return sum\n",
        "\n",
        "#Call the Function here\n",
        "x = sumOfList([2,2,2,2,2])\n",
        "print(x)"
      ]
    },
    {
      "cell_type": "code",
      "execution_count": 17,
      "metadata": {
        "colab": {
          "base_uri": "https://localhost:8080/"
        },
        "id": "otJJ0WxxEodT",
        "outputId": "fc53a884-1912-4ef8-9456-99604823f8c5"
      },
      "outputs": [
        {
          "output_type": "stream",
          "name": "stdout",
          "text": [
            "Insert 0\n",
            "[0]\n",
            "Insert 1\n",
            "[1, 0]\n",
            "Insert 2\n",
            "[2, 1, 0]\n",
            "Insert 3\n",
            "[3, 2, 1, 0]\n",
            "Insert 4\n",
            "[4, 3, 2, 1, 0]\n",
            "Insert 5\n",
            "[5, 4, 3, 2, 1, 0]\n",
            "Insert 6\n",
            "[6, 5, 4, 3, 2, 1, 0]\n",
            "Insert 7\n",
            "[7, 6, 5, 4, 3, 2, 1, 0]\n",
            "Insert 8\n",
            "[8, 7, 6, 5, 4, 3, 2, 1, 0]\n",
            "Insert 9\n",
            "[9, 8, 7, 6, 5, 4, 3, 2, 1, 0]\n",
            "Hasil :  [9, 8, 7, 6, 5, 4, 3, 2, 1, 0]\n"
          ]
        }
      ],
      "source": [
        "def strangeListFunction(n):\n",
        "    strangeList = []\n",
        "\n",
        "    for i in range(0, n):\n",
        "        print(\"Insert\",i)\n",
        "        strangeList.insert(0, i)\n",
        "        print(strangeList)\n",
        "\n",
        "    return strangeList\n",
        "\n",
        "#Call the Function here\n",
        "print(\"Hasil : \", strangeListFunction(10))"
      ]
    },
    {
      "cell_type": "markdown",
      "metadata": {
        "id": "ww_c9WyNEodU"
      },
      "source": [
        "### Latihan\n",
        "\n",
        "Your task is to write and test a function which takes one argument (a year) and returns `True` if the year is a leap year, or `False` otherwise.\n",
        "\n",
        "The seed of the function is already sown in the skeleton code in the editor.\n",
        "\n",
        "Note: we've also prepared a short testing code, which you can use to test your function.\n",
        "\n",
        "The code uses two lists - one with the test data, and the other containing the expected results. The code will tell you if any of your results are invalid.\n",
        "\n",
        "```python\n",
        "def isYearLeap(year):\n",
        "#\n",
        "# put your code here\n",
        "#\n",
        "\n",
        "testData = [1900, 2000, 2016, 1987]\n",
        "testResults = [False, True, True, False]\n",
        "for i in range(len(testData)):\n",
        "\tyr = testData[i]\n",
        "\tprint(yr,\"->\",end=\"\")\n",
        "\tresult = isYearLeap(yr)\n",
        "\tif result == testResults[i]:\n",
        "\t\tprint(\"OK\")\n",
        "\telse:\n",
        "\t\tprint(\"Failed\")\n",
        "        \n",
        "```\n"
      ]
    },
    {
      "cell_type": "code",
      "execution_count": 18,
      "metadata": {
        "colab": {
          "base_uri": "https://localhost:8080/"
        },
        "id": "SGmKhv_WEodU",
        "outputId": "33ae00a9-7419-4e2f-b61a-e5edf25b7327"
      },
      "outputs": [
        {
          "output_type": "stream",
          "name": "stdout",
          "text": [
            "1900 ->OK\n",
            "2000 ->OK\n",
            "2016 ->OK\n",
            "1987 ->OK\n",
            "2004 ->OK\n"
          ]
        }
      ],
      "source": [
        "# Function Test tahun Kabisat\n",
        "def isYearLeap(year):\n",
        "    if (year % 4) == 0:\n",
        "        if (year % 100) == 0:\n",
        "            if (year % 400) == 0:\n",
        "                return True\n",
        "            else:\n",
        "                return False\n",
        "        else:\n",
        "            return True\n",
        "    else:\n",
        "        return False\n",
        "\n",
        "testData = [1900, 2000, 2016, 1987,2004]\n",
        "testResults = [False, True, True, False, True]\n",
        "for i in range(len(testData)):\n",
        "    yr = testData[i]\n",
        "    print(yr,\"->\",end=\"\")\n",
        "    result = isYearLeap(yr)\n",
        "    if result == testResults[i]:\n",
        "        print(\"OK\")\n",
        "    else:\n",
        "        print(\"Failed\")"
      ]
    },
    {
      "cell_type": "markdown",
      "metadata": {
        "id": "RHfNsWX_EodU"
      },
      "source": [
        "## Scope in Function"
      ]
    },
    {
      "cell_type": "code",
      "execution_count": 19,
      "metadata": {
        "colab": {
          "base_uri": "https://localhost:8080/"
        },
        "id": "nCN2Js6tEodV",
        "outputId": "6ab9f77f-de87-4f89-d085-02a7df5fe45b"
      },
      "outputs": [
        {
          "output_type": "stream",
          "name": "stdout",
          "text": [
            "90\n",
            "120\n"
          ]
        }
      ],
      "source": [
        "def scopeTest():\n",
        "    print(a)\n",
        "    b = 120\n",
        "    print(b)\n",
        "\n",
        "#Call the Function here\n",
        "\n",
        "a = 90\n",
        "scopeTest()"
      ]
    },
    {
      "cell_type": "code",
      "execution_count": 20,
      "metadata": {
        "colab": {
          "base_uri": "https://localhost:8080/"
        },
        "id": "EwZUtJA-EodV",
        "outputId": "33aef92b-bbe4-4a3d-bbce-1008c6ebfeeb"
      },
      "outputs": [
        {
          "output_type": "stream",
          "name": "stdout",
          "text": [
            "Do I know that variable? 1\n",
            "1\n"
          ]
        }
      ],
      "source": [
        "def myFunction():\n",
        "    print(\"Do I know that variable?\", var)\n",
        "\n",
        "#Call the Function here\n",
        "var = 1\n",
        "myFunction()\n",
        "print(var)\n",
        "\n",
        "# The answer is: a variable existing outside a function\n",
        "# has a scope inside the functions' bodies."
      ]
    },
    {
      "cell_type": "code",
      "execution_count": 21,
      "metadata": {
        "colab": {
          "base_uri": "https://localhost:8080/"
        },
        "id": "OtSbJ47PEodV",
        "outputId": "c7fafe8d-530f-411c-8d79-92d59b1df8cb"
      },
      "outputs": [
        {
          "output_type": "stream",
          "name": "stdout",
          "text": [
            "Do I know that variable? 2\n",
            "2\n"
          ]
        }
      ],
      "source": [
        "def myFunction():\n",
        "    global var\n",
        "    var = 2\n",
        "    print(\"Do I know that variable?\", var)\n",
        "\n",
        "#Call the Function here\n",
        "var = 1\n",
        "myFunction()\n",
        "print(var)\n",
        "\n",
        "# There's a special Python method which can extend a variable's scope\n",
        "# in a way which includes the functions' bodies\n",
        "# (even if you want not only to read the values, but also to modify them)."
      ]
    },
    {
      "cell_type": "code",
      "execution_count": 22,
      "metadata": {
        "colab": {
          "base_uri": "https://localhost:8080/"
        },
        "id": "hk_G4nSAEodV",
        "outputId": "3f81f1e7-59d1-45c7-a752-18030a80efbf"
      },
      "outputs": [
        {
          "output_type": "stream",
          "name": "stdout",
          "text": [
            "I got 1\n",
            "I have 2\n",
            "1\n"
          ]
        }
      ],
      "source": [
        "def myFunction(n):\n",
        "    print(\"I got\", n)\n",
        "    n += 1\n",
        "    print(\"I have\", n)\n",
        "\n",
        "#Call the Function here\n",
        "var = 1\n",
        "myFunction(var)\n",
        "\n",
        "print(var)\n",
        "\n",
        "#changing the parameter's value doesn't propagate outside the function"
      ]
    },
    {
      "cell_type": "markdown",
      "metadata": {
        "id": "MsWVxNw6EodW"
      },
      "source": [
        "# Some Function Examples"
      ]
    },
    {
      "cell_type": "markdown",
      "metadata": {
        "id": "vKPXHqfDEodW"
      },
      "source": [
        "## BMI\n",
        "(Body Mass Index)"
      ]
    },
    {
      "cell_type": "code",
      "execution_count": 23,
      "metadata": {
        "colab": {
          "base_uri": "https://localhost:8080/"
        },
        "id": "Pak0vswQEodW",
        "outputId": "b6edf638-aa21-4987-d496-29e3f6061c88"
      },
      "outputs": [
        {
          "output_type": "stream",
          "name": "stdout",
          "text": [
            "22.758306781975424\n"
          ]
        }
      ],
      "source": [
        "def bmi(weight, height):\n",
        "    return weight / height ** 2\n",
        "\n",
        "print(bmi(65, 1.69))"
      ]
    },
    {
      "cell_type": "code",
      "execution_count": 24,
      "metadata": {
        "colab": {
          "base_uri": "https://localhost:8080/"
        },
        "id": "0NJp1jNMEodX",
        "outputId": "e69d5725-666a-4709-a13f-7abb735f2a68"
      },
      "outputs": [
        {
          "output_type": "stream",
          "name": "stdout",
          "text": [
            "24.508945765204302\n"
          ]
        }
      ],
      "source": [
        "def bmi(weight, height):\n",
        "    if height < 1.0 \\\n",
        "    or height > 2.5 \\\n",
        "    or weight < 20 \\\n",
        "    or weight > 200:\n",
        "        return None\n",
        "\n",
        "    return weight / height ** 2\n",
        "\n",
        "print(bmi(70, 1.69))"
      ]
    },
    {
      "cell_type": "markdown",
      "metadata": {
        "id": "rGtkwF6YEodX"
      },
      "source": [
        "## Segitiga"
      ]
    },
    {
      "cell_type": "code",
      "execution_count": 25,
      "metadata": {
        "colab": {
          "base_uri": "https://localhost:8080/"
        },
        "id": "TSB-7G7oEodX",
        "outputId": "2281520e-f610-4239-d6e6-59782fda0724"
      },
      "outputs": [
        {
          "output_type": "stream",
          "name": "stdout",
          "text": [
            "True\n",
            "True\n"
          ]
        }
      ],
      "source": [
        "def isItATriangle(a, b, c):\n",
        "    if a + b <= c:\n",
        "        return False\n",
        "    if b + c <= a:\n",
        "        return False\n",
        "    if c + a <= b:\n",
        "        return False\n",
        "\n",
        "    return True\n",
        "\n",
        "#Call the Function here\n",
        "print(isItATriangle(1,1,1))\n",
        "print(isItATriangle(1,2,2))"
      ]
    },
    {
      "cell_type": "code",
      "execution_count": 29,
      "metadata": {
        "colab": {
          "base_uri": "https://localhost:8080/"
        },
        "id": "YF35XDNLEodX",
        "outputId": "566a59c4-fdb0-4f84-ee3f-89105be9bc07"
      },
      "outputs": [
        {
          "output_type": "stream",
          "name": "stdout",
          "text": [
            "Enter the first side's length: 3\n",
            "Enter the second side's length: 3\n",
            "Enter the third side's length: 3\n",
            "Congratulations - it can be a triangle.\n"
          ]
        }
      ],
      "source": [
        "def isItATriangle(a, b, c):\n",
        "    return a + b > c and b + c > a and c + a > b\n",
        "\n",
        "a = float(input(\"Enter the first side's length: \"))\n",
        "b = float(input(\"Enter the second side's length: \"))\n",
        "c = float(input(\"Enter the third side's length: \"))\n",
        "\n",
        "if isItATriangle(a, b, c):\n",
        "    print(\"Congratulations - it can be a triangle.\")\n",
        "else:\n",
        "    print(\"Sorry, it won't be a triangle.\")"
      ]
    },
    {
      "cell_type": "markdown",
      "metadata": {
        "id": "XFyKYa5gEodX"
      },
      "source": [
        "## Faktorial"
      ]
    },
    {
      "cell_type": "code",
      "execution_count": 30,
      "metadata": {
        "colab": {
          "base_uri": "https://localhost:8080/"
        },
        "id": "HNn5haRtEodY",
        "outputId": "c8df6da1-0ace-4755-f89a-e63fe503f477"
      },
      "outputs": [
        {
          "output_type": "stream",
          "name": "stdout",
          "text": [
            "1 1\n",
            "2 2\n",
            "3 6\n",
            "4 24\n",
            "5 120\n",
            "6 720\n",
            "7 5040\n",
            "8 40320\n",
            "9 362880\n",
            "10 3628800\n",
            "11 39916800\n",
            "12 479001600\n",
            "13 6227020800\n",
            "14 87178291200\n"
          ]
        }
      ],
      "source": [
        "def factorialFun(n):\n",
        "    if n < 0:\n",
        "        return None\n",
        "    if n < 2:\n",
        "        return 1\n",
        "\n",
        "    product = 1\n",
        "    for i in range(2, n + 1):\n",
        "        product *= i\n",
        "    return product\n",
        "\n",
        "#Call the Function here\n",
        "for n in range(1, 15): # testing\n",
        "    print(n, factorialFun(n))"
      ]
    },
    {
      "cell_type": "markdown",
      "metadata": {
        "id": "WFLskIOwEodY"
      },
      "source": [
        "## Fibonacci"
      ]
    },
    {
      "cell_type": "code",
      "execution_count": 31,
      "metadata": {
        "colab": {
          "base_uri": "https://localhost:8080/"
        },
        "id": "55zcIbZ0EodY",
        "outputId": "72717bd8-6d28-4fdd-f645-5bea29ff031c"
      },
      "outputs": [
        {
          "output_type": "stream",
          "name": "stdout",
          "text": [
            "1 > 1\n",
            "2 > 1\n",
            "3 > 2\n",
            "4 > 3\n",
            "5 > 5\n",
            "6 > 8\n",
            "7 > 13\n",
            "8 > 21\n",
            "9 > 34\n"
          ]
        }
      ],
      "source": [
        "def fib(n):\n",
        "    if n < 1:\n",
        "         return None\n",
        "    if n < 3:\n",
        "        return 1\n",
        "\n",
        "    elem1 = elem2 = 1\n",
        "    sum = 0\n",
        "    for i in range(3, n + 1):\n",
        "        sum = elem1 + elem2\n",
        "        elem1, elem2 = elem2, sum\n",
        "    return sum\n",
        "\n",
        "#Call the Function here\n",
        "for n in range(1, 10): #testing\n",
        "    print(n, \">\", fib(n))"
      ]
    },
    {
      "cell_type": "markdown",
      "metadata": {
        "id": "AvIojMcNEodY"
      },
      "source": [
        "## Recursion"
      ]
    },
    {
      "cell_type": "code",
      "execution_count": 32,
      "metadata": {
        "colab": {
          "base_uri": "https://localhost:8080/"
        },
        "id": "3_d6RyjKEodZ",
        "outputId": "d8759b57-3ef3-4afe-ef92-de492ef241c5"
      },
      "outputs": [
        {
          "output_type": "stream",
          "name": "stdout",
          "text": [
            "1 -> 1\n",
            "2 -> 1\n",
            "3 -> 2\n",
            "4 -> 3\n",
            "5 -> 5\n",
            "6 -> 8\n",
            "7 -> 13\n",
            "8 -> 21\n",
            "9 -> 34\n",
            "56\n"
          ]
        }
      ],
      "source": [
        "#recursion 1\n",
        "def fib(n):\n",
        "    if n < 1:\n",
        "        return None\n",
        "    if n < 3:\n",
        "        return 1\n",
        "    return fib(n - 1) + fib(n - 2)\n",
        "\n",
        "for n in range(1, 10): # testing\n",
        "    print(n, \"->\", fib(n))\n",
        "\n",
        "#recursion 2\n",
        "\n",
        "def fun(a):\n",
        "    if a > 30:\n",
        "        return 3\n",
        "    else:\n",
        "        return a + fun(a + 3)\n",
        "\n",
        "\n",
        "print(fun(25))\n"
      ]
    },
    {
      "cell_type": "markdown",
      "metadata": {
        "id": "pjMKkZXBEodZ"
      },
      "source": [
        "#### Contoh Kasus Stop Word Removal"
      ]
    },
    {
      "cell_type": "code",
      "execution_count": 33,
      "metadata": {
        "colab": {
          "base_uri": "https://localhost:8080/"
        },
        "id": "MSTLu1HzEodZ",
        "outputId": "0f218d16-3855-4041-9359-e39623300a06"
      },
      "outputs": [
        {
          "output_type": "stream",
          "name": "stdout",
          "text": [
            "ibu pergi pasar bapak\n"
          ]
        }
      ],
      "source": [
        "kalimat = \"Ibu pergi ke pasar dengan Bapak\"\n",
        "stopw = ['ke','dengan','saya','dia']\n",
        "\n",
        "def removeStop(sentence):\n",
        "#     words = []\n",
        "    words = [word for word in sentence.split() if word not in stopw]\n",
        "#     for word in sentence.split():\n",
        "#         if word not in stopw:\n",
        "#             words.append(word)\n",
        "\n",
        "    return ' '.join(words)\n",
        "\n",
        "# print('ke' in kalimat.split())\n",
        "kalimat_stop = removeStop(kalimat.lower())\n",
        "\n",
        "print(kalimat_stop)\n",
        "# output kalimat_stop: Ibu pergi pasar Bapak\"\n",
        "\n"
      ]
    },
    {
      "cell_type": "markdown",
      "metadata": {
        "id": "495QolqbEodZ"
      },
      "source": [
        "# Tuples and Dictionaries"
      ]
    },
    {
      "cell_type": "markdown",
      "metadata": {
        "id": "bVe4sweoEodZ"
      },
      "source": [
        "##### List VS Tuple\n",
        "List datanya bisa dirubah selama eksekusi program, sifatnya bernama mutable\n",
        "Sebaliknya tuple tidak bisa, sifatnya dinamakan immutable. Persamaannya keduanya sama-sama bisa menyimpan banyak nilai sekaligus dalam satu tipe data (sequence type)"
      ]
    },
    {
      "cell_type": "markdown",
      "metadata": {
        "id": "neaeeC8yEodZ"
      },
      "source": [
        "## Tuples\n",
        "Tuples are ordered and unchangeable (immutable) collections of data. They can be thought of as immutable lists. They are written in round brackets:"
      ]
    },
    {
      "cell_type": "code",
      "execution_count": 34,
      "metadata": {
        "colab": {
          "base_uri": "https://localhost:8080/"
        },
        "id": "gFW1AfL2EodZ",
        "outputId": "7e721a34-bd32-4c53-e356-a9fc4b8f479f"
      },
      "outputs": [
        {
          "output_type": "stream",
          "name": "stdout",
          "text": [
            "(1, 2, True, 'a string', (3, 4), [5, 6], None)\n",
            "[1, 2, True, 'a string', (3, 4), [5, 6], None]\n"
          ]
        }
      ],
      "source": [
        "myTuple = (1, 2, True, \"a string\", (3, 4), [5, 6], None)\n",
        "#Print Function here\n",
        "print(myTuple)\n",
        "\n",
        "myList = [1, 2, True, \"a string\", (3, 4), [5, 6], None]\n",
        "#Print Function here\n",
        "print(myList)\n"
      ]
    },
    {
      "cell_type": "code",
      "execution_count": 35,
      "metadata": {
        "colab": {
          "base_uri": "https://localhost:8080/"
        },
        "id": "gIFdjKCbEoda",
        "outputId": "3c85f685-ce28-49c0-d59d-54a2ff10a021"
      },
      "outputs": [
        {
          "output_type": "stream",
          "name": "stdout",
          "text": [
            "(1, 2, 3, 4)\n",
            "(1.0, 0.5, 0.25, 0.124)\n"
          ]
        }
      ],
      "source": [
        "tup1 = (1,2,3,4)\n",
        "tup2 = 1.0, .5, .25, .124\n",
        "\n",
        "print(tup1)\n",
        "print(tup2)"
      ]
    },
    {
      "cell_type": "code",
      "execution_count": 36,
      "metadata": {
        "colab": {
          "base_uri": "https://localhost:8080/"
        },
        "id": "y879S1ISEoda",
        "outputId": "fc68207e-8876-4632-a6b3-3eacf131e2b7"
      },
      "outputs": [
        {
          "output_type": "stream",
          "name": "stdout",
          "text": [
            "<class 'tuple'>\n"
          ]
        }
      ],
      "source": [
        "emptyTuple = ()\n",
        "print(type(emptyTuple))"
      ]
    },
    {
      "cell_type": "code",
      "execution_count": 37,
      "metadata": {
        "colab": {
          "base_uri": "https://localhost:8080/"
        },
        "id": "wjpnHDYJEoda",
        "outputId": "9758e06f-670d-402a-dff5-05995433ad31"
      },
      "outputs": [
        {
          "output_type": "stream",
          "name": "stdout",
          "text": [
            "1\n",
            "1000\n",
            "(10, 100, 1000)\n",
            "(1, 10)\n",
            "1 10 100 1000 "
          ]
        }
      ],
      "source": [
        "myTuple = (1, 10, 100, 1000)\n",
        "\n",
        "print(myTuple[0])\n",
        "print(myTuple[-1])\n",
        "print(myTuple[1:])\n",
        "print(myTuple[:-2])\n",
        "\n",
        "for elem in myTuple:\n",
        "    print(elem, end = \" \")"
      ]
    },
    {
      "cell_type": "code",
      "execution_count": 38,
      "metadata": {
        "id": "xaRDVYeEEoda"
      },
      "outputs": [],
      "source": [
        "myTuple = (1, 10, 100, 1000)\n",
        "\n",
        "#Tuple operation ?\n",
        "\n",
        "# myTuple.append(10000)\n",
        "# del myTuple[0]\n",
        "# myTuple[1] = -10"
      ]
    },
    {
      "cell_type": "code",
      "execution_count": 39,
      "metadata": {
        "colab": {
          "base_uri": "https://localhost:8080/"
        },
        "id": "tdaynRvFEoda",
        "outputId": "4010855a-5487-40c1-ac33-22972dda969f"
      },
      "outputs": [
        {
          "output_type": "stream",
          "name": "stdout",
          "text": [
            "<class 'tuple'>\n",
            "1\n",
            "100\n",
            "(10, 100)\n",
            "(1,)\n"
          ]
        }
      ],
      "source": [
        "myTuple = (1, 10, 100)\n",
        "print(type(myTuple))\n",
        "\n",
        "#Tuple operation\n",
        "print(myTuple[0])\n",
        "print(myTuple[-1])\n",
        "print(myTuple[1:])\n",
        "print(myTuple[:-2])\n",
        "# Print Function here"
      ]
    },
    {
      "cell_type": "code",
      "execution_count": 40,
      "metadata": {
        "colab": {
          "base_uri": "https://localhost:8080/"
        },
        "id": "H0yFZGgzEodb",
        "outputId": "0ab2ed79-add4-45d0-af52-bffec16306e1"
      },
      "outputs": [
        {
          "output_type": "stream",
          "name": "stdout",
          "text": [
            "1\n",
            "2\n",
            "3\n",
            "False\n",
            "True\n",
            "4\n",
            "(1, 2, 3, 1, 2, 3, 4)\n",
            "(1, 2, 3, 5, 1, 2, 3, 5)\n"
          ]
        }
      ],
      "source": [
        "# Example 1\n",
        "t1 = (1, 2, 3)\n",
        "for elem in t1:\n",
        "    print(elem)\n",
        "\n",
        "# Example 2\n",
        "t2 = (1, 2, 3, 4)\n",
        "print(5 in t2)\n",
        "print(5 not in t2)\n",
        "\n",
        "# Example 3\n",
        "t3 = (1, 2, 3, 5)\n",
        "print(len(t3))\n",
        "\n",
        "# Example 4\n",
        "t4 = t1 + t2\n",
        "t5 = t3 * 2\n",
        "\n",
        "print(t4)\n",
        "print(t5)"
      ]
    },
    {
      "cell_type": "markdown",
      "metadata": {
        "id": "OwqleofQEodb"
      },
      "source": [
        "## Dictionaries"
      ]
    },
    {
      "cell_type": "markdown",
      "metadata": {
        "id": "N4nQC4dYEodb"
      },
      "source": [
        "In Python's world, the word you look for is named a key. The word you get from the dictionary is called a value.\n",
        "\n",
        "Dictionaries are unordered*, changeable (mutable), and indexed collections of data. (*In Python 3.6x dictionaries have become ordered by default.\n",
        "\n",
        "This means that a dictionary is a set of key-value pairs. Note:\n",
        "\n",
        "- each key must be unique - it's not possible to have more than one key of the same value;\n",
        "- a key may be data of any type: it may be a number (integer or float), or even a string;\n",
        "- a dictionary is not a list - a list contains a set of numbered values, while a dictionary holds pairs of values;\n",
        "- the len() function works for dictionaries, too - it returns the numbers of key-value elements in the dictionary;\n",
        "- a dictionary is a one-way tool - if you have an English-French dictionary, you can look for French equivalents of English terms, but not vice versa."
      ]
    },
    {
      "cell_type": "code",
      "execution_count": 41,
      "metadata": {
        "colab": {
          "base_uri": "https://localhost:8080/"
        },
        "id": "88uhW1AcEodb",
        "outputId": "c283989b-701f-4c5f-b302-c38f656e6880"
      },
      "outputs": [
        {
          "output_type": "stream",
          "name": "stdout",
          "text": [
            "\n",
            "{'boss': 5551234567, 'Suzy': [22657854310, 52852352]}\n",
            "{}\n"
          ]
        }
      ],
      "source": [
        "kamus = {\"cat\" : \"chat\", \"dog\" : \"chien\", \"horse\" : \"cheval\"}\n",
        "phoneNumbers = {'boss' : 5551234567, 'Suzy' : [22657854310,52852352]}\n",
        "emptyDictionary = {}\n",
        "\n",
        "print()\n",
        "print(phoneNumbers)\n",
        "print(emptyDictionary)"
      ]
    },
    {
      "cell_type": "code",
      "execution_count": 42,
      "metadata": {
        "colab": {
          "base_uri": "https://localhost:8080/"
        },
        "id": "BQOOy2D3Eodb",
        "outputId": "55d04464-e325-4030-dc9a-f66f84186deb"
      },
      "outputs": [
        {
          "output_type": "stream",
          "name": "stdout",
          "text": [
            "chat\n",
            "[22657854310, 52852352]\n",
            "22657854310\n"
          ]
        }
      ],
      "source": [
        "print(kamus['cat'])\n",
        "print(phoneNumbers['Suzy'])\n",
        "print(phoneNumbers['Suzy'][0])"
      ]
    },
    {
      "cell_type": "code",
      "execution_count": 43,
      "metadata": {
        "colab": {
          "base_uri": "https://localhost:8080/"
        },
        "id": "ZskztCUmEodc",
        "outputId": "d0d1d8eb-3d94-4024-fefc-f9bff4565b69"
      },
      "outputs": [
        {
          "output_type": "stream",
          "name": "stdout",
          "text": [
            "horse cheval\n",
            "cat chat\n",
            "dog chien\n"
          ]
        }
      ],
      "source": [
        "dict = {\"horse\" : \"cheval\", \"cat\" : \"chat\", \"dog\" : \"chien\"}\n",
        "\n",
        "for key in dict.keys():\n",
        "    print(key,dict[key])"
      ]
    },
    {
      "cell_type": "code",
      "execution_count": 44,
      "metadata": {
        "colab": {
          "base_uri": "https://localhost:8080/"
        },
        "id": "f-vclx4rEodc",
        "outputId": "fa687bba-19a8-4bb5-afcc-46b3b01c2176"
      },
      "outputs": [
        {
          "output_type": "stream",
          "name": "stdout",
          "text": [
            "cat -> chat\n",
            "dog -> chien\n",
            "horse -> cheval\n"
          ]
        }
      ],
      "source": [
        "for key in sorted(dict.keys()):\n",
        "    print(key, \"->\", dict[key])"
      ]
    },
    {
      "cell_type": "markdown",
      "metadata": {
        "id": "tKjzssguEodc"
      },
      "source": [
        "### items and values"
      ]
    },
    {
      "cell_type": "code",
      "execution_count": 45,
      "metadata": {
        "colab": {
          "base_uri": "https://localhost:8080/"
        },
        "id": "JF-k9rhdEodc",
        "outputId": "0b4637d7-5b08-49a0-cbcc-1ff77a06429f"
      },
      "outputs": [
        {
          "output_type": "stream",
          "name": "stdout",
          "text": [
            "cat -> chat\n",
            "dog -> chien\n",
            "horse -> cheval\n"
          ]
        }
      ],
      "source": [
        "dict = {\"cat\" : \"chat\", \"dog\" : \"chien\", \"horse\" : \"cheval\"}\n",
        "\n",
        "for english, french in dict.items():\n",
        "    print(english, \"->\", french)"
      ]
    },
    {
      "cell_type": "code",
      "execution_count": 46,
      "metadata": {
        "colab": {
          "base_uri": "https://localhost:8080/"
        },
        "id": "OeWYkYFfEodc",
        "outputId": "262e19e6-ce41-4791-c296-ba62d2b43d20"
      },
      "outputs": [
        {
          "output_type": "stream",
          "name": "stdout",
          "text": [
            "chat\n",
            "chien\n",
            "cheval\n"
          ]
        }
      ],
      "source": [
        "dict = {\"cat\" : \"chat\", \"dog\" : \"chien\", \"horse\" : \"cheval\"}\n",
        "\n",
        "for french in dict.values():\n",
        "    print(french)"
      ]
    },
    {
      "cell_type": "code",
      "execution_count": 47,
      "metadata": {
        "colab": {
          "base_uri": "https://localhost:8080/"
        },
        "id": "U_Grf_qmEodc",
        "outputId": "7cd48a91-ef9b-4ba5-9aae-cfcf0ee54893"
      },
      "outputs": [
        {
          "output_type": "stream",
          "name": "stdout",
          "text": [
            "cat -> chat\n",
            "lion is not in dictionary\n",
            "horse -> cheval\n",
            "mouse is not in dictionary\n"
          ]
        }
      ],
      "source": [
        "dict = {\"cat\" : \"chat\", \"dog\" : \"chien\", \"horse\" : \"cheval\"}\n",
        "words = ['cat', 'lion', 'horse','mouse']\n",
        "\n",
        "for word in words:\n",
        "    if word in dict:\n",
        "        print(word, \"->\", dict[word])\n",
        "    else:\n",
        "        print(word, \"is not in dictionary\")"
      ]
    },
    {
      "cell_type": "markdown",
      "metadata": {
        "id": "hEQ-kzKlEodd"
      },
      "source": [
        "### Replace"
      ]
    },
    {
      "cell_type": "code",
      "execution_count": 48,
      "metadata": {
        "colab": {
          "base_uri": "https://localhost:8080/"
        },
        "id": "QVqQCyLmEodd",
        "outputId": "490977ee-530d-4ced-90ff-c2fd94f2377f"
      },
      "outputs": [
        {
          "output_type": "stream",
          "name": "stdout",
          "text": [
            "{'cat': 'minou', 'dog': 'chien', 'horse': 'cheval'}\n"
          ]
        }
      ],
      "source": [
        "dict = {\"cat\" : \"chat\", \"dog\" : \"chien\", \"horse\" : \"cheval\"}\n",
        "\n",
        "dict['cat'] = 'minou'\n",
        "print(dict)"
      ]
    },
    {
      "cell_type": "markdown",
      "metadata": {
        "id": "JJIMfYvzEodd"
      },
      "source": [
        "### Adding new key"
      ]
    },
    {
      "cell_type": "code",
      "execution_count": 49,
      "metadata": {
        "colab": {
          "base_uri": "https://localhost:8080/"
        },
        "id": "i7Sg9NC6Eodd",
        "outputId": "45975953-d4c3-4375-ae15-b016bff5431a"
      },
      "outputs": [
        {
          "output_type": "stream",
          "name": "stdout",
          "text": [
            "{'cat': 'chat', 'dog': 'chien', 'horse': 'cheval', 'swan': 'cygne', 'animal': 'hewan'}\n",
            "animal hewan\n",
            "cat chat\n",
            "dog chien\n",
            "horse cheval\n",
            "swan cygne\n"
          ]
        }
      ],
      "source": [
        "dict = {\"cat\" : \"chat\", \"dog\" : \"chien\", \"horse\" : \"cheval\"}\n",
        "\n",
        "dict['swan'] = 'cygne'\n",
        "dict['animal'] = 'hewan'\n",
        "print(dict)\n",
        "\n",
        "for key in sorted(dict.keys()):\n",
        "    print(key,dict[key])"
      ]
    },
    {
      "cell_type": "markdown",
      "metadata": {
        "id": "9X4LjJCeEode"
      },
      "source": [
        "### Tuples and Dictionaries work Together\n",
        "\n"
      ]
    },
    {
      "cell_type": "markdown",
      "metadata": {
        "id": "NAQrXmU5Eode"
      },
      "source": [
        "- line 1: create an empty dictionary for the input data; the student's name is used as a key, while all the associated scores are stored in a tuple (the tuple may be a dictionary value - that's not a problem at all)\n",
        "- line 3: enter an \"infinite\" loop (don't worry, it'll break at the right moment)\n",
        "- line 4: read the student's name here;\n",
        "- line 5-6: if the name is exit, leave the loop;\n",
        "- line 8: ask for one of the student's scores (an integer from the range 1-10)\n",
        "- line 10-11: if the student's name is already in the dictionary, lengthen the associated tuple with the new score (note the += operator)\n",
        "- line 12-13: if this is a new student (unknown to the dictionary), create a new entry - its value is a one-element tuple containing the entered score;\n",
        "- line 15: iterate through the sorted students' names;\n",
        "- line 16-17: initialize the data needed to evaluate the average (sum and counter)\n",
        "- line 18-20: we iterate through the tuple, taking all the subsequent scores and updating the sum, together with the counter;\n",
        "- line 21: evaluate and print the student's name and average score."
      ]
    },
    {
      "cell_type": "code",
      "execution_count": 50,
      "metadata": {
        "colab": {
          "base_uri": "https://localhost:8080/"
        },
        "id": "fOPqn3JmEode",
        "outputId": "09f7f41a-3ee1-4e81-e6da-a3c89b7fbd16"
      },
      "outputs": [
        {
          "output_type": "stream",
          "name": "stdout",
          "text": [
            "Enter the student's name (or type exit to stop): Arsya\n",
            "Enter the student's score (0-10): 10\n",
            "Enter the student's name (or type exit to stop): Pradana\n",
            "Enter the student's score (0-10): 9\n",
            "Enter the student's name (or type exit to stop): exit\n",
            "{'Arsya': (10,), 'Pradana': (9,)}\n",
            "Arsya : 10.0\n",
            "Pradana : 9.0\n"
          ]
        }
      ],
      "source": [
        "schoolClass = {}\n",
        "\n",
        "while True:\n",
        "    name = input(\"Enter the student's name (or type exit to stop): \")\n",
        "    if name == 'exit':\n",
        "        break\n",
        "\n",
        "    score = int(input(\"Enter the student's score (0-10): \"))\n",
        "\n",
        "    if name in schoolClass:\n",
        "        schoolClass[name] += (score,)\n",
        "    else:\n",
        "        schoolClass[name] = (score,)\n",
        "\n",
        "print(schoolClass)\n",
        "\n",
        "for name in sorted(schoolClass.keys()):\n",
        "    sum = 0\n",
        "    counter = 0\n",
        "    for score in schoolClass[name]:\n",
        "        sum += score\n",
        "        counter += 1\n",
        "    print(name, \":\", sum / counter)"
      ]
    },
    {
      "cell_type": "code",
      "execution_count": 51,
      "metadata": {
        "colab": {
          "base_uri": "https://localhost:8080/"
        },
        "id": "pyPC0pUCEodf",
        "outputId": "af4e77ad-2073-4e44-ead9-24a3100ac801"
      },
      "outputs": [
        {
          "output_type": "stream",
          "name": "stdout",
          "text": [
            "{'ibu': 3, 'pergi': 1, 'pasar': 1, 'bapak': 1}\n"
          ]
        }
      ],
      "source": [
        "def tf(sentence):\n",
        "    d = {}\n",
        "    for word in sentence.split():\n",
        "        if word not in d:\n",
        "            d[word] = 1\n",
        "        else:\n",
        "            d[word] += 1\n",
        "    return d\n",
        "\n",
        "kalimat = \"Ibu pergi ke pasar dengan Bapak dan Ibu Ibu lain\"\n",
        "stopw.append('dan')\n",
        "stopw.append('lain')\n",
        "kalimat_stop = removeStop(kalimat.lower())\n",
        "tf_kalimat = tf(kalimat_stop)\n",
        "\n",
        "print(tf_kalimat)"
      ]
    },
    {
      "cell_type": "markdown",
      "metadata": {
        "id": "ztmZaGtHEodf"
      },
      "source": [
        "# Summary\n",
        "\n",
        "1. Dictionaries are unordered*, changeable (mutable), and indexed collections of data. (*In Python 3.6x dictionaries have become ordered by default.\n",
        "\n",
        "Each dictionary is a set of key : value pairs. You can create it by using the following syntax:\n",
        "\n",
        "```python            \n",
        "myDictionary = {\n",
        "    key1 : value1,\n",
        "    key2 : value2,\n",
        "    key3 : value3,\n",
        "    }\n",
        "```\n",
        "2. If you want to access a dictionary item, you can do so by making a reference to its key inside a pair of square brackets (ex. 1) or by using the get() method (ex. 2):\n",
        "\n",
        "```python                                                                                         \n",
        "polEngDict = {\n",
        "    \"kwiat\" : \"flower\",\n",
        "    \"woda\"  : \"water\",\n",
        "    \"gleba\" : \"soil\"\n",
        "    }\n",
        "\n",
        "item1 = polEngDict[\"gleba\"]    # ex. 1\n",
        "print(item1)    # outputs: soil\n",
        "\n",
        "item2 = polEngDict.get(\"woda\")\n",
        "print(item2)    # outputs: water\n",
        "```\n",
        "3. If you want to change the value associated with a specific key, you can do so by referring to the item's key name in the following way:\n",
        "\n",
        "```python\n",
        "polEngDict = {\n",
        "    \"zamek\" : \"castle\",\n",
        "    \"woda\"  : \"water\",\n",
        "    \"gleba\" : \"soil\"\n",
        "    }\n",
        "\n",
        "polEngDict[\"zamek\"] = \"lock\"\n",
        "item = polEngDict[\"zamek\"]    # outputs: lock\n",
        "```\n",
        "4. To add or remove a key (and the associated value), use the following syntax:\n",
        "\n",
        "```python\n",
        "myPhonebook = {}    # an empty dictionary\n",
        "\n",
        "myPhonebook[\"Adam\"] = 3456783958    # create/add a key-value pair\n",
        "print(myPhonebook)    # outputs: {'Adam': 3456783958}\n",
        "\n",
        "del myPhonebook[\"Adam\"]\n",
        "print(myPhonebook)    # outputs: {}\n",
        "```\n",
        "\n",
        "You can also insert an item to a dictionary by using the update() method, and remove the last element by using the popitem() method, e.g.:\n",
        "\n",
        "```python\n",
        "polEngDict = {\"kwiat\" : \"flower\"}\n",
        "\n",
        "polEngDict = update(\"gleba\" : \"soil\")\n",
        "print(polEngDict)    # outputs: {'kwiat' : 'flower', 'gleba' : 'soil'}\n",
        "\n",
        "polEngDict.popitem()\n",
        "print(polEngDict)    # outputs: {'kwiat' : 'flower'}\n",
        "```\n",
        "\n",
        "5. You can use the for loop to loop through a dictionary, e.g.:\n",
        "\n",
        "```python\n",
        "polEngDict = {\n",
        "    \"zamek\" : \"castle\",\n",
        "    \"woda\"  : \"water\",\n",
        "    \"gleba\" : \"soil\"\n",
        "    }\n",
        "\n",
        "for item in polEngDict:\n",
        "    print(item)    # outputs: zamek\n",
        "                   #          woda\n",
        "                   #          gleba\n",
        "\n",
        "```\n",
        "\n",
        "\n",
        "\n",
        "6. If you want to loop through a dictionary's keys and values, you can use the items() method, e.g.:\n",
        "\n",
        "\n",
        "```python\n",
        "polEngDict = {\n",
        "    \"zamek\" : \"castle\",\n",
        "    \"woda\"  : \"water\",\n",
        "    \"gleba\" : \"soil\"\n",
        "    }\n",
        "\n",
        "for key, value in polEngDict.items():\n",
        "    print(\"Pol/Eng ->\", key, \":\", value)\n",
        "```\n",
        "\n",
        "\n",
        "7. To check if a given key exists in a dictionary, you can use the in keyword:\n",
        "\n",
        "```python\n",
        "polEngDict = {\n",
        "    \"zamek\" : \"castle\",\n",
        "    \"woda\"  : \"water\",\n",
        "    \"gleba\" : \"soil\"\n",
        "    }\n",
        "\n",
        "if \"zamek\" in polEngDict:\n",
        "    print(\"Yes\")\n",
        "else:\n",
        "    print(\"No\")\n",
        "```\n",
        "\n",
        "8. You can use the del keyword to remove a specific item, or delete a dictionary. To remove all the dictionary's items, you need to use the clear() method:\n",
        "\n",
        "```python\n",
        "polEngDict = {\n",
        "    \"zamek\" : \"castle\",\n",
        "    \"woda\"  : \"water\",\n",
        "    \"gleba\" : \"soil\"\n",
        "    }\n",
        "\n",
        "print(len(polEngDict))    # outputs: 3\n",
        "del polEngDict[\"zamek\"]    # remove an item\n",
        "print(len(polEngDict))    # outputs: 2\n",
        "\n",
        "polEngDict.clear()   # removes all the items\n",
        "print(len(polEngDict))    # outputs: 0\n",
        "\n",
        "del polEngDict    # removes the dictionary\n",
        "```\n",
        "\n",
        "9. To copy a dictionary, use the copy() method:\n",
        "\n",
        "```python\n",
        "polEngDict = {\n",
        "    \"zamek\" : \"castle\",\n",
        "    \"woda\"  : \"water\",\n",
        "    \"gleba\" : \"soil\"\n",
        "    }\n",
        "\n",
        "copyDict = polEngDict.copy()\n",
        "```"
      ]
    },
    {
      "cell_type": "markdown",
      "metadata": {
        "id": "CLscuOuTEodf"
      },
      "source": [
        "# Key Takeaways"
      ]
    },
    {
      "cell_type": "code",
      "execution_count": 52,
      "metadata": {
        "colab": {
          "base_uri": "https://localhost:8080/"
        },
        "id": "AnFmhkdgEodf",
        "outputId": "6da201ae-22bf-48de-a4a2-ae252cc94866"
      },
      "outputs": [
        {
          "output_type": "stream",
          "name": "stdout",
          "text": [
            "None\n",
            "[5, 6]\n",
            "(3, 4)\n",
            "a string\n",
            "True\n",
            "2\n",
            "1\n"
          ]
        }
      ],
      "source": [
        "myTuple = (1, 2, True, \"a string\", (3, 4), [5, 6], None)\n",
        "#print(myTuple)\n",
        "\n",
        "myList = [1, 2, True, \"a string\", (3, 4), [5, 6], None]\n",
        "#print(myList)\n",
        "\n",
        "for r in myTuple[::-1]:\n",
        "    print(r)"
      ]
    },
    {
      "cell_type": "code",
      "execution_count": 53,
      "metadata": {
        "colab": {
          "base_uri": "https://localhost:8080/"
        },
        "id": "50G4BFZnEodg",
        "outputId": "4515494f-6d94-46a7-9ff9-96f132c558f8"
      },
      "outputs": [
        {
          "output_type": "stream",
          "name": "stdout",
          "text": [
            "<class 'tuple'>\n"
          ]
        }
      ],
      "source": [
        "emptyTuple = ()\n",
        "print(type(emptyTuple))    # outputs: <class 'tuple'>"
      ]
    },
    {
      "cell_type": "code",
      "execution_count": 54,
      "metadata": {
        "colab": {
          "base_uri": "https://localhost:8080/"
        },
        "id": "4Mxlsbg0Eodg",
        "outputId": "a6cb3606-1d4f-4b5e-c00b-ff2510195b45"
      },
      "outputs": [
        {
          "output_type": "stream",
          "name": "stdout",
          "text": [
            "[1, 2, True, 'a string', (3, 4), [5, 6], None]\n",
            "(1, 2, True, 'a string', (3, 4), [5, 6], None)\n"
          ]
        }
      ],
      "source": [
        "myListTuple = list(myTuple)\n",
        "print(myListTuple)\n",
        "myTupleLagi = tuple(myListTuple)\n",
        "print(myTupleLagi)"
      ]
    },
    {
      "cell_type": "code",
      "execution_count": 55,
      "metadata": {
        "colab": {
          "base_uri": "https://localhost:8080/"
        },
        "id": "LcxLP-r8Eodg",
        "outputId": "f4c6eba2-e931-45f9-e709-d9f6b058fa9e"
      },
      "outputs": [
        {
          "output_type": "stream",
          "name": "stdout",
          "text": [
            "<class 'tuple'>\n",
            "2\n",
            "<class 'list'>\n"
          ]
        }
      ],
      "source": [
        "oneElemTup1 = (\"one\",  )    # brackets dan koma, kalau tidak ada komanya jadi string\n",
        "oneElemTup2 = \"one\",     # no brackets, just a comma\n",
        "\n",
        "print(type(oneElemTup1))\n",
        "print(len(oneElemTup1+oneElemTup2))\n",
        "\n",
        "oneElemList = ['one']\n",
        "print(type(oneElemList))"
      ]
    },
    {
      "cell_type": "code",
      "execution_count": 56,
      "metadata": {
        "colab": {
          "base_uri": "https://localhost:8080/"
        },
        "id": "tMMGfkhjEodg",
        "outputId": "1e903bf5-536a-4dce-857d-dc1b6c4ffe56"
      },
      "outputs": [
        {
          "output_type": "stream",
          "name": "stdout",
          "text": [
            "1\n",
            "2\n",
            "3\n",
            "False\n",
            "True\n",
            "4\n",
            "(1, 2, 3, 1, 2, 3, 4)\n",
            "(1, 2, 3, 5, 1, 2, 3, 5)\n"
          ]
        }
      ],
      "source": [
        "# Example 1\n",
        "t1 = (1, 2, 3)\n",
        "for elem in t1:\n",
        "    print(elem)\n",
        "\n",
        "# Example 2\n",
        "t2 = (1, 2, 3, 4)\n",
        "print(5 in t2)\n",
        "print(5 not in t2)\n",
        "\n",
        "# Example 3\n",
        "t3 = (1, 2, 3, 5)\n",
        "print(len(t3))\n",
        "\n",
        "# Example 4\n",
        "t4 = t1 + t2\n",
        "t5 = t3 * 2\n",
        "\n",
        "print(t4)\n",
        "print(t5)\n"
      ]
    },
    {
      "cell_type": "code",
      "execution_count": 58,
      "metadata": {
        "colab": {
          "base_uri": "https://localhost:8080/"
        },
        "id": "lWpLMGHaEodg",
        "outputId": "ac93c4dd-4dae-4910-c95f-6fdd535da606"
      },
      "outputs": [
        {
          "output_type": "stream",
          "name": "stdout",
          "text": [
            "79\n"
          ]
        }
      ],
      "source": [
        "import pprint\n",
        "pp = pprint.PrettyPrinter(indent=4)\n",
        "\n",
        "mahasiswa = [\n",
        "    {\n",
        "        'nim' : '08/123123/PA/123213',\n",
        "        'nama' : 'Naufal Arsya',\n",
        "        'nilai' : [80,90,75,30]\n",
        "    },\n",
        "    {\n",
        "        'nim' : '08/213123/PA/98120',\n",
        "        'nama' : 'Arsya Pradana',\n",
        "        'nilai' : [100,90,77,110]\n",
        "    }\n",
        "]\n",
        "mahasiswa_baru = {\n",
        "    'nim' : '12/12414/PA/12312',\n",
        "    'nama' : 'Arsyaputra'\n",
        "}\n",
        "\n",
        "mahasiswa.append(mahasiswa_baru)\n",
        "mahasiswa[0]['nilai'].append(79)\n",
        "mahasiswa[2]['nilai'] = [80,100,95,25]\n",
        "\n",
        "#pp.pprint(mahasiswa)\n",
        "pp.pprint(mahasiswa[0]['nilai'][-1])"
      ]
    },
    {
      "cell_type": "code",
      "source": [
        "sinonim = open('files/sinonim.txt','r')\n",
        "i = 1\n",
        "for s in sinonim:\n",
        "#     print(s)\n",
        "    baris = s.split(':')\n",
        "    print(baris)\n",
        "    kata = baris[1].split(',')\n",
        "    print(baris[0],kata)"
      ],
      "metadata": {
        "id": "XdQTSjHpuNaE"
      },
      "execution_count": null,
      "outputs": []
    },
    {
      "cell_type": "code",
      "execution_count": 63,
      "metadata": {
        "colab": {
          "base_uri": "https://localhost:8080/"
        },
        "id": "mTq3XLkOEodh",
        "outputId": "e56d90d6-e207-4382-824a-7b2ef2e3c82e"
      },
      "outputs": [
        {
          "output_type": "stream",
          "name": "stdout",
          "text": [
            "['indah', 'cantik,elok,permai']\n",
            "indah ['cantik', 'elok', 'permai']\n",
            "['baik', 'bagus,apik,saleh']\n",
            "baik ['bagus', 'apik', 'saleh']\n",
            "['pintar', 'cerdas,pandai,brilian']\n",
            "pintar ['cerdas', 'pandai', 'brilian']\n",
            "['cepat', 'laju,tangkas,gesit']\n",
            "cepat ['laju', 'tangkas', 'gesit']\n"
          ]
        }
      ],
      "source": [
        "sinonim = \"\"\"\n",
        "indah:cantik,elok,permai\n",
        "baik:bagus,apik,saleh\n",
        "pintar:cerdas,pandai,brilian\n",
        "cepat:laju,tangkas,gesit\n",
        "\"\"\"\n",
        "for s in sinonim.strip().split('\\n'):\n",
        "#     print(s)\n",
        "    baris = s.split(':')\n",
        "    print(baris)\n",
        "    if len(baris) > 1:\n",
        "        kata = baris[1].split(',')\n",
        "        print(baris[0],kata)\n",
        "    else:\n",
        "        print(\"Line does not contain ':' :\", baris)"
      ]
    },
    {
      "cell_type": "markdown",
      "metadata": {
        "id": "vl1W0_RcEodh"
      },
      "source": [
        "sebuah_dict = {'Miftah':'Kurus'}\n",
        "sebuah_dict['Miftah'] += ',Cantik'\n",
        "print(sebuah_dict)"
      ]
    },
    {
      "cell_type": "code",
      "execution_count": 64,
      "metadata": {
        "colab": {
          "base_uri": "https://localhost:8080/"
        },
        "id": "ME9-b4IcEodh",
        "outputId": "843b0f2c-34be-426c-f540-b3c01528ab99"
      },
      "outputs": [
        {
          "output_type": "stream",
          "name": "stdout",
          "text": [
            "Ada dunia pada kalimat \n",
            "Kisah ini bermula dari seorang dewa dan seorang dewi yang karena kesalahan yang dibuatnya di kayangan, akhirnya harus menjalani hukuman di dunia\n",
            "Ada dunia pada kalimat  Keduanya dihukum untuk berbuat kebaikan dalam hidupnya di bumi dalam bentuk seekor babi hutan dan seekor anjing\n",
            "Ada dunia pada kalimat  Babi hutan jelmaan dewi itu bernama Wayung Hyang, sedangkan anjing jelmaan dewa itu bernama Tumang\n",
            "Ada dunia pada kalimat  Wayung Hyang karena dihukum sebagai babi hutan atau celeng, maka ia berusaha melakukan berbagai kebaikan di dalam sebuah hutan\n",
            "Ada dunia pada kalimat  Sementara Tumang, sang anjing jelmaan dewa itu mengabdi sebagai anjing pemburu pada seorang raja yang bernama Sumbing Perbangkara\n",
            "Ada dunia pada kalimat \n",
            "\n"
          ]
        }
      ],
      "source": [
        "paragraf = \"\"\"\n",
        "Kisah ini bermula dari seorang dewa dan seorang dewi yang karena kesalahan yang dibuatnya di kayangan, akhirnya harus menjalani hukuman di dunia. Keduanya dihukum untuk berbuat kebaikan dalam hidupnya di bumi dalam bentuk seekor babi hutan dan seekor anjing. Babi hutan jelmaan dewi itu bernama Wayung Hyang, sedangkan anjing jelmaan dewa itu bernama Tumang. Wayung Hyang karena dihukum sebagai babi hutan atau celeng, maka ia berusaha melakukan berbagai kebaikan di dalam sebuah hutan. Sementara Tumang, sang anjing jelmaan dewa itu mengabdi sebagai anjing pemburu pada seorang raja yang bernama Sumbing Perbangkara.\n",
        "\"\"\"\n",
        "\n",
        "#sintaks ini\n",
        "kalimat = [k.strip().upper() for k in paragraf.split('.')] #memisahkan kalimat berdasarkan titik untuk menjadi list\n",
        "# print(kalimat)\n",
        "\n",
        "#sama dengan ini\n",
        "kalimat_baru = []\n",
        "for k in paragraf.split('.'):\n",
        "    kalimat_baru.append(k.strip())\n",
        "#     if k.endswith('dunia'):\n",
        "#         print(\"Ada Dunia pada kalimat\",k)\n",
        "\n",
        "    if k.find('dunia'):\n",
        "        print(\"Ada dunia pada kalimat\",k)\n",
        "\n",
        "\n",
        "#versi satu satu\n",
        "kalimat_a = paragraf.split('.') #memisahkan kalimat berdasarkan titik di paragraf\n",
        "kalimat_a[1] =  kalimat_a[1].strip() #menghilangkan spasi\n",
        "kalimat_a[2] =  kalimat_a[2].strip() #menghilangkan spasi\n",
        "\n",
        "\n"
      ]
    },
    {
      "cell_type": "code",
      "execution_count": 65,
      "metadata": {
        "colab": {
          "base_uri": "https://localhost:8080/"
        },
        "id": "vTsjMgqpEodh",
        "outputId": "bca4eea9-30cd-4659-ef9f-698b809ee3af"
      },
      "outputs": [
        {
          "output_type": "stream",
          "name": "stdout",
          "text": [
            "Arsya pradana \n",
            "False\n"
          ]
        }
      ],
      "source": [
        "k = \"arsya pradana \"\n",
        "print(k.capitalize())\n",
        "print(k.endswith(\"naufal arsya\"))\n"
      ]
    }
  ],
  "metadata": {
    "kernelspec": {
      "display_name": "Python 3 (ipykernel)",
      "language": "python",
      "name": "python3"
    },
    "language_info": {
      "codemirror_mode": {
        "name": "ipython",
        "version": 3
      },
      "file_extension": ".py",
      "mimetype": "text/x-python",
      "name": "python",
      "nbconvert_exporter": "python",
      "pygments_lexer": "ipython3",
      "version": "3.9.5"
    },
    "colab": {
      "provenance": []
    }
  },
  "nbformat": 4,
  "nbformat_minor": 0
}